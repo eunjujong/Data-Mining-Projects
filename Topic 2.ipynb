{
 "cells": [
  {
   "cell_type": "markdown",
   "metadata": {},
   "source": [
    "# Topic 2\n",
    "##  Algae Dataset"
   ]
  },
  {
   "cell_type": "code",
   "execution_count": 5,
   "metadata": {
    "scrolled": true
   },
   "outputs": [
    {
     "data": {
      "text/html": [
       "<table>\n",
       "<thead><tr><th scope=col>season</th><th scope=col>size</th><th scope=col>speed</th><th scope=col>mxPH</th><th scope=col>mnO2</th><th scope=col>Cl</th><th scope=col>NO3</th><th scope=col>NH4</th><th scope=col>oPO4</th><th scope=col>PO4</th><th scope=col>Chla</th><th scope=col>a1</th><th scope=col>a2</th><th scope=col>a3</th><th scope=col>a4</th><th scope=col>a5</th><th scope=col>a6</th><th scope=col>a7</th></tr></thead>\n",
       "<tbody>\n",
       "\t<tr><td>winter </td><td>small  </td><td>medium </td><td>8.00   </td><td> 9.8   </td><td>60.800 </td><td> 6.238 </td><td>578.000</td><td>105.000</td><td>170.000</td><td>50.0   </td><td> 0.0   </td><td> 0.0   </td><td> 0.0   </td><td>0.0    </td><td>34.2   </td><td> 8.3   </td><td>0.0    </td></tr>\n",
       "\t<tr><td>spring </td><td>small  </td><td>medium </td><td>8.35   </td><td> 8.0   </td><td>57.750 </td><td> 1.288 </td><td>370.000</td><td>428.750</td><td>558.750</td><td> 1.3   </td><td> 1.4   </td><td> 7.6   </td><td> 4.8   </td><td>1.9    </td><td> 6.7   </td><td> 0.0   </td><td>2.1    </td></tr>\n",
       "\t<tr><td>autumn </td><td>small  </td><td>medium </td><td>8.10   </td><td>11.4   </td><td>40.020 </td><td> 5.330 </td><td>346.667</td><td>125.667</td><td>187.057</td><td>15.6   </td><td> 3.3   </td><td>53.6   </td><td> 1.9   </td><td>0.0    </td><td> 0.0   </td><td> 0.0   </td><td>9.7    </td></tr>\n",
       "\t<tr><td>spring </td><td>small  </td><td>medium </td><td>8.07   </td><td> 4.8   </td><td>77.364 </td><td> 2.302 </td><td> 98.182</td><td> 61.182</td><td>138.700</td><td> 1.4   </td><td> 3.1   </td><td>41.0   </td><td>18.9   </td><td>0.0    </td><td> 1.4   </td><td> 0.0   </td><td>1.4    </td></tr>\n",
       "\t<tr><td>autumn </td><td>small  </td><td>medium </td><td>8.06   </td><td> 9.0   </td><td>55.350 </td><td>10.416 </td><td>233.700</td><td> 58.222</td><td> 97.580</td><td>10.5   </td><td> 9.2   </td><td> 2.9   </td><td> 7.5   </td><td>0.0    </td><td> 7.5   </td><td> 4.1   </td><td>1.0    </td></tr>\n",
       "\t<tr><td>winter </td><td>small  </td><td>high   </td><td>8.25   </td><td>13.1   </td><td>65.750 </td><td> 9.248 </td><td>430.000</td><td> 18.250</td><td> 56.667</td><td>28.4   </td><td>15.1   </td><td>14.6   </td><td> 1.4   </td><td>0.0    </td><td>22.5   </td><td>12.6   </td><td>2.9    </td></tr>\n",
       "</tbody>\n",
       "</table>\n"
      ],
      "text/latex": [
       "\\begin{tabular}{r|llllllllllllllllll}\n",
       " season & size & speed & mxPH & mnO2 & Cl & NO3 & NH4 & oPO4 & PO4 & Chla & a1 & a2 & a3 & a4 & a5 & a6 & a7\\\\\n",
       "\\hline\n",
       "\t winter  & small   & medium  & 8.00    &  9.8    & 60.800  &  6.238  & 578.000 & 105.000 & 170.000 & 50.0    &  0.0    &  0.0    &  0.0    & 0.0     & 34.2    &  8.3    & 0.0    \\\\\n",
       "\t spring  & small   & medium  & 8.35    &  8.0    & 57.750  &  1.288  & 370.000 & 428.750 & 558.750 &  1.3    &  1.4    &  7.6    &  4.8    & 1.9     &  6.7    &  0.0    & 2.1    \\\\\n",
       "\t autumn  & small   & medium  & 8.10    & 11.4    & 40.020  &  5.330  & 346.667 & 125.667 & 187.057 & 15.6    &  3.3    & 53.6    &  1.9    & 0.0     &  0.0    &  0.0    & 9.7    \\\\\n",
       "\t spring  & small   & medium  & 8.07    &  4.8    & 77.364  &  2.302  &  98.182 &  61.182 & 138.700 &  1.4    &  3.1    & 41.0    & 18.9    & 0.0     &  1.4    &  0.0    & 1.4    \\\\\n",
       "\t autumn  & small   & medium  & 8.06    &  9.0    & 55.350  & 10.416  & 233.700 &  58.222 &  97.580 & 10.5    &  9.2    &  2.9    &  7.5    & 0.0     &  7.5    &  4.1    & 1.0    \\\\\n",
       "\t winter  & small   & high    & 8.25    & 13.1    & 65.750  &  9.248  & 430.000 &  18.250 &  56.667 & 28.4    & 15.1    & 14.6    &  1.4    & 0.0     & 22.5    & 12.6    & 2.9    \\\\\n",
       "\\end{tabular}\n"
      ],
      "text/markdown": [
       "\n",
       "season | size | speed | mxPH | mnO2 | Cl | NO3 | NH4 | oPO4 | PO4 | Chla | a1 | a2 | a3 | a4 | a5 | a6 | a7 | \n",
       "|---|---|---|---|---|---|\n",
       "| winter  | small   | medium  | 8.00    |  9.8    | 60.800  |  6.238  | 578.000 | 105.000 | 170.000 | 50.0    |  0.0    |  0.0    |  0.0    | 0.0     | 34.2    |  8.3    | 0.0     | \n",
       "| spring  | small   | medium  | 8.35    |  8.0    | 57.750  |  1.288  | 370.000 | 428.750 | 558.750 |  1.3    |  1.4    |  7.6    |  4.8    | 1.9     |  6.7    |  0.0    | 2.1     | \n",
       "| autumn  | small   | medium  | 8.10    | 11.4    | 40.020  |  5.330  | 346.667 | 125.667 | 187.057 | 15.6    |  3.3    | 53.6    |  1.9    | 0.0     |  0.0    |  0.0    | 9.7     | \n",
       "| spring  | small   | medium  | 8.07    |  4.8    | 77.364  |  2.302  |  98.182 |  61.182 | 138.700 |  1.4    |  3.1    | 41.0    | 18.9    | 0.0     |  1.4    |  0.0    | 1.4     | \n",
       "| autumn  | small   | medium  | 8.06    |  9.0    | 55.350  | 10.416  | 233.700 |  58.222 |  97.580 | 10.5    |  9.2    |  2.9    |  7.5    | 0.0     |  7.5    |  4.1    | 1.0     | \n",
       "| winter  | small   | high    | 8.25    | 13.1    | 65.750  |  9.248  | 430.000 |  18.250 |  56.667 | 28.4    | 15.1    | 14.6    |  1.4    | 0.0     | 22.5    | 12.6    | 2.9     | \n",
       "\n",
       "\n"
      ],
      "text/plain": [
       "  season size  speed  mxPH mnO2 Cl     NO3    NH4     oPO4    PO4     Chla a1  \n",
       "1 winter small medium 8.00  9.8 60.800  6.238 578.000 105.000 170.000 50.0  0.0\n",
       "2 spring small medium 8.35  8.0 57.750  1.288 370.000 428.750 558.750  1.3  1.4\n",
       "3 autumn small medium 8.10 11.4 40.020  5.330 346.667 125.667 187.057 15.6  3.3\n",
       "4 spring small medium 8.07  4.8 77.364  2.302  98.182  61.182 138.700  1.4  3.1\n",
       "5 autumn small medium 8.06  9.0 55.350 10.416 233.700  58.222  97.580 10.5  9.2\n",
       "6 winter small high   8.25 13.1 65.750  9.248 430.000  18.250  56.667 28.4 15.1\n",
       "  a2   a3   a4  a5   a6   a7 \n",
       "1  0.0  0.0 0.0 34.2  8.3 0.0\n",
       "2  7.6  4.8 1.9  6.7  0.0 2.1\n",
       "3 53.6  1.9 0.0  0.0  0.0 9.7\n",
       "4 41.0 18.9 0.0  1.4  0.0 1.4\n",
       "5  2.9  7.5 0.0  7.5  4.1 1.0\n",
       "6 14.6  1.4 0.0 22.5 12.6 2.9"
      ]
     },
     "metadata": {},
     "output_type": "display_data"
    }
   ],
   "source": [
    "library(repr)\n",
    "\n",
    "algae <- read.csv(\"algae.csv\")\n",
    "head(algae)"
   ]
  },
  {
   "cell_type": "markdown",
   "metadata": {},
   "source": [
    "### Qs:\n",
    "- The flow speed  of algae by season.\n",
    "- mxPH/mnO2/Cl/NO3/NH4/oPO4/PO4/Chla level by season/size of a river.\n",
    "- Speed of a rivers in each stage\n",
    "- Size of a river in each stage\n",
    "- Distinctive features by stage of a river depending on a season"
   ]
  },
  {
   "cell_type": "code",
   "execution_count": 6,
   "metadata": {},
   "outputs": [
    {
     "data": {
      "text/plain": [
       "    season       size       speed         mxPH            mnO2       \n",
       " autumn:40   large :45   high  :84   Min.   :5.600   Min.   : 1.500  \n",
       " spring:53   medium:84   low   :33   1st Qu.:7.700   1st Qu.: 7.725  \n",
       " summer:45   small :71   medium:83   Median :8.060   Median : 9.800  \n",
       " winter:62                           Mean   :8.012   Mean   : 9.118  \n",
       "                                     3rd Qu.:8.400   3rd Qu.:10.800  \n",
       "                                     Max.   :9.700   Max.   :13.400  \n",
       "                                     NA's   :1       NA's   :2       \n",
       "       Cl               NO3              NH4                oPO4       \n",
       " Min.   :  0.222   Min.   : 0.050   Min.   :    5.00   Min.   :  1.00  \n",
       " 1st Qu.: 10.981   1st Qu.: 1.296   1st Qu.:   38.33   1st Qu.: 15.70  \n",
       " Median : 32.730   Median : 2.675   Median :  103.17   Median : 40.15  \n",
       " Mean   : 43.636   Mean   : 3.282   Mean   :  501.30   Mean   : 73.59  \n",
       " 3rd Qu.: 57.824   3rd Qu.: 4.446   3rd Qu.:  226.95   3rd Qu.: 99.33  \n",
       " Max.   :391.500   Max.   :45.650   Max.   :24064.00   Max.   :564.60  \n",
       " NA's   :10        NA's   :2        NA's   :2          NA's   :2       \n",
       "      PO4              Chla               a1              a2        \n",
       " Min.   :  1.00   Min.   :  0.200   Min.   : 0.00   Min.   : 0.000  \n",
       " 1st Qu.: 41.38   1st Qu.:  2.000   1st Qu.: 1.50   1st Qu.: 0.000  \n",
       " Median :103.29   Median :  5.475   Median : 6.95   Median : 3.000  \n",
       " Mean   :137.88   Mean   : 13.971   Mean   :16.92   Mean   : 7.458  \n",
       " 3rd Qu.:213.75   3rd Qu.: 18.308   3rd Qu.:24.80   3rd Qu.:11.375  \n",
       " Max.   :771.60   Max.   :110.456   Max.   :89.80   Max.   :72.600  \n",
       " NA's   :2        NA's   :12                                        \n",
       "       a3               a4               a5               a6        \n",
       " Min.   : 0.000   Min.   : 0.000   Min.   : 0.000   Min.   : 0.000  \n",
       " 1st Qu.: 0.000   1st Qu.: 0.000   1st Qu.: 0.000   1st Qu.: 0.000  \n",
       " Median : 1.550   Median : 0.000   Median : 1.900   Median : 0.000  \n",
       " Mean   : 4.309   Mean   : 1.992   Mean   : 5.064   Mean   : 5.964  \n",
       " 3rd Qu.: 4.925   3rd Qu.: 2.400   3rd Qu.: 7.500   3rd Qu.: 6.925  \n",
       " Max.   :42.800   Max.   :44.600   Max.   :44.400   Max.   :77.600  \n",
       "                                                                    \n",
       "       a7        \n",
       " Min.   : 0.000  \n",
       " 1st Qu.: 0.000  \n",
       " Median : 1.000  \n",
       " Mean   : 2.495  \n",
       " 3rd Qu.: 2.400  \n",
       " Max.   :31.600  \n",
       "                 "
      ]
     },
     "metadata": {},
     "output_type": "display_data"
    }
   ],
   "source": [
    "summary(algae)"
   ]
  },
  {
   "cell_type": "code",
   "execution_count": 7,
   "metadata": {},
   "outputs": [
    {
     "data": {
      "text/html": [
       "<table>\n",
       "<thead><tr><th></th><th scope=col>season</th><th scope=col>size</th><th scope=col>speed</th><th scope=col>mxPH</th><th scope=col>mnO2</th><th scope=col>Cl</th><th scope=col>NO3</th><th scope=col>NH4</th><th scope=col>oPO4</th><th scope=col>PO4</th><th scope=col>Chla</th><th scope=col>a1</th><th scope=col>a2</th><th scope=col>a3</th><th scope=col>a4</th><th scope=col>a5</th><th scope=col>a6</th><th scope=col>a7</th></tr></thead>\n",
       "<tbody>\n",
       "\t<tr><th scope=row>1</th><td>winter  </td><td>small   </td><td>medium  </td><td>8.00    </td><td> 9.8    </td><td>60.800  </td><td> 6.238  </td><td> 578.000</td><td>105.000 </td><td>170.000 </td><td>50.000  </td><td> 0.0    </td><td> 0.0    </td><td> 0.0    </td><td> 0.0    </td><td>34.2    </td><td> 8.3    </td><td>0.0     </td></tr>\n",
       "\t<tr><th scope=row>2</th><td>spring  </td><td>small   </td><td>medium  </td><td>8.35    </td><td> 8.0    </td><td>57.750  </td><td> 1.288  </td><td> 370.000</td><td>428.750 </td><td>558.750 </td><td> 1.300  </td><td> 1.4    </td><td> 7.6    </td><td> 4.8    </td><td> 1.9    </td><td> 6.7    </td><td> 0.0    </td><td>2.1     </td></tr>\n",
       "\t<tr><th scope=row>3</th><td>autumn  </td><td>small   </td><td>medium  </td><td>8.10    </td><td>11.4    </td><td>40.020  </td><td> 5.330  </td><td> 346.667</td><td>125.667 </td><td>187.057 </td><td>15.600  </td><td> 3.3    </td><td>53.6    </td><td> 1.9    </td><td> 0.0    </td><td> 0.0    </td><td> 0.0    </td><td>9.7     </td></tr>\n",
       "\t<tr><th scope=row>4</th><td>spring  </td><td>small   </td><td>medium  </td><td>8.07    </td><td> 4.8    </td><td>77.364  </td><td> 2.302  </td><td>  98.182</td><td> 61.182 </td><td>138.700 </td><td> 1.400  </td><td> 3.1    </td><td>41.0    </td><td>18.9    </td><td> 0.0    </td><td> 1.4    </td><td> 0.0    </td><td>1.4     </td></tr>\n",
       "\t<tr><th scope=row>5</th><td>autumn  </td><td>small   </td><td>medium  </td><td>8.06    </td><td> 9.0    </td><td>55.350  </td><td>10.416  </td><td> 233.700</td><td> 58.222 </td><td> 97.580 </td><td>10.500  </td><td> 9.2    </td><td> 2.9    </td><td> 7.5    </td><td> 0.0    </td><td> 7.5    </td><td> 4.1    </td><td>1.0     </td></tr>\n",
       "\t<tr><th scope=row>6</th><td>winter  </td><td>small   </td><td>high    </td><td>8.25    </td><td>13.1    </td><td>65.750  </td><td> 9.248  </td><td> 430.000</td><td> 18.250 </td><td> 56.667 </td><td>28.400  </td><td>15.1    </td><td>14.6    </td><td> 1.4    </td><td> 0.0    </td><td>22.5    </td><td>12.6    </td><td>2.9     </td></tr>\n",
       "\t<tr><th scope=row>7</th><td>summer  </td><td>small   </td><td>high    </td><td>8.15    </td><td>10.3    </td><td>73.250  </td><td> 1.535  </td><td> 110.000</td><td> 61.250 </td><td>111.750 </td><td> 3.200  </td><td> 2.4    </td><td> 1.2    </td><td> 3.2    </td><td> 3.9    </td><td> 5.8    </td><td> 6.8    </td><td>0.0     </td></tr>\n",
       "\t<tr><th scope=row>8</th><td>autumn  </td><td>small   </td><td>high    </td><td>8.05    </td><td>10.6    </td><td>59.067  </td><td> 4.990  </td><td> 205.667</td><td> 44.667 </td><td> 77.434 </td><td> 6.900  </td><td>18.2    </td><td> 1.6    </td><td> 0.0    </td><td> 0.0    </td><td> 5.5    </td><td> 8.7    </td><td>0.0     </td></tr>\n",
       "\t<tr><th scope=row>9</th><td>winter  </td><td>small   </td><td>medium  </td><td>8.70    </td><td> 3.4    </td><td>21.950  </td><td> 0.886  </td><td> 102.750</td><td> 36.300 </td><td> 71.000 </td><td> 5.544  </td><td>25.4    </td><td> 5.4    </td><td> 2.5    </td><td> 0.0    </td><td> 0.0    </td><td> 0.0    </td><td>0.0     </td></tr>\n",
       "\t<tr><th scope=row>10</th><td>winter  </td><td>small   </td><td>high    </td><td>7.93    </td><td> 9.9    </td><td> 8.000  </td><td> 1.390  </td><td>   5.800</td><td> 27.250 </td><td> 46.600 </td><td> 0.800  </td><td>17.0    </td><td> 0.0    </td><td> 0.0    </td><td> 2.9    </td><td> 0.0    </td><td> 0.0    </td><td>1.7     </td></tr>\n",
       "\t<tr><th scope=row>11</th><td>spring  </td><td>small   </td><td>high    </td><td>7.70    </td><td>10.2    </td><td> 8.000  </td><td> 1.527  </td><td>  21.571</td><td> 12.750 </td><td> 20.750 </td><td> 0.800  </td><td>16.6    </td><td> 0.0    </td><td> 0.0    </td><td> 0.0    </td><td> 1.2    </td><td> 0.0    </td><td>6.0     </td></tr>\n",
       "\t<tr><th scope=row>12</th><td>summer  </td><td>small   </td><td>high    </td><td>7.45    </td><td>11.7    </td><td> 8.690  </td><td> 1.588  </td><td>  18.429</td><td> 10.667 </td><td> 19.000 </td><td> 0.600  </td><td>32.1    </td><td> 0.0    </td><td> 0.0    </td><td> 0.0    </td><td> 0.0    </td><td> 0.0    </td><td>1.5     </td></tr>\n",
       "\t<tr><th scope=row>13</th><td>winter  </td><td>small   </td><td>high    </td><td>7.74    </td><td> 9.6    </td><td> 5.000  </td><td> 1.223  </td><td>  27.286</td><td> 12.000 </td><td> 17.000 </td><td>41.000  </td><td>43.5    </td><td> 0.0    </td><td> 2.1    </td><td> 0.0    </td><td> 1.2    </td><td> 0.0    </td><td>2.1     </td></tr>\n",
       "\t<tr><th scope=row>14</th><td>summer  </td><td>small   </td><td>high    </td><td>7.72    </td><td>11.8    </td><td> 6.300  </td><td> 1.470  </td><td>   8.000</td><td> 16.000 </td><td> 15.000 </td><td> 0.500  </td><td>31.1    </td><td> 1.0    </td><td> 3.4    </td><td> 0.0    </td><td> 1.9    </td><td> 0.0    </td><td>4.1     </td></tr>\n",
       "\t<tr><th scope=row>15</th><td>winter  </td><td>small   </td><td>high    </td><td>7.90    </td><td> 9.6    </td><td> 3.000  </td><td> 1.448  </td><td>  46.200</td><td> 13.000 </td><td> 61.600 </td><td> 0.300  </td><td>52.2    </td><td> 5.0    </td><td> 7.8    </td><td> 0.0    </td><td> 4.0    </td><td> 0.0    </td><td>0.0     </td></tr>\n",
       "\t<tr><th scope=row>16</th><td>autumn  </td><td>small   </td><td>high    </td><td>7.55    </td><td>11.5    </td><td> 4.700  </td><td> 1.320  </td><td>  14.750</td><td>  4.250 </td><td> 98.250 </td><td> 1.100  </td><td>69.9    </td><td> 0.0    </td><td> 1.7    </td><td> 0.0    </td><td> 0.0    </td><td> 0.0    </td><td>0.0     </td></tr>\n",
       "\t<tr><th scope=row>17</th><td>winter  </td><td>small   </td><td>high    </td><td>7.78    </td><td>12.0    </td><td> 7.000  </td><td> 1.420  </td><td>  34.333</td><td> 18.667 </td><td> 50.000 </td><td> 1.100  </td><td>46.2    </td><td> 0.0    </td><td> 0.0    </td><td> 1.2    </td><td> 0.0    </td><td> 0.0    </td><td>0.0     </td></tr>\n",
       "\t<tr><th scope=row>18</th><td>spring  </td><td>small   </td><td>high    </td><td>7.61    </td><td> 9.8    </td><td> 7.000  </td><td> 1.443  </td><td>  31.333</td><td> 20.000 </td><td> 57.833 </td><td> 0.400  </td><td>31.8    </td><td> 0.0    </td><td> 3.1    </td><td> 4.8    </td><td> 7.7    </td><td> 1.4    </td><td>7.2     </td></tr>\n",
       "\t<tr><th scope=row>19</th><td>summer  </td><td>small   </td><td>high    </td><td>7.35    </td><td>10.4    </td><td> 7.000  </td><td> 1.718  </td><td>  49.000</td><td> 41.500 </td><td> 61.500 </td><td> 0.800  </td><td>50.6    </td><td> 0.0    </td><td> 9.9    </td><td> 4.3    </td><td> 3.6    </td><td> 8.2    </td><td>2.2     </td></tr>\n",
       "\t<tr><th scope=row>20</th><td>spring  </td><td>small   </td><td>medium  </td><td>7.79    </td><td> 3.2    </td><td>64.000  </td><td> 2.822  </td><td>8777.600</td><td>564.600 </td><td>771.600 </td><td> 4.500  </td><td> 0.0    </td><td> 0.0    </td><td> 0.0    </td><td>44.6    </td><td> 0.0    </td><td> 0.0    </td><td>1.4     </td></tr>\n",
       "\t<tr><th scope=row>21</th><td>winter  </td><td>small   </td><td>medium  </td><td>7.83    </td><td>10.7    </td><td>88.000  </td><td> 4.825  </td><td>1729.000</td><td>467.500 </td><td>586.000 </td><td>16.000  </td><td> 0.0    </td><td> 0.0    </td><td> 0.0    </td><td> 6.8    </td><td> 6.1    </td><td> 0.0    </td><td>0.0     </td></tr>\n",
       "\t<tr><th scope=row>22</th><td>spring  </td><td>small   </td><td>high    </td><td>7.20    </td><td> 9.2    </td><td> 0.800  </td><td> 0.642  </td><td>  81.000</td><td> 15.600 </td><td> 18.000 </td><td> 0.500  </td><td>15.5    </td><td> 0.0    </td><td> 0.0    </td><td> 2.3    </td><td> 0.0    </td><td> 0.0    </td><td>0.0     </td></tr>\n",
       "\t<tr><th scope=row>23</th><td>autumn  </td><td>small   </td><td>high    </td><td>7.75    </td><td>10.3    </td><td>32.920  </td><td> 2.942  </td><td>  42.000</td><td> 16.000 </td><td> 40.000 </td><td> 7.600  </td><td>23.2    </td><td> 0.0    </td><td> 0.0    </td><td> 0.0    </td><td>27.6    </td><td>11.1    </td><td>0.0     </td></tr>\n",
       "\t<tr><th scope=row>24</th><td>winter  </td><td>small   </td><td>high    </td><td>7.62    </td><td> 8.5    </td><td>11.867  </td><td> 1.715  </td><td> 208.333</td><td>  3.000 </td><td> 27.500 </td><td> 1.700  </td><td>74.2    </td><td> 0.0    </td><td> 0.0    </td><td> 3.7    </td><td> 0.0    </td><td> 0.0    </td><td>0.0     </td></tr>\n",
       "\t<tr><th scope=row>25</th><td>spring  </td><td>small   </td><td>high    </td><td>7.84    </td><td> 9.4    </td><td>10.975  </td><td> 1.510  </td><td>  12.500</td><td>  3.000 </td><td> 11.500 </td><td> 1.500  </td><td>13.0    </td><td> 8.6    </td><td> 1.2    </td><td> 3.5    </td><td> 1.2    </td><td> 1.6    </td><td>1.9     </td></tr>\n",
       "\t<tr><th scope=row>26</th><td>summer  </td><td>small   </td><td>high    </td><td>7.77    </td><td>10.7    </td><td>12.536  </td><td> 3.976  </td><td>  58.500</td><td>  9.000 </td><td> 44.136 </td><td> 3.000  </td><td> 4.1    </td><td> 0.0    </td><td> 0.0    </td><td> 0.0    </td><td> 9.2    </td><td>10.1    </td><td>0.0     </td></tr>\n",
       "\t<tr><th scope=row>27</th><td>winter  </td><td>small   </td><td>high    </td><td>7.09    </td><td> 8.4    </td><td>10.500  </td><td> 1.572  </td><td>  28.000</td><td>  4.000 </td><td> 13.600 </td><td> 0.500  </td><td>29.7    </td><td> 0.0    </td><td> 0.0    </td><td> 4.9    </td><td> 0.0    </td><td> 0.0    </td><td>0.0     </td></tr>\n",
       "\t<tr><th scope=row>29</th><td>winter  </td><td>small   </td><td>high    </td><td>8.00    </td><td> 9.8    </td><td>16.000  </td><td> 0.730  </td><td>  20.000</td><td> 26.000 </td><td> 45.000 </td><td> 0.800  </td><td>17.1    </td><td> 0.0    </td><td>19.6    </td><td> 0.0    </td><td> 0.0    </td><td> 0.0    </td><td>2.5     </td></tr>\n",
       "\t<tr><th scope=row>30</th><td>spring  </td><td>small   </td><td>high    </td><td>7.20    </td><td>11.3    </td><td> 9.000  </td><td> 0.230  </td><td> 120.000</td><td> 12.000 </td><td> 19.000 </td><td> 0.500  </td><td>33.9    </td><td> 1.0    </td><td>14.6    </td><td> 0.0    </td><td> 0.0    </td><td> 0.0    </td><td>0.0     </td></tr>\n",
       "\t<tr><th scope=row>31</th><td>autumn  </td><td>small   </td><td>high    </td><td>7.40    </td><td>12.5    </td><td>13.000  </td><td> 3.330  </td><td>  60.000</td><td> 72.000 </td><td>142.000 </td><td> 4.900  </td><td> 3.4    </td><td>16.0    </td><td> 1.2    </td><td> 0.0    </td><td>15.3    </td><td>15.8    </td><td>0.0     </td></tr>\n",
       "\t<tr><th scope=row>...</th><td>...</td><td>...</td><td>...</td><td>...</td><td>...</td><td>...</td><td>...</td><td>...</td><td>...</td><td>...</td><td>...</td><td>...</td><td>...</td><td>...</td><td>...</td><td>...</td><td>...</td><td>...</td></tr>\n",
       "\t<tr><th scope=row>169</th><td>winter  </td><td>large   </td><td>low     </td><td>8.56    </td><td> 8.70   </td><td> 43.970 </td><td>4.053   </td><td> 643.000</td><td>221.900 </td><td>246.667 </td><td>14.700  </td><td>12.5    </td><td> 2.1    </td><td> 0.0    </td><td>1.2     </td><td> 6.4    </td><td> 4.5    </td><td>1.7     </td></tr>\n",
       "\t<tr><th scope=row>170</th><td>autumn  </td><td>large   </td><td>low     </td><td>8.06    </td><td> 8.30   </td><td> 38.902 </td><td>3.678   </td><td> 627.273</td><td>205.636 </td><td>219.909 </td><td> 6.209  </td><td> 0.0    </td><td> 0.0    </td><td> 0.0    </td><td>0.0     </td><td> 8.6    </td><td>52.5    </td><td>0.0     </td></tr>\n",
       "\t<tr><th scope=row>171</th><td>winter  </td><td>large   </td><td>medium  </td><td>8.24    </td><td> 6.10   </td><td> 95.367 </td><td>3.561   </td><td>1168.000</td><td>236.400 </td><td>272.222 </td><td>20.578  </td><td> 2.5    </td><td>13.2    </td><td> 0.0    </td><td>2.0     </td><td> 7.4    </td><td>17.2    </td><td>0.0     </td></tr>\n",
       "\t<tr><th scope=row>172</th><td>summer  </td><td>large   </td><td>medium  </td><td>7.91    </td><td> 6.20   </td><td>151.833 </td><td>3.923   </td><td>1081.660</td><td>346.167 </td><td>388.167 </td><td> 5.083  </td><td> 1.7    </td><td>12.0    </td><td> 4.9    </td><td>2.7     </td><td> 0.0    </td><td> 5.9    </td><td>1.7     </td></tr>\n",
       "\t<tr><th scope=row>173</th><td>winter  </td><td>large   </td><td>medium  </td><td>8.21    </td><td> 9.30   </td><td>104.818 </td><td>3.908   </td><td> 124.364</td><td> 82.222 </td><td>167.900 </td><td> 5.609  </td><td> 1.4    </td><td> 4.6    </td><td>10.8    </td><td>2.2     </td><td> 5.5    </td><td>42.4    </td><td>0.0     </td></tr>\n",
       "\t<tr><th scope=row>174</th><td>spring  </td><td>large   </td><td>medium  </td><td>8.50    </td><td> 7.30   </td><td> 71.444 </td><td>2.512   </td><td>  66.667</td><td> 64.389 </td><td>137.778 </td><td> 9.384  </td><td> 0.0    </td><td> 3.8    </td><td>16.0    </td><td>4.0     </td><td> 0.0    </td><td> 0.0    </td><td>3.3     </td></tr>\n",
       "\t<tr><th scope=row>175</th><td>spring  </td><td>large   </td><td>medium  </td><td>8.60    </td><td>10.60   </td><td>208.364 </td><td>4.459   </td><td> 197.909</td><td> 87.333 </td><td>194.100 </td><td>27.618  </td><td> 0.0    </td><td> 1.2    </td><td> 0.0    </td><td>0.0     </td><td>11.3    </td><td>11.5    </td><td>0.0     </td></tr>\n",
       "\t<tr><th scope=row>176</th><td>winter  </td><td>large   </td><td>medium  </td><td>9.06    </td><td> 6.35   </td><td>187.183 </td><td>3.351   </td><td>  54.778</td><td>159.167 </td><td>221.278 </td><td>20.800  </td><td> 0.0    </td><td>21.1    </td><td> 3.7    </td><td>0.0     </td><td> 0.0    </td><td> 0.0    </td><td>1.9     </td></tr>\n",
       "\t<tr><th scope=row>177</th><td>autumn  </td><td>large   </td><td>high    </td><td>8.70    </td><td>10.70   </td><td>  4.545 </td><td>0.941   </td><td>  32.727</td><td> 16.000 </td><td> 21.300 </td><td> 1.100  </td><td>39.7    </td><td> 0.0    </td><td>12.9    </td><td>0.0     </td><td> 0.0    </td><td> 0.0    </td><td>0.0     </td></tr>\n",
       "\t<tr><th scope=row>178</th><td>spring  </td><td>large   </td><td>high    </td><td>8.10    </td><td>10.70   </td><td>  3.500 </td><td>1.013   </td><td>  12.500</td><td> 12.750 </td><td> 11.000 </td><td> 0.600  </td><td>37.3    </td><td> 9.7    </td><td>13.6    </td><td>0.0     </td><td> 2.2    </td><td> 0.0    </td><td>1.2     </td></tr>\n",
       "\t<tr><th scope=row>179</th><td>summer  </td><td>large   </td><td>high    </td><td>8.40    </td><td>10.29   </td><td>  5.326 </td><td>0.996   </td><td>  53.846</td><td>  7.667 </td><td> 14.354 </td><td> 0.800  </td><td>52.4    </td><td> 7.5    </td><td> 9.4    </td><td>0.0     </td><td> 1.4    </td><td> 1.9    </td><td>0.0     </td></tr>\n",
       "\t<tr><th scope=row>180</th><td>spring  </td><td>large   </td><td>medium  </td><td>8.60    </td><td>10.10   </td><td>  2.111 </td><td>0.663   </td><td>  11.111</td><td>  3.222 </td><td>  7.000 </td><td> 1.300  </td><td>48.3    </td><td> 2.0    </td><td> 0.0    </td><td>0.0     </td><td> 0.0    </td><td> 0.0    </td><td>0.0     </td></tr>\n",
       "\t<tr><th scope=row>181</th><td>summer  </td><td>large   </td><td>medium  </td><td>8.20    </td><td> 9.50   </td><td>  2.200 </td><td>0.672   </td><td>  10.000</td><td>  3.800 </td><td>  6.200 </td><td> 0.800  </td><td>50.4    </td><td> 3.8    </td><td> 0.0    </td><td>0.0     </td><td> 0.0    </td><td> 0.0    </td><td>0.0     </td></tr>\n",
       "\t<tr><th scope=row>182</th><td>winter  </td><td>large   </td><td>medium  </td><td>8.50    </td><td>10.50   </td><td>  2.750 </td><td>0.758   </td><td>  10.500</td><td>  4.000 </td><td>  7.654 </td><td> 4.000  </td><td>56.8    </td><td> 5.0    </td><td> 0.0    </td><td>0.0     </td><td> 0.0    </td><td> 0.0    </td><td>0.0     </td></tr>\n",
       "\t<tr><th scope=row>183</th><td>summer  </td><td>large   </td><td>medium  </td><td>8.30    </td><td>10.00   </td><td>  3.860 </td><td>0.866   </td><td>  32.000</td><td>  6.000 </td><td> 16.000 </td><td> 2.860  </td><td>17.3    </td><td> 6.7    </td><td>19.7    </td><td>0.0     </td><td> 0.0    </td><td> 0.0    </td><td>0.0     </td></tr>\n",
       "\t<tr><th scope=row>185</th><td>summer  </td><td>large   </td><td>high    </td><td>8.10    </td><td>10.20   </td><td>  7.613 </td><td>0.699   </td><td>  32.500</td><td> 26.625 </td><td> 52.875 </td><td> 2.000  </td><td>18.1    </td><td> 1.7    </td><td> 2.0    </td><td>0.0     </td><td> 1.7    </td><td> 5.9    </td><td>0.0     </td></tr>\n",
       "\t<tr><th scope=row>186</th><td>winter  </td><td>large   </td><td>low     </td><td>8.70    </td><td>10.80   </td><td> 39.109 </td><td>6.225   </td><td> 161.818</td><td>104.727 </td><td>228.364 </td><td>46.075  </td><td> 1.1    </td><td> 3.9    </td><td> 2.1    </td><td>0.0     </td><td> 3.9    </td><td> 4.6    </td><td>2.3     </td></tr>\n",
       "\t<tr><th scope=row>187</th><td>winter  </td><td>large   </td><td>low     </td><td>8.70    </td><td>11.70   </td><td> 22.455 </td><td>3.765   </td><td>  88.182</td><td> 41.300 </td><td> 85.400 </td><td>17.491  </td><td> 0.0    </td><td> 4.7    </td><td> 0.0    </td><td>0.0     </td><td> 2.6    </td><td> 2.6    </td><td>0.0     </td></tr>\n",
       "\t<tr><th scope=row>188</th><td>summer  </td><td>large   </td><td>low     </td><td>8.40    </td><td> 8.20   </td><td> 23.250 </td><td>2.805   </td><td>  43.750</td><td> 51.125 </td><td> 87.125 </td><td>14.775  </td><td> 0.0    </td><td>12.0    </td><td> 1.7    </td><td>0.0     </td><td> 2.7    </td><td> 0.0    </td><td>0.0     </td></tr>\n",
       "\t<tr><th scope=row>189</th><td>autumn  </td><td>large   </td><td>low     </td><td>8.55    </td><td>11.00   </td><td> 22.320 </td><td>3.140   </td><td>  82.100</td><td> 45.900 </td><td>101.455 </td><td>18.330  </td><td> 1.7    </td><td> 7.0    </td><td> 1.2    </td><td>0.0     </td><td> 4.8    </td><td> 3.1    </td><td>0.0     </td></tr>\n",
       "\t<tr><th scope=row>190</th><td>spring  </td><td>large   </td><td>medium  </td><td>8.50    </td><td> 7.60   </td><td> 12.778 </td><td>1.873   </td><td>  17.778</td><td> 50.889 </td><td>127.000 </td><td>24.556  </td><td> 0.0    </td><td> 0.0    </td><td>10.2    </td><td>1.7     </td><td> 1.2    </td><td> 0.0    </td><td>5.5     </td></tr>\n",
       "\t<tr><th scope=row>191</th><td>autumn  </td><td>large   </td><td>medium  </td><td>8.70    </td><td>11.40   </td><td> 15.541 </td><td>2.323   </td><td> 103.000</td><td> 34.500 </td><td> 81.558 </td><td> 5.620  </td><td> 7.6    </td><td> 0.0    </td><td> 1.2    </td><td>0.0     </td><td>15.9    </td><td>31.8    </td><td>5.9     </td></tr>\n",
       "\t<tr><th scope=row>192</th><td>winter  </td><td>large   </td><td>medium  </td><td>8.40    </td><td>10.50   </td><td> 12.182 </td><td>1.519   </td><td>  65.455</td><td> 19.727 </td><td> 50.455 </td><td> 8.155  </td><td> 2.9    </td><td> 4.6    </td><td> 1.0    </td><td>0.0     </td><td> 6.6    </td><td>16.6    </td><td>0.0     </td></tr>\n",
       "\t<tr><th scope=row>193</th><td>spring  </td><td>large   </td><td>medium  </td><td>8.20    </td><td> 8.20   </td><td>  7.333 </td><td>1.003   </td><td>  37.778</td><td> 19.111 </td><td>120.889 </td><td> 5.111  </td><td> 2.2    </td><td>12.7    </td><td> 8.8    </td><td>0.0     </td><td> 0.0    </td><td> 0.0    </td><td>1.2     </td></tr>\n",
       "\t<tr><th scope=row>194</th><td>autumn  </td><td>large   </td><td>medium  </td><td>8.58    </td><td>11.10   </td><td> 23.825 </td><td>3.617   </td><td>  72.600</td><td> 51.111 </td><td> 91.111 </td><td>22.900  </td><td> 3.8    </td><td>22.0    </td><td> 2.9    </td><td>0.0     </td><td> 3.1    </td><td> 5.5    </td><td>0.0     </td></tr>\n",
       "\t<tr><th scope=row>195</th><td>summer  </td><td>large   </td><td>medium  </td><td>8.50    </td><td> 7.90   </td><td> 12.444 </td><td>2.586   </td><td>  96.667</td><td> 19.111 </td><td> 61.444 </td><td> 6.167  </td><td>18.9    </td><td>13.2    </td><td> 5.0    </td><td>0.0     </td><td> 6.1    </td><td> 0.0    </td><td>0.0     </td></tr>\n",
       "\t<tr><th scope=row>196</th><td>autumn  </td><td>large   </td><td>medium  </td><td>8.40    </td><td> 8.40   </td><td> 17.375 </td><td>3.833   </td><td>  83.750</td><td> 53.625 </td><td> 79.750 </td><td> 2.338  </td><td>12.7    </td><td>21.7    </td><td> 5.6    </td><td>0.0     </td><td> 1.0    </td><td> 0.0    </td><td>0.0     </td></tr>\n",
       "\t<tr><th scope=row>197</th><td>spring  </td><td>large   </td><td>medium  </td><td>8.30    </td><td>10.60   </td><td> 14.320 </td><td>3.200   </td><td> 125.333</td><td> 35.333 </td><td> 75.904 </td><td> 4.667  </td><td>18.0    </td><td> 7.0    </td><td> 1.7    </td><td>0.0     </td><td> 4.8    </td><td>10.3    </td><td>1.0     </td></tr>\n",
       "\t<tr><th scope=row>198</th><td>autumn  </td><td>large   </td><td>medium  </td><td>8.20    </td><td> 7.00   </td><td>139.989 </td><td>2.978   </td><td>  60.110</td><td> 78.333 </td><td>140.220 </td><td>31.738  </td><td> 0.0    </td><td>15.9    </td><td> 2.4    </td><td>1.0     </td><td> 0.0    </td><td> 0.0    </td><td>0.0     </td></tr>\n",
       "\t<tr><th scope=row>200</th><td>summer  </td><td>large   </td><td>medium  </td><td>8.50    </td><td> 6.70   </td><td> 82.852 </td><td>2.800   </td><td>  27.069</td><td> 64.000 </td><td>140.517 </td><td>18.300  </td><td> 2.4    </td><td>10.5    </td><td> 9.0    </td><td>7.8     </td><td> 0.0    </td><td> 0.0    </td><td>5.8     </td></tr>\n",
       "</tbody>\n",
       "</table>\n"
      ],
      "text/latex": [
       "\\begin{tabular}{r|llllllllllllllllll}\n",
       "  & season & size & speed & mxPH & mnO2 & Cl & NO3 & NH4 & oPO4 & PO4 & Chla & a1 & a2 & a3 & a4 & a5 & a6 & a7\\\\\n",
       "\\hline\n",
       "\t1 & winter   & small    & medium   & 8.00     &  9.8     & 60.800   &  6.238   &  578.000 & 105.000  & 170.000  & 50.000   &  0.0     &  0.0     &  0.0     &  0.0     & 34.2     &  8.3     & 0.0     \\\\\n",
       "\t2 & spring   & small    & medium   & 8.35     &  8.0     & 57.750   &  1.288   &  370.000 & 428.750  & 558.750  &  1.300   &  1.4     &  7.6     &  4.8     &  1.9     &  6.7     &  0.0     & 2.1     \\\\\n",
       "\t3 & autumn   & small    & medium   & 8.10     & 11.4     & 40.020   &  5.330   &  346.667 & 125.667  & 187.057  & 15.600   &  3.3     & 53.6     &  1.9     &  0.0     &  0.0     &  0.0     & 9.7     \\\\\n",
       "\t4 & spring   & small    & medium   & 8.07     &  4.8     & 77.364   &  2.302   &   98.182 &  61.182  & 138.700  &  1.400   &  3.1     & 41.0     & 18.9     &  0.0     &  1.4     &  0.0     & 1.4     \\\\\n",
       "\t5 & autumn   & small    & medium   & 8.06     &  9.0     & 55.350   & 10.416   &  233.700 &  58.222  &  97.580  & 10.500   &  9.2     &  2.9     &  7.5     &  0.0     &  7.5     &  4.1     & 1.0     \\\\\n",
       "\t6 & winter   & small    & high     & 8.25     & 13.1     & 65.750   &  9.248   &  430.000 &  18.250  &  56.667  & 28.400   & 15.1     & 14.6     &  1.4     &  0.0     & 22.5     & 12.6     & 2.9     \\\\\n",
       "\t7 & summer   & small    & high     & 8.15     & 10.3     & 73.250   &  1.535   &  110.000 &  61.250  & 111.750  &  3.200   &  2.4     &  1.2     &  3.2     &  3.9     &  5.8     &  6.8     & 0.0     \\\\\n",
       "\t8 & autumn   & small    & high     & 8.05     & 10.6     & 59.067   &  4.990   &  205.667 &  44.667  &  77.434  &  6.900   & 18.2     &  1.6     &  0.0     &  0.0     &  5.5     &  8.7     & 0.0     \\\\\n",
       "\t9 & winter   & small    & medium   & 8.70     &  3.4     & 21.950   &  0.886   &  102.750 &  36.300  &  71.000  &  5.544   & 25.4     &  5.4     &  2.5     &  0.0     &  0.0     &  0.0     & 0.0     \\\\\n",
       "\t10 & winter   & small    & high     & 7.93     &  9.9     &  8.000   &  1.390   &    5.800 &  27.250  &  46.600  &  0.800   & 17.0     &  0.0     &  0.0     &  2.9     &  0.0     &  0.0     & 1.7     \\\\\n",
       "\t11 & spring   & small    & high     & 7.70     & 10.2     &  8.000   &  1.527   &   21.571 &  12.750  &  20.750  &  0.800   & 16.6     &  0.0     &  0.0     &  0.0     &  1.2     &  0.0     & 6.0     \\\\\n",
       "\t12 & summer   & small    & high     & 7.45     & 11.7     &  8.690   &  1.588   &   18.429 &  10.667  &  19.000  &  0.600   & 32.1     &  0.0     &  0.0     &  0.0     &  0.0     &  0.0     & 1.5     \\\\\n",
       "\t13 & winter   & small    & high     & 7.74     &  9.6     &  5.000   &  1.223   &   27.286 &  12.000  &  17.000  & 41.000   & 43.5     &  0.0     &  2.1     &  0.0     &  1.2     &  0.0     & 2.1     \\\\\n",
       "\t14 & summer   & small    & high     & 7.72     & 11.8     &  6.300   &  1.470   &    8.000 &  16.000  &  15.000  &  0.500   & 31.1     &  1.0     &  3.4     &  0.0     &  1.9     &  0.0     & 4.1     \\\\\n",
       "\t15 & winter   & small    & high     & 7.90     &  9.6     &  3.000   &  1.448   &   46.200 &  13.000  &  61.600  &  0.300   & 52.2     &  5.0     &  7.8     &  0.0     &  4.0     &  0.0     & 0.0     \\\\\n",
       "\t16 & autumn   & small    & high     & 7.55     & 11.5     &  4.700   &  1.320   &   14.750 &   4.250  &  98.250  &  1.100   & 69.9     &  0.0     &  1.7     &  0.0     &  0.0     &  0.0     & 0.0     \\\\\n",
       "\t17 & winter   & small    & high     & 7.78     & 12.0     &  7.000   &  1.420   &   34.333 &  18.667  &  50.000  &  1.100   & 46.2     &  0.0     &  0.0     &  1.2     &  0.0     &  0.0     & 0.0     \\\\\n",
       "\t18 & spring   & small    & high     & 7.61     &  9.8     &  7.000   &  1.443   &   31.333 &  20.000  &  57.833  &  0.400   & 31.8     &  0.0     &  3.1     &  4.8     &  7.7     &  1.4     & 7.2     \\\\\n",
       "\t19 & summer   & small    & high     & 7.35     & 10.4     &  7.000   &  1.718   &   49.000 &  41.500  &  61.500  &  0.800   & 50.6     &  0.0     &  9.9     &  4.3     &  3.6     &  8.2     & 2.2     \\\\\n",
       "\t20 & spring   & small    & medium   & 7.79     &  3.2     & 64.000   &  2.822   & 8777.600 & 564.600  & 771.600  &  4.500   &  0.0     &  0.0     &  0.0     & 44.6     &  0.0     &  0.0     & 1.4     \\\\\n",
       "\t21 & winter   & small    & medium   & 7.83     & 10.7     & 88.000   &  4.825   & 1729.000 & 467.500  & 586.000  & 16.000   &  0.0     &  0.0     &  0.0     &  6.8     &  6.1     &  0.0     & 0.0     \\\\\n",
       "\t22 & spring   & small    & high     & 7.20     &  9.2     &  0.800   &  0.642   &   81.000 &  15.600  &  18.000  &  0.500   & 15.5     &  0.0     &  0.0     &  2.3     &  0.0     &  0.0     & 0.0     \\\\\n",
       "\t23 & autumn   & small    & high     & 7.75     & 10.3     & 32.920   &  2.942   &   42.000 &  16.000  &  40.000  &  7.600   & 23.2     &  0.0     &  0.0     &  0.0     & 27.6     & 11.1     & 0.0     \\\\\n",
       "\t24 & winter   & small    & high     & 7.62     &  8.5     & 11.867   &  1.715   &  208.333 &   3.000  &  27.500  &  1.700   & 74.2     &  0.0     &  0.0     &  3.7     &  0.0     &  0.0     & 0.0     \\\\\n",
       "\t25 & spring   & small    & high     & 7.84     &  9.4     & 10.975   &  1.510   &   12.500 &   3.000  &  11.500  &  1.500   & 13.0     &  8.6     &  1.2     &  3.5     &  1.2     &  1.6     & 1.9     \\\\\n",
       "\t26 & summer   & small    & high     & 7.77     & 10.7     & 12.536   &  3.976   &   58.500 &   9.000  &  44.136  &  3.000   &  4.1     &  0.0     &  0.0     &  0.0     &  9.2     & 10.1     & 0.0     \\\\\n",
       "\t27 & winter   & small    & high     & 7.09     &  8.4     & 10.500   &  1.572   &   28.000 &   4.000  &  13.600  &  0.500   & 29.7     &  0.0     &  0.0     &  4.9     &  0.0     &  0.0     & 0.0     \\\\\n",
       "\t29 & winter   & small    & high     & 8.00     &  9.8     & 16.000   &  0.730   &   20.000 &  26.000  &  45.000  &  0.800   & 17.1     &  0.0     & 19.6     &  0.0     &  0.0     &  0.0     & 2.5     \\\\\n",
       "\t30 & spring   & small    & high     & 7.20     & 11.3     &  9.000   &  0.230   &  120.000 &  12.000  &  19.000  &  0.500   & 33.9     &  1.0     & 14.6     &  0.0     &  0.0     &  0.0     & 0.0     \\\\\n",
       "\t31 & autumn   & small    & high     & 7.40     & 12.5     & 13.000   &  3.330   &   60.000 &  72.000  & 142.000  &  4.900   &  3.4     & 16.0     &  1.2     &  0.0     & 15.3     & 15.8     & 0.0     \\\\\n",
       "\t... & ... & ... & ... & ... & ... & ... & ... & ... & ... & ... & ... & ... & ... & ... & ... & ... & ... & ...\\\\\n",
       "\t169 & winter   & large    & low      & 8.56     &  8.70    &  43.970  & 4.053    &  643.000 & 221.900  & 246.667  & 14.700   & 12.5     &  2.1     &  0.0     & 1.2      &  6.4     &  4.5     & 1.7     \\\\\n",
       "\t170 & autumn   & large    & low      & 8.06     &  8.30    &  38.902  & 3.678    &  627.273 & 205.636  & 219.909  &  6.209   &  0.0     &  0.0     &  0.0     & 0.0      &  8.6     & 52.5     & 0.0     \\\\\n",
       "\t171 & winter   & large    & medium   & 8.24     &  6.10    &  95.367  & 3.561    & 1168.000 & 236.400  & 272.222  & 20.578   &  2.5     & 13.2     &  0.0     & 2.0      &  7.4     & 17.2     & 0.0     \\\\\n",
       "\t172 & summer   & large    & medium   & 7.91     &  6.20    & 151.833  & 3.923    & 1081.660 & 346.167  & 388.167  &  5.083   &  1.7     & 12.0     &  4.9     & 2.7      &  0.0     &  5.9     & 1.7     \\\\\n",
       "\t173 & winter   & large    & medium   & 8.21     &  9.30    & 104.818  & 3.908    &  124.364 &  82.222  & 167.900  &  5.609   &  1.4     &  4.6     & 10.8     & 2.2      &  5.5     & 42.4     & 0.0     \\\\\n",
       "\t174 & spring   & large    & medium   & 8.50     &  7.30    &  71.444  & 2.512    &   66.667 &  64.389  & 137.778  &  9.384   &  0.0     &  3.8     & 16.0     & 4.0      &  0.0     &  0.0     & 3.3     \\\\\n",
       "\t175 & spring   & large    & medium   & 8.60     & 10.60    & 208.364  & 4.459    &  197.909 &  87.333  & 194.100  & 27.618   &  0.0     &  1.2     &  0.0     & 0.0      & 11.3     & 11.5     & 0.0     \\\\\n",
       "\t176 & winter   & large    & medium   & 9.06     &  6.35    & 187.183  & 3.351    &   54.778 & 159.167  & 221.278  & 20.800   &  0.0     & 21.1     &  3.7     & 0.0      &  0.0     &  0.0     & 1.9     \\\\\n",
       "\t177 & autumn   & large    & high     & 8.70     & 10.70    &   4.545  & 0.941    &   32.727 &  16.000  &  21.300  &  1.100   & 39.7     &  0.0     & 12.9     & 0.0      &  0.0     &  0.0     & 0.0     \\\\\n",
       "\t178 & spring   & large    & high     & 8.10     & 10.70    &   3.500  & 1.013    &   12.500 &  12.750  &  11.000  &  0.600   & 37.3     &  9.7     & 13.6     & 0.0      &  2.2     &  0.0     & 1.2     \\\\\n",
       "\t179 & summer   & large    & high     & 8.40     & 10.29    &   5.326  & 0.996    &   53.846 &   7.667  &  14.354  &  0.800   & 52.4     &  7.5     &  9.4     & 0.0      &  1.4     &  1.9     & 0.0     \\\\\n",
       "\t180 & spring   & large    & medium   & 8.60     & 10.10    &   2.111  & 0.663    &   11.111 &   3.222  &   7.000  &  1.300   & 48.3     &  2.0     &  0.0     & 0.0      &  0.0     &  0.0     & 0.0     \\\\\n",
       "\t181 & summer   & large    & medium   & 8.20     &  9.50    &   2.200  & 0.672    &   10.000 &   3.800  &   6.200  &  0.800   & 50.4     &  3.8     &  0.0     & 0.0      &  0.0     &  0.0     & 0.0     \\\\\n",
       "\t182 & winter   & large    & medium   & 8.50     & 10.50    &   2.750  & 0.758    &   10.500 &   4.000  &   7.654  &  4.000   & 56.8     &  5.0     &  0.0     & 0.0      &  0.0     &  0.0     & 0.0     \\\\\n",
       "\t183 & summer   & large    & medium   & 8.30     & 10.00    &   3.860  & 0.866    &   32.000 &   6.000  &  16.000  &  2.860   & 17.3     &  6.7     & 19.7     & 0.0      &  0.0     &  0.0     & 0.0     \\\\\n",
       "\t185 & summer   & large    & high     & 8.10     & 10.20    &   7.613  & 0.699    &   32.500 &  26.625  &  52.875  &  2.000   & 18.1     &  1.7     &  2.0     & 0.0      &  1.7     &  5.9     & 0.0     \\\\\n",
       "\t186 & winter   & large    & low      & 8.70     & 10.80    &  39.109  & 6.225    &  161.818 & 104.727  & 228.364  & 46.075   &  1.1     &  3.9     &  2.1     & 0.0      &  3.9     &  4.6     & 2.3     \\\\\n",
       "\t187 & winter   & large    & low      & 8.70     & 11.70    &  22.455  & 3.765    &   88.182 &  41.300  &  85.400  & 17.491   &  0.0     &  4.7     &  0.0     & 0.0      &  2.6     &  2.6     & 0.0     \\\\\n",
       "\t188 & summer   & large    & low      & 8.40     &  8.20    &  23.250  & 2.805    &   43.750 &  51.125  &  87.125  & 14.775   &  0.0     & 12.0     &  1.7     & 0.0      &  2.7     &  0.0     & 0.0     \\\\\n",
       "\t189 & autumn   & large    & low      & 8.55     & 11.00    &  22.320  & 3.140    &   82.100 &  45.900  & 101.455  & 18.330   &  1.7     &  7.0     &  1.2     & 0.0      &  4.8     &  3.1     & 0.0     \\\\\n",
       "\t190 & spring   & large    & medium   & 8.50     &  7.60    &  12.778  & 1.873    &   17.778 &  50.889  & 127.000  & 24.556   &  0.0     &  0.0     & 10.2     & 1.7      &  1.2     &  0.0     & 5.5     \\\\\n",
       "\t191 & autumn   & large    & medium   & 8.70     & 11.40    &  15.541  & 2.323    &  103.000 &  34.500  &  81.558  &  5.620   &  7.6     &  0.0     &  1.2     & 0.0      & 15.9     & 31.8     & 5.9     \\\\\n",
       "\t192 & winter   & large    & medium   & 8.40     & 10.50    &  12.182  & 1.519    &   65.455 &  19.727  &  50.455  &  8.155   &  2.9     &  4.6     &  1.0     & 0.0      &  6.6     & 16.6     & 0.0     \\\\\n",
       "\t193 & spring   & large    & medium   & 8.20     &  8.20    &   7.333  & 1.003    &   37.778 &  19.111  & 120.889  &  5.111   &  2.2     & 12.7     &  8.8     & 0.0      &  0.0     &  0.0     & 1.2     \\\\\n",
       "\t194 & autumn   & large    & medium   & 8.58     & 11.10    &  23.825  & 3.617    &   72.600 &  51.111  &  91.111  & 22.900   &  3.8     & 22.0     &  2.9     & 0.0      &  3.1     &  5.5     & 0.0     \\\\\n",
       "\t195 & summer   & large    & medium   & 8.50     &  7.90    &  12.444  & 2.586    &   96.667 &  19.111  &  61.444  &  6.167   & 18.9     & 13.2     &  5.0     & 0.0      &  6.1     &  0.0     & 0.0     \\\\\n",
       "\t196 & autumn   & large    & medium   & 8.40     &  8.40    &  17.375  & 3.833    &   83.750 &  53.625  &  79.750  &  2.338   & 12.7     & 21.7     &  5.6     & 0.0      &  1.0     &  0.0     & 0.0     \\\\\n",
       "\t197 & spring   & large    & medium   & 8.30     & 10.60    &  14.320  & 3.200    &  125.333 &  35.333  &  75.904  &  4.667   & 18.0     &  7.0     &  1.7     & 0.0      &  4.8     & 10.3     & 1.0     \\\\\n",
       "\t198 & autumn   & large    & medium   & 8.20     &  7.00    & 139.989  & 2.978    &   60.110 &  78.333  & 140.220  & 31.738   &  0.0     & 15.9     &  2.4     & 1.0      &  0.0     &  0.0     & 0.0     \\\\\n",
       "\t200 & summer   & large    & medium   & 8.50     &  6.70    &  82.852  & 2.800    &   27.069 &  64.000  & 140.517  & 18.300   &  2.4     & 10.5     &  9.0     & 7.8      &  0.0     &  0.0     & 5.8     \\\\\n",
       "\\end{tabular}\n"
      ],
      "text/markdown": [
       "\n",
       "| <!--/--> | season | size | speed | mxPH | mnO2 | Cl | NO3 | NH4 | oPO4 | PO4 | Chla | a1 | a2 | a3 | a4 | a5 | a6 | a7 | \n",
       "|---|---|---|---|---|---|---|---|---|---|---|---|---|---|---|---|---|---|---|---|---|---|---|---|---|---|---|---|---|---|---|---|---|---|---|---|---|---|---|---|---|---|---|---|---|---|---|---|---|---|---|---|---|---|---|---|---|---|---|---|---|\n",
       "| 1 | winter   | small    | medium   | 8.00     |  9.8     | 60.800   |  6.238   |  578.000 | 105.000  | 170.000  | 50.000   |  0.0     |  0.0     |  0.0     |  0.0     | 34.2     |  8.3     | 0.0      | \n",
       "| 2 | spring   | small    | medium   | 8.35     |  8.0     | 57.750   |  1.288   |  370.000 | 428.750  | 558.750  |  1.300   |  1.4     |  7.6     |  4.8     |  1.9     |  6.7     |  0.0     | 2.1      | \n",
       "| 3 | autumn   | small    | medium   | 8.10     | 11.4     | 40.020   |  5.330   |  346.667 | 125.667  | 187.057  | 15.600   |  3.3     | 53.6     |  1.9     |  0.0     |  0.0     |  0.0     | 9.7      | \n",
       "| 4 | spring   | small    | medium   | 8.07     |  4.8     | 77.364   |  2.302   |   98.182 |  61.182  | 138.700  |  1.400   |  3.1     | 41.0     | 18.9     |  0.0     |  1.4     |  0.0     | 1.4      | \n",
       "| 5 | autumn   | small    | medium   | 8.06     |  9.0     | 55.350   | 10.416   |  233.700 |  58.222  |  97.580  | 10.500   |  9.2     |  2.9     |  7.5     |  0.0     |  7.5     |  4.1     | 1.0      | \n",
       "| 6 | winter   | small    | high     | 8.25     | 13.1     | 65.750   |  9.248   |  430.000 |  18.250  |  56.667  | 28.400   | 15.1     | 14.6     |  1.4     |  0.0     | 22.5     | 12.6     | 2.9      | \n",
       "| 7 | summer   | small    | high     | 8.15     | 10.3     | 73.250   |  1.535   |  110.000 |  61.250  | 111.750  |  3.200   |  2.4     |  1.2     |  3.2     |  3.9     |  5.8     |  6.8     | 0.0      | \n",
       "| 8 | autumn   | small    | high     | 8.05     | 10.6     | 59.067   |  4.990   |  205.667 |  44.667  |  77.434  |  6.900   | 18.2     |  1.6     |  0.0     |  0.0     |  5.5     |  8.7     | 0.0      | \n",
       "| 9 | winter   | small    | medium   | 8.70     |  3.4     | 21.950   |  0.886   |  102.750 |  36.300  |  71.000  |  5.544   | 25.4     |  5.4     |  2.5     |  0.0     |  0.0     |  0.0     | 0.0      | \n",
       "| 10 | winter   | small    | high     | 7.93     |  9.9     |  8.000   |  1.390   |    5.800 |  27.250  |  46.600  |  0.800   | 17.0     |  0.0     |  0.0     |  2.9     |  0.0     |  0.0     | 1.7      | \n",
       "| 11 | spring   | small    | high     | 7.70     | 10.2     |  8.000   |  1.527   |   21.571 |  12.750  |  20.750  |  0.800   | 16.6     |  0.0     |  0.0     |  0.0     |  1.2     |  0.0     | 6.0      | \n",
       "| 12 | summer   | small    | high     | 7.45     | 11.7     |  8.690   |  1.588   |   18.429 |  10.667  |  19.000  |  0.600   | 32.1     |  0.0     |  0.0     |  0.0     |  0.0     |  0.0     | 1.5      | \n",
       "| 13 | winter   | small    | high     | 7.74     |  9.6     |  5.000   |  1.223   |   27.286 |  12.000  |  17.000  | 41.000   | 43.5     |  0.0     |  2.1     |  0.0     |  1.2     |  0.0     | 2.1      | \n",
       "| 14 | summer   | small    | high     | 7.72     | 11.8     |  6.300   |  1.470   |    8.000 |  16.000  |  15.000  |  0.500   | 31.1     |  1.0     |  3.4     |  0.0     |  1.9     |  0.0     | 4.1      | \n",
       "| 15 | winter   | small    | high     | 7.90     |  9.6     |  3.000   |  1.448   |   46.200 |  13.000  |  61.600  |  0.300   | 52.2     |  5.0     |  7.8     |  0.0     |  4.0     |  0.0     | 0.0      | \n",
       "| 16 | autumn   | small    | high     | 7.55     | 11.5     |  4.700   |  1.320   |   14.750 |   4.250  |  98.250  |  1.100   | 69.9     |  0.0     |  1.7     |  0.0     |  0.0     |  0.0     | 0.0      | \n",
       "| 17 | winter   | small    | high     | 7.78     | 12.0     |  7.000   |  1.420   |   34.333 |  18.667  |  50.000  |  1.100   | 46.2     |  0.0     |  0.0     |  1.2     |  0.0     |  0.0     | 0.0      | \n",
       "| 18 | spring   | small    | high     | 7.61     |  9.8     |  7.000   |  1.443   |   31.333 |  20.000  |  57.833  |  0.400   | 31.8     |  0.0     |  3.1     |  4.8     |  7.7     |  1.4     | 7.2      | \n",
       "| 19 | summer   | small    | high     | 7.35     | 10.4     |  7.000   |  1.718   |   49.000 |  41.500  |  61.500  |  0.800   | 50.6     |  0.0     |  9.9     |  4.3     |  3.6     |  8.2     | 2.2      | \n",
       "| 20 | spring   | small    | medium   | 7.79     |  3.2     | 64.000   |  2.822   | 8777.600 | 564.600  | 771.600  |  4.500   |  0.0     |  0.0     |  0.0     | 44.6     |  0.0     |  0.0     | 1.4      | \n",
       "| 21 | winter   | small    | medium   | 7.83     | 10.7     | 88.000   |  4.825   | 1729.000 | 467.500  | 586.000  | 16.000   |  0.0     |  0.0     |  0.0     |  6.8     |  6.1     |  0.0     | 0.0      | \n",
       "| 22 | spring   | small    | high     | 7.20     |  9.2     |  0.800   |  0.642   |   81.000 |  15.600  |  18.000  |  0.500   | 15.5     |  0.0     |  0.0     |  2.3     |  0.0     |  0.0     | 0.0      | \n",
       "| 23 | autumn   | small    | high     | 7.75     | 10.3     | 32.920   |  2.942   |   42.000 |  16.000  |  40.000  |  7.600   | 23.2     |  0.0     |  0.0     |  0.0     | 27.6     | 11.1     | 0.0      | \n",
       "| 24 | winter   | small    | high     | 7.62     |  8.5     | 11.867   |  1.715   |  208.333 |   3.000  |  27.500  |  1.700   | 74.2     |  0.0     |  0.0     |  3.7     |  0.0     |  0.0     | 0.0      | \n",
       "| 25 | spring   | small    | high     | 7.84     |  9.4     | 10.975   |  1.510   |   12.500 |   3.000  |  11.500  |  1.500   | 13.0     |  8.6     |  1.2     |  3.5     |  1.2     |  1.6     | 1.9      | \n",
       "| 26 | summer   | small    | high     | 7.77     | 10.7     | 12.536   |  3.976   |   58.500 |   9.000  |  44.136  |  3.000   |  4.1     |  0.0     |  0.0     |  0.0     |  9.2     | 10.1     | 0.0      | \n",
       "| 27 | winter   | small    | high     | 7.09     |  8.4     | 10.500   |  1.572   |   28.000 |   4.000  |  13.600  |  0.500   | 29.7     |  0.0     |  0.0     |  4.9     |  0.0     |  0.0     | 0.0      | \n",
       "| 29 | winter   | small    | high     | 8.00     |  9.8     | 16.000   |  0.730   |   20.000 |  26.000  |  45.000  |  0.800   | 17.1     |  0.0     | 19.6     |  0.0     |  0.0     |  0.0     | 2.5      | \n",
       "| 30 | spring   | small    | high     | 7.20     | 11.3     |  9.000   |  0.230   |  120.000 |  12.000  |  19.000  |  0.500   | 33.9     |  1.0     | 14.6     |  0.0     |  0.0     |  0.0     | 0.0      | \n",
       "| 31 | autumn   | small    | high     | 7.40     | 12.5     | 13.000   |  3.330   |   60.000 |  72.000  | 142.000  |  4.900   |  3.4     | 16.0     |  1.2     |  0.0     | 15.3     | 15.8     | 0.0      | \n",
       "| ... | ... | ... | ... | ... | ... | ... | ... | ... | ... | ... | ... | ... | ... | ... | ... | ... | ... | ... | \n",
       "| 169 | winter   | large    | low      | 8.56     |  8.70    |  43.970  | 4.053    |  643.000 | 221.900  | 246.667  | 14.700   | 12.5     |  2.1     |  0.0     | 1.2      |  6.4     |  4.5     | 1.7      | \n",
       "| 170 | autumn   | large    | low      | 8.06     |  8.30    |  38.902  | 3.678    |  627.273 | 205.636  | 219.909  |  6.209   |  0.0     |  0.0     |  0.0     | 0.0      |  8.6     | 52.5     | 0.0      | \n",
       "| 171 | winter   | large    | medium   | 8.24     |  6.10    |  95.367  | 3.561    | 1168.000 | 236.400  | 272.222  | 20.578   |  2.5     | 13.2     |  0.0     | 2.0      |  7.4     | 17.2     | 0.0      | \n",
       "| 172 | summer   | large    | medium   | 7.91     |  6.20    | 151.833  | 3.923    | 1081.660 | 346.167  | 388.167  |  5.083   |  1.7     | 12.0     |  4.9     | 2.7      |  0.0     |  5.9     | 1.7      | \n",
       "| 173 | winter   | large    | medium   | 8.21     |  9.30    | 104.818  | 3.908    |  124.364 |  82.222  | 167.900  |  5.609   |  1.4     |  4.6     | 10.8     | 2.2      |  5.5     | 42.4     | 0.0      | \n",
       "| 174 | spring   | large    | medium   | 8.50     |  7.30    |  71.444  | 2.512    |   66.667 |  64.389  | 137.778  |  9.384   |  0.0     |  3.8     | 16.0     | 4.0      |  0.0     |  0.0     | 3.3      | \n",
       "| 175 | spring   | large    | medium   | 8.60     | 10.60    | 208.364  | 4.459    |  197.909 |  87.333  | 194.100  | 27.618   |  0.0     |  1.2     |  0.0     | 0.0      | 11.3     | 11.5     | 0.0      | \n",
       "| 176 | winter   | large    | medium   | 9.06     |  6.35    | 187.183  | 3.351    |   54.778 | 159.167  | 221.278  | 20.800   |  0.0     | 21.1     |  3.7     | 0.0      |  0.0     |  0.0     | 1.9      | \n",
       "| 177 | autumn   | large    | high     | 8.70     | 10.70    |   4.545  | 0.941    |   32.727 |  16.000  |  21.300  |  1.100   | 39.7     |  0.0     | 12.9     | 0.0      |  0.0     |  0.0     | 0.0      | \n",
       "| 178 | spring   | large    | high     | 8.10     | 10.70    |   3.500  | 1.013    |   12.500 |  12.750  |  11.000  |  0.600   | 37.3     |  9.7     | 13.6     | 0.0      |  2.2     |  0.0     | 1.2      | \n",
       "| 179 | summer   | large    | high     | 8.40     | 10.29    |   5.326  | 0.996    |   53.846 |   7.667  |  14.354  |  0.800   | 52.4     |  7.5     |  9.4     | 0.0      |  1.4     |  1.9     | 0.0      | \n",
       "| 180 | spring   | large    | medium   | 8.60     | 10.10    |   2.111  | 0.663    |   11.111 |   3.222  |   7.000  |  1.300   | 48.3     |  2.0     |  0.0     | 0.0      |  0.0     |  0.0     | 0.0      | \n",
       "| 181 | summer   | large    | medium   | 8.20     |  9.50    |   2.200  | 0.672    |   10.000 |   3.800  |   6.200  |  0.800   | 50.4     |  3.8     |  0.0     | 0.0      |  0.0     |  0.0     | 0.0      | \n",
       "| 182 | winter   | large    | medium   | 8.50     | 10.50    |   2.750  | 0.758    |   10.500 |   4.000  |   7.654  |  4.000   | 56.8     |  5.0     |  0.0     | 0.0      |  0.0     |  0.0     | 0.0      | \n",
       "| 183 | summer   | large    | medium   | 8.30     | 10.00    |   3.860  | 0.866    |   32.000 |   6.000  |  16.000  |  2.860   | 17.3     |  6.7     | 19.7     | 0.0      |  0.0     |  0.0     | 0.0      | \n",
       "| 185 | summer   | large    | high     | 8.10     | 10.20    |   7.613  | 0.699    |   32.500 |  26.625  |  52.875  |  2.000   | 18.1     |  1.7     |  2.0     | 0.0      |  1.7     |  5.9     | 0.0      | \n",
       "| 186 | winter   | large    | low      | 8.70     | 10.80    |  39.109  | 6.225    |  161.818 | 104.727  | 228.364  | 46.075   |  1.1     |  3.9     |  2.1     | 0.0      |  3.9     |  4.6     | 2.3      | \n",
       "| 187 | winter   | large    | low      | 8.70     | 11.70    |  22.455  | 3.765    |   88.182 |  41.300  |  85.400  | 17.491   |  0.0     |  4.7     |  0.0     | 0.0      |  2.6     |  2.6     | 0.0      | \n",
       "| 188 | summer   | large    | low      | 8.40     |  8.20    |  23.250  | 2.805    |   43.750 |  51.125  |  87.125  | 14.775   |  0.0     | 12.0     |  1.7     | 0.0      |  2.7     |  0.0     | 0.0      | \n",
       "| 189 | autumn   | large    | low      | 8.55     | 11.00    |  22.320  | 3.140    |   82.100 |  45.900  | 101.455  | 18.330   |  1.7     |  7.0     |  1.2     | 0.0      |  4.8     |  3.1     | 0.0      | \n",
       "| 190 | spring   | large    | medium   | 8.50     |  7.60    |  12.778  | 1.873    |   17.778 |  50.889  | 127.000  | 24.556   |  0.0     |  0.0     | 10.2     | 1.7      |  1.2     |  0.0     | 5.5      | \n",
       "| 191 | autumn   | large    | medium   | 8.70     | 11.40    |  15.541  | 2.323    |  103.000 |  34.500  |  81.558  |  5.620   |  7.6     |  0.0     |  1.2     | 0.0      | 15.9     | 31.8     | 5.9      | \n",
       "| 192 | winter   | large    | medium   | 8.40     | 10.50    |  12.182  | 1.519    |   65.455 |  19.727  |  50.455  |  8.155   |  2.9     |  4.6     |  1.0     | 0.0      |  6.6     | 16.6     | 0.0      | \n",
       "| 193 | spring   | large    | medium   | 8.20     |  8.20    |   7.333  | 1.003    |   37.778 |  19.111  | 120.889  |  5.111   |  2.2     | 12.7     |  8.8     | 0.0      |  0.0     |  0.0     | 1.2      | \n",
       "| 194 | autumn   | large    | medium   | 8.58     | 11.10    |  23.825  | 3.617    |   72.600 |  51.111  |  91.111  | 22.900   |  3.8     | 22.0     |  2.9     | 0.0      |  3.1     |  5.5     | 0.0      | \n",
       "| 195 | summer   | large    | medium   | 8.50     |  7.90    |  12.444  | 2.586    |   96.667 |  19.111  |  61.444  |  6.167   | 18.9     | 13.2     |  5.0     | 0.0      |  6.1     |  0.0     | 0.0      | \n",
       "| 196 | autumn   | large    | medium   | 8.40     |  8.40    |  17.375  | 3.833    |   83.750 |  53.625  |  79.750  |  2.338   | 12.7     | 21.7     |  5.6     | 0.0      |  1.0     |  0.0     | 0.0      | \n",
       "| 197 | spring   | large    | medium   | 8.30     | 10.60    |  14.320  | 3.200    |  125.333 |  35.333  |  75.904  |  4.667   | 18.0     |  7.0     |  1.7     | 0.0      |  4.8     | 10.3     | 1.0      | \n",
       "| 198 | autumn   | large    | medium   | 8.20     |  7.00    | 139.989  | 2.978    |   60.110 |  78.333  | 140.220  | 31.738   |  0.0     | 15.9     |  2.4     | 1.0      |  0.0     |  0.0     | 0.0      | \n",
       "| 200 | summer   | large    | medium   | 8.50     |  6.70    |  82.852  | 2.800    |   27.069 |  64.000  | 140.517  | 18.300   |  2.4     | 10.5     |  9.0     | 7.8      |  0.0     |  0.0     | 5.8      | \n",
       "\n",
       "\n"
      ],
      "text/plain": [
       "    season size  speed  mxPH mnO2  Cl      NO3    NH4      oPO4    PO4    \n",
       "1   winter small medium 8.00  9.8  60.800   6.238  578.000 105.000 170.000\n",
       "2   spring small medium 8.35  8.0  57.750   1.288  370.000 428.750 558.750\n",
       "3   autumn small medium 8.10 11.4  40.020   5.330  346.667 125.667 187.057\n",
       "4   spring small medium 8.07  4.8  77.364   2.302   98.182  61.182 138.700\n",
       "5   autumn small medium 8.06  9.0  55.350  10.416  233.700  58.222  97.580\n",
       "6   winter small high   8.25 13.1  65.750   9.248  430.000  18.250  56.667\n",
       "7   summer small high   8.15 10.3  73.250   1.535  110.000  61.250 111.750\n",
       "8   autumn small high   8.05 10.6  59.067   4.990  205.667  44.667  77.434\n",
       "9   winter small medium 8.70  3.4  21.950   0.886  102.750  36.300  71.000\n",
       "10  winter small high   7.93  9.9   8.000   1.390    5.800  27.250  46.600\n",
       "11  spring small high   7.70 10.2   8.000   1.527   21.571  12.750  20.750\n",
       "12  summer small high   7.45 11.7   8.690   1.588   18.429  10.667  19.000\n",
       "13  winter small high   7.74  9.6   5.000   1.223   27.286  12.000  17.000\n",
       "14  summer small high   7.72 11.8   6.300   1.470    8.000  16.000  15.000\n",
       "15  winter small high   7.90  9.6   3.000   1.448   46.200  13.000  61.600\n",
       "16  autumn small high   7.55 11.5   4.700   1.320   14.750   4.250  98.250\n",
       "17  winter small high   7.78 12.0   7.000   1.420   34.333  18.667  50.000\n",
       "18  spring small high   7.61  9.8   7.000   1.443   31.333  20.000  57.833\n",
       "19  summer small high   7.35 10.4   7.000   1.718   49.000  41.500  61.500\n",
       "20  spring small medium 7.79  3.2  64.000   2.822 8777.600 564.600 771.600\n",
       "21  winter small medium 7.83 10.7  88.000   4.825 1729.000 467.500 586.000\n",
       "22  spring small high   7.20  9.2   0.800   0.642   81.000  15.600  18.000\n",
       "23  autumn small high   7.75 10.3  32.920   2.942   42.000  16.000  40.000\n",
       "24  winter small high   7.62  8.5  11.867   1.715  208.333   3.000  27.500\n",
       "25  spring small high   7.84  9.4  10.975   1.510   12.500   3.000  11.500\n",
       "26  summer small high   7.77 10.7  12.536   3.976   58.500   9.000  44.136\n",
       "27  winter small high   7.09  8.4  10.500   1.572   28.000   4.000  13.600\n",
       "29  winter small high   8.00  9.8  16.000   0.730   20.000  26.000  45.000\n",
       "30  spring small high   7.20 11.3   9.000   0.230  120.000  12.000  19.000\n",
       "31  autumn small high   7.40 12.5  13.000   3.330   60.000  72.000 142.000\n",
       "... ...    ...   ...    ...  ...   ...     ...    ...      ...     ...    \n",
       "169 winter large low    8.56  8.70  43.970 4.053   643.000 221.900 246.667\n",
       "170 autumn large low    8.06  8.30  38.902 3.678   627.273 205.636 219.909\n",
       "171 winter large medium 8.24  6.10  95.367 3.561  1168.000 236.400 272.222\n",
       "172 summer large medium 7.91  6.20 151.833 3.923  1081.660 346.167 388.167\n",
       "173 winter large medium 8.21  9.30 104.818 3.908   124.364  82.222 167.900\n",
       "174 spring large medium 8.50  7.30  71.444 2.512    66.667  64.389 137.778\n",
       "175 spring large medium 8.60 10.60 208.364 4.459   197.909  87.333 194.100\n",
       "176 winter large medium 9.06  6.35 187.183 3.351    54.778 159.167 221.278\n",
       "177 autumn large high   8.70 10.70   4.545 0.941    32.727  16.000  21.300\n",
       "178 spring large high   8.10 10.70   3.500 1.013    12.500  12.750  11.000\n",
       "179 summer large high   8.40 10.29   5.326 0.996    53.846   7.667  14.354\n",
       "180 spring large medium 8.60 10.10   2.111 0.663    11.111   3.222   7.000\n",
       "181 summer large medium 8.20  9.50   2.200 0.672    10.000   3.800   6.200\n",
       "182 winter large medium 8.50 10.50   2.750 0.758    10.500   4.000   7.654\n",
       "183 summer large medium 8.30 10.00   3.860 0.866    32.000   6.000  16.000\n",
       "185 summer large high   8.10 10.20   7.613 0.699    32.500  26.625  52.875\n",
       "186 winter large low    8.70 10.80  39.109 6.225   161.818 104.727 228.364\n",
       "187 winter large low    8.70 11.70  22.455 3.765    88.182  41.300  85.400\n",
       "188 summer large low    8.40  8.20  23.250 2.805    43.750  51.125  87.125\n",
       "189 autumn large low    8.55 11.00  22.320 3.140    82.100  45.900 101.455\n",
       "190 spring large medium 8.50  7.60  12.778 1.873    17.778  50.889 127.000\n",
       "191 autumn large medium 8.70 11.40  15.541 2.323   103.000  34.500  81.558\n",
       "192 winter large medium 8.40 10.50  12.182 1.519    65.455  19.727  50.455\n",
       "193 spring large medium 8.20  8.20   7.333 1.003    37.778  19.111 120.889\n",
       "194 autumn large medium 8.58 11.10  23.825 3.617    72.600  51.111  91.111\n",
       "195 summer large medium 8.50  7.90  12.444 2.586    96.667  19.111  61.444\n",
       "196 autumn large medium 8.40  8.40  17.375 3.833    83.750  53.625  79.750\n",
       "197 spring large medium 8.30 10.60  14.320 3.200   125.333  35.333  75.904\n",
       "198 autumn large medium 8.20  7.00 139.989 2.978    60.110  78.333 140.220\n",
       "200 summer large medium 8.50  6.70  82.852 2.800    27.069  64.000 140.517\n",
       "    Chla   a1   a2   a3   a4   a5   a6   a7 \n",
       "1   50.000  0.0  0.0  0.0  0.0 34.2  8.3 0.0\n",
       "2    1.300  1.4  7.6  4.8  1.9  6.7  0.0 2.1\n",
       "3   15.600  3.3 53.6  1.9  0.0  0.0  0.0 9.7\n",
       "4    1.400  3.1 41.0 18.9  0.0  1.4  0.0 1.4\n",
       "5   10.500  9.2  2.9  7.5  0.0  7.5  4.1 1.0\n",
       "6   28.400 15.1 14.6  1.4  0.0 22.5 12.6 2.9\n",
       "7    3.200  2.4  1.2  3.2  3.9  5.8  6.8 0.0\n",
       "8    6.900 18.2  1.6  0.0  0.0  5.5  8.7 0.0\n",
       "9    5.544 25.4  5.4  2.5  0.0  0.0  0.0 0.0\n",
       "10   0.800 17.0  0.0  0.0  2.9  0.0  0.0 1.7\n",
       "11   0.800 16.6  0.0  0.0  0.0  1.2  0.0 6.0\n",
       "12   0.600 32.1  0.0  0.0  0.0  0.0  0.0 1.5\n",
       "13  41.000 43.5  0.0  2.1  0.0  1.2  0.0 2.1\n",
       "14   0.500 31.1  1.0  3.4  0.0  1.9  0.0 4.1\n",
       "15   0.300 52.2  5.0  7.8  0.0  4.0  0.0 0.0\n",
       "16   1.100 69.9  0.0  1.7  0.0  0.0  0.0 0.0\n",
       "17   1.100 46.2  0.0  0.0  1.2  0.0  0.0 0.0\n",
       "18   0.400 31.8  0.0  3.1  4.8  7.7  1.4 7.2\n",
       "19   0.800 50.6  0.0  9.9  4.3  3.6  8.2 2.2\n",
       "20   4.500  0.0  0.0  0.0 44.6  0.0  0.0 1.4\n",
       "21  16.000  0.0  0.0  0.0  6.8  6.1  0.0 0.0\n",
       "22   0.500 15.5  0.0  0.0  2.3  0.0  0.0 0.0\n",
       "23   7.600 23.2  0.0  0.0  0.0 27.6 11.1 0.0\n",
       "24   1.700 74.2  0.0  0.0  3.7  0.0  0.0 0.0\n",
       "25   1.500 13.0  8.6  1.2  3.5  1.2  1.6 1.9\n",
       "26   3.000  4.1  0.0  0.0  0.0  9.2 10.1 0.0\n",
       "27   0.500 29.7  0.0  0.0  4.9  0.0  0.0 0.0\n",
       "29   0.800 17.1  0.0 19.6  0.0  0.0  0.0 2.5\n",
       "30   0.500 33.9  1.0 14.6  0.0  0.0  0.0 0.0\n",
       "31   4.900  3.4 16.0  1.2  0.0 15.3 15.8 0.0\n",
       "... ...    ...  ...  ...  ...  ...  ...  ...\n",
       "169 14.700 12.5  2.1  0.0 1.2   6.4  4.5 1.7\n",
       "170  6.209  0.0  0.0  0.0 0.0   8.6 52.5 0.0\n",
       "171 20.578  2.5 13.2  0.0 2.0   7.4 17.2 0.0\n",
       "172  5.083  1.7 12.0  4.9 2.7   0.0  5.9 1.7\n",
       "173  5.609  1.4  4.6 10.8 2.2   5.5 42.4 0.0\n",
       "174  9.384  0.0  3.8 16.0 4.0   0.0  0.0 3.3\n",
       "175 27.618  0.0  1.2  0.0 0.0  11.3 11.5 0.0\n",
       "176 20.800  0.0 21.1  3.7 0.0   0.0  0.0 1.9\n",
       "177  1.100 39.7  0.0 12.9 0.0   0.0  0.0 0.0\n",
       "178  0.600 37.3  9.7 13.6 0.0   2.2  0.0 1.2\n",
       "179  0.800 52.4  7.5  9.4 0.0   1.4  1.9 0.0\n",
       "180  1.300 48.3  2.0  0.0 0.0   0.0  0.0 0.0\n",
       "181  0.800 50.4  3.8  0.0 0.0   0.0  0.0 0.0\n",
       "182  4.000 56.8  5.0  0.0 0.0   0.0  0.0 0.0\n",
       "183  2.860 17.3  6.7 19.7 0.0   0.0  0.0 0.0\n",
       "185  2.000 18.1  1.7  2.0 0.0   1.7  5.9 0.0\n",
       "186 46.075  1.1  3.9  2.1 0.0   3.9  4.6 2.3\n",
       "187 17.491  0.0  4.7  0.0 0.0   2.6  2.6 0.0\n",
       "188 14.775  0.0 12.0  1.7 0.0   2.7  0.0 0.0\n",
       "189 18.330  1.7  7.0  1.2 0.0   4.8  3.1 0.0\n",
       "190 24.556  0.0  0.0 10.2 1.7   1.2  0.0 5.5\n",
       "191  5.620  7.6  0.0  1.2 0.0  15.9 31.8 5.9\n",
       "192  8.155  2.9  4.6  1.0 0.0   6.6 16.6 0.0\n",
       "193  5.111  2.2 12.7  8.8 0.0   0.0  0.0 1.2\n",
       "194 22.900  3.8 22.0  2.9 0.0   3.1  5.5 0.0\n",
       "195  6.167 18.9 13.2  5.0 0.0   6.1  0.0 0.0\n",
       "196  2.338 12.7 21.7  5.6 0.0   1.0  0.0 0.0\n",
       "197  4.667 18.0  7.0  1.7 0.0   4.8 10.3 1.0\n",
       "198 31.738  0.0 15.9  2.4 1.0   0.0  0.0 0.0\n",
       "200 18.300  2.4 10.5  9.0 7.8   0.0  0.0 5.8"
      ]
     },
     "metadata": {},
     "output_type": "display_data"
    }
   ],
   "source": [
    "algae <- algae[complete.cases(algae), ]\n",
    "algae"
   ]
  },
  {
   "cell_type": "markdown",
   "metadata": {},
   "source": [
    "- season: categorical\n",
    "- size: categorical\n",
    "- speed: categorical\n",
    "- mxPH/mnO2/CI/NO3/NH4/oPO4/PO4/Chla: numeric"
   ]
  },
  {
   "cell_type": "code",
   "execution_count": 8,
   "metadata": {},
   "outputs": [
    {
     "ename": "ERROR",
     "evalue": "Error in parse(text = x, srcfile = src): <text>:5:21: unexpected ','\n4:     data = is.numeric(i)\n5:     hist(algae$data),\n                       ^\n",
     "output_type": "error",
     "traceback": [
      "Error in parse(text = x, srcfile = src): <text>:5:21: unexpected ','\n4:     data = is.numeric(i)\n5:     hist(algae$data),\n                       ^\nTraceback:\n"
     ]
    }
   ],
   "source": [
    "chemList <- c(\"mxPH\", \"mnO2\", \"CI\", \"NO3\", \"NH4\", \"oPO4\", \"PO4\", \"Chla\")\n",
    "\n",
    "for (i in chemList) {\n",
    "    data = is.numeric(i)\n",
    "    hist(algae$data), xlab=\"mxPH\", main=\"\")\n",
    "    \n",
    "}"
   ]
  },
  {
   "cell_type": "code",
   "execution_count": 9,
   "metadata": {},
   "outputs": [
    {
     "data": {
      "image/png": "[encoded data removed]",
      "text/plain": [
       "Plot with title \"\""
      ]
     },
     "metadata": {},
     "output_type": "display_data"
    }
   ],
   "source": [
    "par(mfrow=c(3,3))\n",
    "options(repr.plot.width=5, repr.plot.height=5)\n",
    "\n",
    "hist(algae$mxPH, xlab=\"mxPH\", main=\"\")\n",
    "hist(algae$mnO2, xlab=\"mnO2\", main=\"\")\n",
    "hist(algae$Cl, xlab=\"Cl\", main=\"\")\n",
    "hist(algae$NO3, xlab=\"NO3\", main=\"\")\n",
    "hist(algae$NH4, xlab=\"NH4\", main=\"\")\n",
    "hist(algae$oPO4, xlab=\"oPO4\", main=\"\")\n",
    "hist(algae$PO4, xlab=\"PO4\", main=\"\")\n",
    "hist(algae$Chla, xlab=\"Chla\", main=\"\")"
   ]
  },
  {
   "cell_type": "markdown",
   "metadata": {},
   "source": [
    "### Distribution and quantitative measures: \n",
    "1)mxPH: unimodal/ mean: 8.078/ sd: 0.472\n",
    "        <br>\n",
    "2) mnO2: unimodal/ mean: 9.019/ sd: 2.704\n",
    "         <br>\n",
    "3) Cl: right-skewed/ mean: 44.881/ sd: 47.067\n",
    "       <br>\n",
    "4) NO3: right-skewed/  mean: 3.384/ sd: 3.875\n",
    "        <br>\n",
    "5) NH4: right-skewed/ mean: 537.672/ sd: 2031.585\n",
    "        <br>\n",
    "6) oPO4: right-skewed/ mean: 78.269/ sd: 92.621\n",
    "         <br>\n",
    "7) PO4: right-skewed/ mean: 146.578/ sd: 129.108\n",
    "        <br>\n",
    "8) Chla: right-skewed/ mean: 13.883/ sd: 20.265"
   ]
  },
  {
   "cell_type": "code",
   "execution_count": 10,
   "metadata": {},
   "outputs": [
    {
     "data": {
      "text/html": [
       "8.07828804347826"
      ],
      "text/latex": [
       "8.07828804347826"
      ],
      "text/markdown": [
       "8.07828804347826"
      ],
      "text/plain": [
       "[1] 8.078288"
      ]
     },
     "metadata": {},
     "output_type": "display_data"
    },
    {
     "data": {
      "text/html": [
       "9.01858695652174"
      ],
      "text/latex": [
       "9.01858695652174"
      ],
      "text/markdown": [
       "9.01858695652174"
      ],
      "text/plain": [
       "[1] 9.018587"
      ]
     },
     "metadata": {},
     "output_type": "display_data"
    },
    {
     "data": {
      "text/html": [
       "44.8808857608696"
      ],
      "text/latex": [
       "44.8808857608696"
      ],
      "text/markdown": [
       "44.8808857608696"
      ],
      "text/plain": [
       "[1] 44.88089"
      ]
     },
     "metadata": {},
     "output_type": "display_data"
    },
    {
     "data": {
      "text/html": [
       "3.38407065217391"
      ],
      "text/latex": [
       "3.38407065217391"
      ],
      "text/markdown": [
       "3.38407065217391"
      ],
      "text/plain": [
       "[1] 3.384071"
      ]
     },
     "metadata": {},
     "output_type": "display_data"
    },
    {
     "data": {
      "text/html": [
       "537.671597934783"
      ],
      "text/latex": [
       "537.671597934783"
      ],
      "text/markdown": [
       "537.671597934783"
      ],
      "text/plain": [
       "[1] 537.6716"
      ]
     },
     "metadata": {},
     "output_type": "display_data"
    },
    {
     "data": {
      "text/html": [
       "78.2694456521739"
      ],
      "text/latex": [
       "78.2694456521739"
      ],
      "text/markdown": [
       "78.2694456521739"
      ],
      "text/plain": [
       "[1] 78.26945"
      ]
     },
     "metadata": {},
     "output_type": "display_data"
    },
    {
     "data": {
      "text/html": [
       "146.577646684783"
      ],
      "text/latex": [
       "146.577646684783"
      ],
      "text/markdown": [
       "146.577646684783"
      ],
      "text/plain": [
       "[1] 146.5776"
      ]
     },
     "metadata": {},
     "output_type": "display_data"
    },
    {
     "data": {
      "text/html": [
       "13.8827989130435"
      ],
      "text/latex": [
       "13.8827989130435"
      ],
      "text/markdown": [
       "13.8827989130435"
      ],
      "text/plain": [
       "[1] 13.8828"
      ]
     },
     "metadata": {},
     "output_type": "display_data"
    },
    {
     "data": {
      "text/html": [
       "'break'"
      ],
      "text/latex": [
       "'break'"
      ],
      "text/markdown": [
       "'break'"
      ],
      "text/plain": [
       "[1] \"break\""
      ]
     },
     "metadata": {},
     "output_type": "display_data"
    },
    {
     "data": {
      "text/html": [
       "0.471705924723341"
      ],
      "text/latex": [
       "0.471705924723341"
      ],
      "text/markdown": [
       "0.471705924723341"
      ],
      "text/plain": [
       "[1] 0.4717059"
      ]
     },
     "metadata": {},
     "output_type": "display_data"
    },
    {
     "data": {
      "text/html": [
       "2.40715762434927"
      ],
      "text/latex": [
       "2.40715762434927"
      ],
      "text/markdown": [
       "2.40715762434927"
      ],
      "text/plain": [
       "[1] 2.407158"
      ]
     },
     "metadata": {},
     "output_type": "display_data"
    },
    {
     "data": {
      "text/html": [
       "47.0669955875118"
      ],
      "text/latex": [
       "47.0669955875118"
      ],
      "text/markdown": [
       "47.0669955875118"
      ],
      "text/plain": [
       "[1] 47.067"
      ]
     },
     "metadata": {},
     "output_type": "display_data"
    },
    {
     "data": {
      "text/html": [
       "3.87471111144648"
      ],
      "text/latex": [
       "3.87471111144648"
      ],
      "text/markdown": [
       "3.87471111144648"
      ],
      "text/plain": [
       "[1] 3.874711"
      ]
     },
     "metadata": {},
     "output_type": "display_data"
    },
    {
     "data": {
      "text/html": [
       "2031.58485998122"
      ],
      "text/latex": [
       "2031.58485998122"
      ],
      "text/markdown": [
       "2031.58485998122"
      ],
      "text/plain": [
       "[1] 2031.585"
      ]
     },
     "metadata": {},
     "output_type": "display_data"
    },
    {
     "data": {
      "text/html": [
       "92.6214853059731"
      ],
      "text/latex": [
       "92.6214853059731"
      ],
      "text/markdown": [
       "92.6214853059731"
      ],
      "text/plain": [
       "[1] 92.62149"
      ]
     },
     "metadata": {},
     "output_type": "display_data"
    },
    {
     "data": {
      "text/html": [
       "129.108147829855"
      ],
      "text/latex": [
       "129.108147829855"
      ],
      "text/markdown": [
       "129.108147829855"
      ],
      "text/plain": [
       "[1] 129.1081"
      ]
     },
     "metadata": {},
     "output_type": "display_data"
    },
    {
     "data": {
      "text/html": [
       "20.2646300738598"
      ],
      "text/latex": [
       "20.2646300738598"
      ],
      "text/markdown": [
       "20.2646300738598"
      ],
      "text/plain": [
       "[1] 20.26463"
      ]
     },
     "metadata": {},
     "output_type": "display_data"
    }
   ],
   "source": [
    "mean(algae$mxPH)\n",
    "mean(algae$mnO2)\n",
    "mean(algae$Cl)\n",
    "mean(algae$NO3)\n",
    "mean(algae$NH4)\n",
    "mean(algae$oPO4)\n",
    "mean(algae$PO4)\n",
    "mean(algae$Chla)\n",
    "\"break\"\n",
    "sd(algae$mxPH)\n",
    "sd(algae$mnO2)\n",
    "sd(algae$Cl)\n",
    "sd(algae$NO3)\n",
    "sd(algae$NH4)\n",
    "sd(algae$oPO4)\n",
    "sd(algae$PO4)\n",
    "sd(algae$Chla)"
   ]
  },
  {
   "cell_type": "markdown",
   "metadata": {},
   "source": [
    "####  Find a variable which is extremely skewed, with a mode of 1 or less: \n",
    "Cl/NO3/NH4/oPO4/PO4/Chla"
   ]
  },
  {
   "cell_type": "markdown",
   "metadata": {},
   "source": [
    "### A variable which is exponentially distributed.\n",
    "*fix models with ranges over several orders by taking a logarithm*"
   ]
  },
  {
   "cell_type": "code",
   "execution_count": 11,
   "metadata": {},
   "outputs": [
    {
     "data": {
      "image/png": "[encoded data removed]",
      "text/plain": [
       "Plot with title \"\""
      ]
     },
     "metadata": {},
     "output_type": "display_data"
    }
   ],
   "source": [
    "par(mfrow=c(2,3))\n",
    "options(repr.plot.width=5, repr.plot.height=4)\n",
    "\n",
    "#hist(log(algae$mxPH), xlab=\"mxPH\", main=\"\")\n",
    "#hist(log(algae$mnO2), xlab=\"mnO2\", main=\"\")\n",
    "hist(log(algae$Cl), xlab=\"Cl\", main=\"\")\n",
    "hist(log(algae$NO3), xlab=\"NO3\", main=\"\")\n",
    "hist(log(algae$NH4), xlab=\"NH4\", main=\"\")\n",
    "hist(log(algae$oPO4), xlab=\"oPO4\", main=\"\")\n",
    "hist(log(algae$PO4), xlab=\"PO4\", main=\"\")\n",
    "hist(log(algae$Chla), xlab=\"Chla\", main=\"\")"
   ]
  },
  {
   "cell_type": "markdown",
   "metadata": {},
   "source": [
    "-> By applying logarithm to the data, the the exponentially distributed variables becomes normally distribued with unimodal distrubution."
   ]
  },
  {
   "cell_type": "code",
   "execution_count": 12,
   "metadata": {},
   "outputs": [
    {
     "data": {
      "image/png": "[encoded data removed]",
      "text/plain": [
       "Plot with title \"Boxplot\""
      ]
     },
     "metadata": {},
     "output_type": "display_data"
    }
   ],
   "source": [
    "par(mfrow=c(1,2))\n",
    "options(repr.plot.width=5, repr.plot.height=3)\n",
    "hist(algae$a1, xlab=\"algae 1\", main=\"Hist.\")\n",
    "boxplot(algae$a1, xlab=\"algae 1\", main=\"Boxplot\")"
   ]
  },
  {
   "cell_type": "markdown",
   "metadata": {},
   "source": [
    "#### Absent any actual health guidance, we'll have to choose a value that's dangerous. What do you choose, and why?\n",
    "50 -> As the boxplot suggests, from about 50 appear to be the outliers of a1."
   ]
  },
  {
   "cell_type": "code",
   "execution_count": 13,
   "metadata": {
    "scrolled": true
   },
   "outputs": [
    {
     "data": {
      "text/html": [
       "19"
      ],
      "text/latex": [
       "19"
      ],
      "text/markdown": [
       "19"
      ],
      "text/plain": [
       "[1] 19"
      ]
     },
     "metadata": {},
     "output_type": "display_data"
    },
    {
     "data": {
      "text/html": [
       "<ol class=list-inline>\n",
       "\t<li>52.2</li>\n",
       "\t<li>69.9</li>\n",
       "\t<li>50.6</li>\n",
       "\t<li>74.2</li>\n",
       "\t<li>66</li>\n",
       "\t<li>51.8</li>\n",
       "\t<li>54.4</li>\n",
       "\t<li>89.8</li>\n",
       "\t<li>81.9</li>\n",
       "\t<li>54</li>\n",
       "\t<li>55.5</li>\n",
       "\t<li>64.2</li>\n",
       "\t<li>64.9</li>\n",
       "\t<li>58.7</li>\n",
       "\t<li>64.3</li>\n",
       "\t<li>86.6</li>\n",
       "\t<li>52.4</li>\n",
       "\t<li>50.4</li>\n",
       "\t<li>56.8</li>\n",
       "</ol>\n"
      ],
      "text/latex": [
       "\\begin{enumerate*}\n",
       "\\item 52.2\n",
       "\\item 69.9\n",
       "\\item 50.6\n",
       "\\item 74.2\n",
       "\\item 66\n",
       "\\item 51.8\n",
       "\\item 54.4\n",
       "\\item 89.8\n",
       "\\item 81.9\n",
       "\\item 54\n",
       "\\item 55.5\n",
       "\\item 64.2\n",
       "\\item 64.9\n",
       "\\item 58.7\n",
       "\\item 64.3\n",
       "\\item 86.6\n",
       "\\item 52.4\n",
       "\\item 50.4\n",
       "\\item 56.8\n",
       "\\end{enumerate*}\n"
      ],
      "text/markdown": [
       "1. 52.2\n",
       "2. 69.9\n",
       "3. 50.6\n",
       "4. 74.2\n",
       "5. 66\n",
       "6. 51.8\n",
       "7. 54.4\n",
       "8. 89.8\n",
       "9. 81.9\n",
       "10. 54\n",
       "11. 55.5\n",
       "12. 64.2\n",
       "13. 64.9\n",
       "14. 58.7\n",
       "15. 64.3\n",
       "16. 86.6\n",
       "17. 52.4\n",
       "18. 50.4\n",
       "19. 56.8\n",
       "\n",
       "\n"
      ],
      "text/plain": [
       " [1] 52.2 69.9 50.6 74.2 66.0 51.8 54.4 89.8 81.9 54.0 55.5 64.2 64.9 58.7 64.3\n",
       "[16] 86.6 52.4 50.4 56.8"
      ]
     },
     "metadata": {},
     "output_type": "display_data"
    }
   ],
   "source": [
    "outliers <- algae$a1[which(algae$a1 > 50)]\n",
    "length(outliers)\n",
    "outliers"
   ]
  },
  {
   "cell_type": "code",
   "execution_count": 14,
   "metadata": {},
   "outputs": [
    {
     "data": {
      "text/html": [
       "<table>\n",
       "<thead><tr><th scope=col>season</th><th scope=col>size</th><th scope=col>speed</th><th scope=col>mxPH</th><th scope=col>mnO2</th><th scope=col>Cl</th><th scope=col>NO3</th><th scope=col>NH4</th><th scope=col>oPO4</th><th scope=col>PO4</th><th scope=col>Chla</th><th scope=col>a1</th><th scope=col>a2</th><th scope=col>a3</th><th scope=col>a4</th><th scope=col>a5</th><th scope=col>a6</th><th scope=col>a7</th><th scope=col>a1danger</th></tr></thead>\n",
       "<tbody>\n",
       "\t<tr><td>winter </td><td>small  </td><td>medium </td><td>8.00   </td><td> 9.8   </td><td>60.800 </td><td> 6.238 </td><td>578.000</td><td>105.000</td><td>170.000</td><td>50.0   </td><td> 0.0   </td><td> 0.0   </td><td> 0.0   </td><td>0.0    </td><td>34.2   </td><td> 8.3   </td><td>0.0    </td><td>FALSE  </td></tr>\n",
       "\t<tr><td>spring </td><td>small  </td><td>medium </td><td>8.35   </td><td> 8.0   </td><td>57.750 </td><td> 1.288 </td><td>370.000</td><td>428.750</td><td>558.750</td><td> 1.3   </td><td> 1.4   </td><td> 7.6   </td><td> 4.8   </td><td>1.9    </td><td> 6.7   </td><td> 0.0   </td><td>2.1    </td><td>FALSE  </td></tr>\n",
       "\t<tr><td>autumn </td><td>small  </td><td>medium </td><td>8.10   </td><td>11.4   </td><td>40.020 </td><td> 5.330 </td><td>346.667</td><td>125.667</td><td>187.057</td><td>15.6   </td><td> 3.3   </td><td>53.6   </td><td> 1.9   </td><td>0.0    </td><td> 0.0   </td><td> 0.0   </td><td>9.7    </td><td>FALSE  </td></tr>\n",
       "\t<tr><td>spring </td><td>small  </td><td>medium </td><td>8.07   </td><td> 4.8   </td><td>77.364 </td><td> 2.302 </td><td> 98.182</td><td> 61.182</td><td>138.700</td><td> 1.4   </td><td> 3.1   </td><td>41.0   </td><td>18.9   </td><td>0.0    </td><td> 1.4   </td><td> 0.0   </td><td>1.4    </td><td>FALSE  </td></tr>\n",
       "\t<tr><td>autumn </td><td>small  </td><td>medium </td><td>8.06   </td><td> 9.0   </td><td>55.350 </td><td>10.416 </td><td>233.700</td><td> 58.222</td><td> 97.580</td><td>10.5   </td><td> 9.2   </td><td> 2.9   </td><td> 7.5   </td><td>0.0    </td><td> 7.5   </td><td> 4.1   </td><td>1.0    </td><td>FALSE  </td></tr>\n",
       "\t<tr><td>winter </td><td>small  </td><td>high   </td><td>8.25   </td><td>13.1   </td><td>65.750 </td><td> 9.248 </td><td>430.000</td><td> 18.250</td><td> 56.667</td><td>28.4   </td><td>15.1   </td><td>14.6   </td><td> 1.4   </td><td>0.0    </td><td>22.5   </td><td>12.6   </td><td>2.9    </td><td>FALSE  </td></tr>\n",
       "</tbody>\n",
       "</table>\n"
      ],
      "text/latex": [
       "\\begin{tabular}{r|lllllllllllllllllll}\n",
       " season & size & speed & mxPH & mnO2 & Cl & NO3 & NH4 & oPO4 & PO4 & Chla & a1 & a2 & a3 & a4 & a5 & a6 & a7 & a1danger\\\\\n",
       "\\hline\n",
       "\t winter  & small   & medium  & 8.00    &  9.8    & 60.800  &  6.238  & 578.000 & 105.000 & 170.000 & 50.0    &  0.0    &  0.0    &  0.0    & 0.0     & 34.2    &  8.3    & 0.0     & FALSE  \\\\\n",
       "\t spring  & small   & medium  & 8.35    &  8.0    & 57.750  &  1.288  & 370.000 & 428.750 & 558.750 &  1.3    &  1.4    &  7.6    &  4.8    & 1.9     &  6.7    &  0.0    & 2.1     & FALSE  \\\\\n",
       "\t autumn  & small   & medium  & 8.10    & 11.4    & 40.020  &  5.330  & 346.667 & 125.667 & 187.057 & 15.6    &  3.3    & 53.6    &  1.9    & 0.0     &  0.0    &  0.0    & 9.7     & FALSE  \\\\\n",
       "\t spring  & small   & medium  & 8.07    &  4.8    & 77.364  &  2.302  &  98.182 &  61.182 & 138.700 &  1.4    &  3.1    & 41.0    & 18.9    & 0.0     &  1.4    &  0.0    & 1.4     & FALSE  \\\\\n",
       "\t autumn  & small   & medium  & 8.06    &  9.0    & 55.350  & 10.416  & 233.700 &  58.222 &  97.580 & 10.5    &  9.2    &  2.9    &  7.5    & 0.0     &  7.5    &  4.1    & 1.0     & FALSE  \\\\\n",
       "\t winter  & small   & high    & 8.25    & 13.1    & 65.750  &  9.248  & 430.000 &  18.250 &  56.667 & 28.4    & 15.1    & 14.6    &  1.4    & 0.0     & 22.5    & 12.6    & 2.9     & FALSE  \\\\\n",
       "\\end{tabular}\n"
      ],
      "text/markdown": [
       "\n",
       "season | size | speed | mxPH | mnO2 | Cl | NO3 | NH4 | oPO4 | PO4 | Chla | a1 | a2 | a3 | a4 | a5 | a6 | a7 | a1danger | \n",
       "|---|---|---|---|---|---|\n",
       "| winter  | small   | medium  | 8.00    |  9.8    | 60.800  |  6.238  | 578.000 | 105.000 | 170.000 | 50.0    |  0.0    |  0.0    |  0.0    | 0.0     | 34.2    |  8.3    | 0.0     | FALSE   | \n",
       "| spring  | small   | medium  | 8.35    |  8.0    | 57.750  |  1.288  | 370.000 | 428.750 | 558.750 |  1.3    |  1.4    |  7.6    |  4.8    | 1.9     |  6.7    |  0.0    | 2.1     | FALSE   | \n",
       "| autumn  | small   | medium  | 8.10    | 11.4    | 40.020  |  5.330  | 346.667 | 125.667 | 187.057 | 15.6    |  3.3    | 53.6    |  1.9    | 0.0     |  0.0    |  0.0    | 9.7     | FALSE   | \n",
       "| spring  | small   | medium  | 8.07    |  4.8    | 77.364  |  2.302  |  98.182 |  61.182 | 138.700 |  1.4    |  3.1    | 41.0    | 18.9    | 0.0     |  1.4    |  0.0    | 1.4     | FALSE   | \n",
       "| autumn  | small   | medium  | 8.06    |  9.0    | 55.350  | 10.416  | 233.700 |  58.222 |  97.580 | 10.5    |  9.2    |  2.9    |  7.5    | 0.0     |  7.5    |  4.1    | 1.0     | FALSE   | \n",
       "| winter  | small   | high    | 8.25    | 13.1    | 65.750  |  9.248  | 430.000 |  18.250 |  56.667 | 28.4    | 15.1    | 14.6    |  1.4    | 0.0     | 22.5    | 12.6    | 2.9     | FALSE   | \n",
       "\n",
       "\n"
      ],
      "text/plain": [
       "  season size  speed  mxPH mnO2 Cl     NO3    NH4     oPO4    PO4     Chla a1  \n",
       "1 winter small medium 8.00  9.8 60.800  6.238 578.000 105.000 170.000 50.0  0.0\n",
       "2 spring small medium 8.35  8.0 57.750  1.288 370.000 428.750 558.750  1.3  1.4\n",
       "3 autumn small medium 8.10 11.4 40.020  5.330 346.667 125.667 187.057 15.6  3.3\n",
       "4 spring small medium 8.07  4.8 77.364  2.302  98.182  61.182 138.700  1.4  3.1\n",
       "5 autumn small medium 8.06  9.0 55.350 10.416 233.700  58.222  97.580 10.5  9.2\n",
       "6 winter small high   8.25 13.1 65.750  9.248 430.000  18.250  56.667 28.4 15.1\n",
       "  a2   a3   a4  a5   a6   a7  a1danger\n",
       "1  0.0  0.0 0.0 34.2  8.3 0.0 FALSE   \n",
       "2  7.6  4.8 1.9  6.7  0.0 2.1 FALSE   \n",
       "3 53.6  1.9 0.0  0.0  0.0 9.7 FALSE   \n",
       "4 41.0 18.9 0.0  1.4  0.0 1.4 FALSE   \n",
       "5  2.9  7.5 0.0  7.5  4.1 1.0 FALSE   \n",
       "6 14.6  1.4 0.0 22.5 12.6 2.9 FALSE   "
      ]
     },
     "metadata": {},
     "output_type": "display_data"
    }
   ],
   "source": [
    "algae$a1danger <- algae$a1 > 50\n",
    "algae$a1danger <- as.factor(algae$a1danger)\n",
    "head(algae)"
   ]
  },
  {
   "cell_type": "code",
   "execution_count": 15,
   "metadata": {},
   "outputs": [
    {
     "data": {
      "image/png": "[encoded data removed]",
      "text/plain": [
       "Plot with title \"\""
      ]
     },
     "metadata": {},
     "output_type": "display_data"
    }
   ],
   "source": [
    "par(mfrow=c(4,2))\n",
    "options(repr.plot.width=5, repr.plot.height=10)\n",
    "\n",
    "plot(algae$a1danger, algae$mxPH, xlab=\"mxPH\", main=\"\")\n",
    "plot(algae$a1danger, algae$mnO2, xlab=\"mnO2\", main=\"\")\n",
    "plot(algae$a1danger, algae$Cl, xlab=\"Cl\", main=\"\")\n",
    "plot(algae$a1danger, algae$NO3, xlab=\"NO3\", main=\"\")\n",
    "plot(algae$a1danger, algae$NH4, xlab=\"NH4\", main=\"\")\n",
    "plot(algae$a1danger, algae$oPO4, xlab=\"oPO4\", main=\"\")\n",
    "plot(algae$a1danger, algae$PO4, xlab=\"PO4\", main=\"\")\n",
    "plot(algae$a1danger, algae$Chla, xlab=\"Chla\", main=\"\")"
   ]
  },
  {
   "cell_type": "code",
   "execution_count": null,
   "metadata": {},
   "outputs": [],
   "source": [
    "#a1Danger <- algae[algae$a1 > 50, ]\n",
    "#par(mfrow=c(4,2))\n",
    "#options(repr.plot.width=5, repr.plot.height=10)\n",
    "\n",
    "#boxplot(a1Danger$mxPH, xlab=\"mxPH\", main=\"\")\n",
    "#boxplot(a1Danger$mnO2, xlab=\"mnO2\", main=\"\")\n",
    "#boxplot(a1Danger$Cl, xlab=\"Cl\", main=\"\")\n",
    "#boxplot(a1Danger$NO3, xlab=\"NO3\", main=\"\")\n",
    "#boxplot(a1Danger$NH4, xlab=\"NH4\", main=\"\")\n",
    "#boxplot(a1Danger$oPO4, xlab=\"oPO4\", main=\"\")\n",
    "#boxplot(a1Danger$PO4, xlab=\"PO4\", main=\"\")\n",
    "#boxplot(a1Danger$Chla, xlab=\"Chla\", main=\"\")"
   ]
  },
  {
   "cell_type": "code",
   "execution_count": 40,
   "metadata": {},
   "outputs": [
    {
     "data": {
      "text/html": [
       "7.94"
      ],
      "text/latex": [
       "7.94"
      ],
      "text/markdown": [
       "7.94"
      ],
      "text/plain": [
       "[1] 7.94"
      ]
     },
     "metadata": {},
     "output_type": "display_data"
    },
    {
     "data": {
      "text/html": [
       "0.446256030149111"
      ],
      "text/latex": [
       "0.446256030149111"
      ],
      "text/markdown": [
       "0.446256030149111"
      ],
      "text/plain": [
       "[1] 0.446256"
      ]
     },
     "metadata": {},
     "output_type": "display_data"
    },
    {
     "data": {
      "text/html": [
       "8.09421212121212"
      ],
      "text/latex": [
       "8.09421212121212"
      ],
      "text/markdown": [
       "8.09421212121212"
      ],
      "text/plain": [
       "[1] 8.094212"
      ]
     },
     "metadata": {},
     "output_type": "display_data"
    },
    {
     "data": {
      "text/html": [
       "0.473240628576105"
      ],
      "text/latex": [
       "0.473240628576105"
      ],
      "text/markdown": [
       "0.473240628576105"
      ],
      "text/plain": [
       "[1] 0.4732406"
      ]
     },
     "metadata": {},
     "output_type": "display_data"
    },
    {
     "data": {
      "text/html": [
       "0.406297047076707"
      ],
      "text/latex": [
       "0.406297047076707"
      ],
      "text/markdown": [
       "0.406297047076707"
      ],
      "text/plain": [
       "[1] 0.406297"
      ]
     },
     "metadata": {},
     "output_type": "display_data"
    }
   ],
   "source": [
    "danger <- algae[algae$a1danger == TRUE, ]\n",
    "notDanger <- algae[algae$a1danger == FALSE, ]\n",
    "\n",
    "xbar1 <- mean(danger$mxPH)\n",
    "sd1 <- sd(danger$mxPH)\n",
    "\n",
    "xbar2 <- mean(notDanger$mxPH)\n",
    "sd2 <- sd(notDanger$mxPH)\n",
    "\n",
    "xbar1\n",
    "sd1\n",
    "xbar2\n",
    "sd2\n",
    "\n",
    "a = -abs(xbar1 - xbar2) / sqrt(sd1^2 + sd2^2)\n",
    "\n",
    "pnorm(a)"
   ]
  },
  {
   "cell_type": "code",
   "execution_count": 41,
   "metadata": {},
   "outputs": [
    {
     "data": {
      "text/html": [
       "10.2626315789474"
      ],
      "text/latex": [
       "10.2626315789474"
      ],
      "text/markdown": [
       "10.2626315789474"
      ],
      "text/plain": [
       "[1] 10.26263"
      ]
     },
     "metadata": {},
     "output_type": "display_data"
    },
    {
     "data": {
      "text/html": [
       "1.7026705889581"
      ],
      "text/latex": [
       "1.7026705889581"
      ],
      "text/markdown": [
       "1.7026705889581"
      ],
      "text/plain": [
       "[1] 1.702671"
      ]
     },
     "metadata": {},
     "output_type": "display_data"
    },
    {
     "data": {
      "text/html": [
       "8.87533333333333"
      ],
      "text/latex": [
       "8.87533333333333"
      ],
      "text/markdown": [
       "8.87533333333333"
      ],
      "text/plain": [
       "[1] 8.875333"
      ]
     },
     "metadata": {},
     "output_type": "display_data"
    },
    {
     "data": {
      "text/html": [
       "2.43876431458922"
      ],
      "text/latex": [
       "2.43876431458922"
      ],
      "text/markdown": [
       "2.43876431458922"
      ],
      "text/plain": [
       "[1] 2.438764"
      ]
     },
     "metadata": {},
     "output_type": "display_data"
    },
    {
     "data": {
      "text/html": [
       "0.320456280741836"
      ],
      "text/latex": [
       "0.320456280741836"
      ],
      "text/markdown": [
       "0.320456280741836"
      ],
      "text/plain": [
       "[1] 0.3204563"
      ]
     },
     "metadata": {},
     "output_type": "display_data"
    }
   ],
   "source": [
    "xbar1 <- mean(danger$mnO2)\n",
    "sd1 <- sd(danger$mnO2)\n",
    "\n",
    "xbar2 <- mean(notDanger$mnO2)\n",
    "sd2 <- sd(notDanger$mnO2)\n",
    "\n",
    "xbar1\n",
    "sd1\n",
    "xbar2\n",
    "sd2\n",
    "\n",
    "a = -abs(xbar1 - xbar2) / sqrt(sd1^2 + sd2^2)\n",
    "\n",
    "pnorm(a)"
   ]
  },
  {
   "cell_type": "code",
   "execution_count": null,
   "metadata": {},
   "outputs": [],
   "source": [
    "xbar2 <- mean(danger$CI)\n",
    "sd2 <- sd(danger$CI)\n",
    "\n",
    "xbar2 <- mean(danger$NO3)\n",
    "sd2 <- sd(danger$NO3)\n",
    "\n",
    "xbar2 <- mean(danger$NH4)\n",
    "sd2 <- sd(danger$NH4)\n",
    "\n",
    "xbar2 <- mean(danger$oPO4)\n",
    "sd2 <- sd(danger$oPO4)\n",
    "\n",
    "xbar2 <- mean(danger$PO4)\n",
    "sd2 <- sd(danger$PO4)\n",
    "\n",
    "xbar2 <- mean(danger$Chla)\n",
    "sd2 <- sd(danger$Chla)\n"
   ]
  }
 ],
 "metadata": {
  "kernelspec": {
   "display_name": "R",
   "language": "R",
   "name": "ir"
  },
  "language_info": {
   "codemirror_mode": "r",
   "file_extension": ".r",
   "mimetype": "text/x-r-source",
   "name": "R",
   "pygments_lexer": "r",
   "version": "3.5.1"
  }
 },
 "nbformat": 4,
 "nbformat_minor": 2
}
