{
 "cells": [
  {
   "cell_type": "markdown",
   "metadata": {},
   "source": [
    "# CRISP-DM Methodology"
   ]
  },
  {
   "cell_type": "code",
   "execution_count": 15,
   "metadata": {},
   "outputs": [
    {
     "data": {
      "text/html": [
       "<table>\n",
       "<thead><tr><th scope=col>Insulation</th><th scope=col>Temperature</th><th scope=col>Heating_Oil</th><th scope=col>Num_Occupants</th><th scope=col>Avg_Age</th><th scope=col>Home_Size</th></tr></thead>\n",
       "<tbody>\n",
       "\t<tr><td> 6  </td><td>74  </td><td>132 </td><td>4   </td><td>23.8</td><td>4   </td></tr>\n",
       "\t<tr><td>10  </td><td>43  </td><td>263 </td><td>4   </td><td>56.7</td><td>4   </td></tr>\n",
       "\t<tr><td> 3  </td><td>81  </td><td>145 </td><td>2   </td><td>28.0</td><td>6   </td></tr>\n",
       "\t<tr><td> 9  </td><td>50  </td><td>196 </td><td>4   </td><td>45.1</td><td>3   </td></tr>\n",
       "\t<tr><td> 2  </td><td>80  </td><td>131 </td><td>5   </td><td>20.8</td><td>2   </td></tr>\n",
       "\t<tr><td> 5  </td><td>76  </td><td>129 </td><td>3   </td><td>21.5</td><td>3   </td></tr>\n",
       "</tbody>\n",
       "</table>\n"
      ],
      "text/latex": [
       "\\begin{tabular}{r|llllll}\n",
       " Insulation & Temperature & Heating\\_Oil & Num\\_Occupants & Avg\\_Age & Home\\_Size\\\\\n",
       "\\hline\n",
       "\t  6   & 74   & 132  & 4    & 23.8 & 4   \\\\\n",
       "\t 10   & 43   & 263  & 4    & 56.7 & 4   \\\\\n",
       "\t  3   & 81   & 145  & 2    & 28.0 & 6   \\\\\n",
       "\t  9   & 50   & 196  & 4    & 45.1 & 3   \\\\\n",
       "\t  2   & 80   & 131  & 5    & 20.8 & 2   \\\\\n",
       "\t  5   & 76   & 129  & 3    & 21.5 & 3   \\\\\n",
       "\\end{tabular}\n"
      ],
      "text/markdown": [
       "\n",
       "Insulation | Temperature | Heating_Oil | Num_Occupants | Avg_Age | Home_Size | \n",
       "|---|---|---|---|---|---|\n",
       "|  6   | 74   | 132  | 4    | 23.8 | 4    | \n",
       "| 10   | 43   | 263  | 4    | 56.7 | 4    | \n",
       "|  3   | 81   | 145  | 2    | 28.0 | 6    | \n",
       "|  9   | 50   | 196  | 4    | 45.1 | 3    | \n",
       "|  2   | 80   | 131  | 5    | 20.8 | 2    | \n",
       "|  5   | 76   | 129  | 3    | 21.5 | 3    | \n",
       "\n",
       "\n"
      ],
      "text/plain": [
       "  Insulation Temperature Heating_Oil Num_Occupants Avg_Age Home_Size\n",
       "1  6         74          132         4             23.8    4        \n",
       "2 10         43          263         4             56.7    4        \n",
       "3  3         81          145         2             28.0    6        \n",
       "4  9         50          196         4             45.1    3        \n",
       "5  2         80          131         5             20.8    2        \n",
       "6  5         76          129         3             21.5    3        "
      ]
     },
     "metadata": {},
     "output_type": "display_data"
    }
   ],
   "source": [
    "library(repr)\n",
    "library(corrplot)\n",
    "\n",
    "heating <- read.csv(\"heatingData.csv\")\n",
    "head(heating)"
   ]
  },
  {
   "cell_type": "markdown",
   "metadata": {},
   "source": [
    "\\* based on the plots of heating oil usage relative to the possible variables\n",
    "#### What factors are related to heating oil usage?\n",
    "- Insulation: \n",
    "<br>\n",
    "If we assume that the data was collected from diffeent regions of the country, then the people who live in the cold regions will likely be using more heating oil. In addition, households in the cold regions would theoratically have better insulation comapre to the people in the warmer regions where they do not need heating systems.\n",
    "<br>\n",
    "$\\rightarrow$ This is the reason the plot of insulation vs. amount of heating oil displays such a behavior in the plot below.\n",
    "<br>\n",
    "<br>\n",
    "- Temperature:\n",
    "<br>\n",
    "As the temperature increases, the more heating oil people will be using to warm their home. \n",
    "<br>\n",
    "<br>\n",
    "- Number of Occupation:\n",
    "Considering an average individual is living alone in a house, the size of the house tends to be smaller compared to the size of the house of a family of four. In this case, the single individual will likely be spending less amount of oil to heat the comparatively small house. \n",
    "<br>\n",
    "<br>\n",
    "- Average Age:\n",
    "<br>\n",
    "Individuals in younger ages have greater resistance to cold temperature compared to individuals in older ages. Therefore, as age gets larger, the amount of heating oil increases relative to individuals' ages.\n",
    "<br>\n",
    "<br>\n",
    "- HomeSize: \n",
    "<br>\n",
    "Assuming two households with the smae condition of insulation for their houses lived in a cold region of the country. If one house is larger compared to the other house, then the house which is bigger will likely to consume more heating oil to heat the entire house.\n",
    "#### What can we do to predict demand for heating oil? That is, can we anticipate when we'll need to supply more or less?\n",
    "<br>\n",
    "We can somewhat accurately predict the usage of heating oil depending on the region of the country. Because each region has a different environmntal and weather condition and people's habitation will vary depending on the location of thier houses.\n",
    "<br>\n",
    "Oil suppliers may take this factors or the factors in the question above to adjust their supply to be more or less based on weather or temperature changes of regions.\n",
    "<br>\n",
    "<br>\n",
    "In case of unusual weather conditions such as early seasonal changes of cold wave or hot wave, they are hard to be predict since weather podcase is not always consistant. Yet, the suppliers may react to such information to prepare for increase or decease of oil consumptions taking risks to predict the behavior of consumers in short run."
   ]
  },
  {
   "cell_type": "markdown",
   "metadata": {},
   "source": [
    "### Ploting the Heating Data:"
   ]
  },
  {
   "cell_type": "code",
   "execution_count": 2,
   "metadata": {},
   "outputs": [
    {
     "data": {
      "image/png": "[encoded data removed]",
      "text/plain": [
       "Plot with title \"\""
      ]
     },
     "metadata": {},
     "output_type": "display_data"
    }
   ],
   "source": [
    "par(mfrow=c(3,4))\n",
    "options(repr.plot.width=8, repr.plot.height=7)\n",
    "plot(heating$Insulation, heating$Heating_Oil, xlab = \"Insulation\", ylab=\"Heating Oil\")\n",
    "hist(heating$Insulation, xlab = \"Insulation\", ylab=\"Dstr.\", main=\"\", breaks=9)\n",
    "\n",
    "plot(heating$Temperature, heating$Heating_Oil, xlab = \"Temperature\", ylab=\"Heating Oil\")\n",
    "hist(heating$Temperature, xlab = \"Temperature\", ylab=\"Dstr.\", main=\"\", breaks=10)\n",
    "\n",
    "plot(heating$Num_Occupants, heating$Heating_Oil, xlab = \"Num. Occupants\", ylab=\"Heating Oil\")\n",
    "hist(heating$Num_Occupants, xlab = \"Num. Occupants\", ylab=\"Dstr.\", main=\"\", breaks=9)\n",
    "\n",
    "plot(heating$Avg_Age, heating$Heating_Oil, xlab = \"Avg. Age\", ylab=\"Heating Oil\")\n",
    "hist(heating$Avg_Age, xlab = \"Avg. Age\", ylab=\"Dstr.\", main=\"\", breaks=8)\n",
    "\n",
    "plot(heating$Home_Size, heating$Heating_Oil, xlab = \"Home Size\", ylab=\"Heating Oil\")\n",
    "hist(heating$Home_Size, xlab = \"Home Size\", ylab=\"Dstr.\", main=\"\", breaks=7)"
   ]
  },
  {
   "cell_type": "markdown",
   "metadata": {},
   "source": [
    "#### Distributions of the variables:\n",
    "1) Insulation: bimodal\n",
    "<br>\n",
    "2) Temperature: bimodal with a gap at the rage of 60 to 70 ℉\n",
    "<br>\n",
    "3) Num. Occupants: right skewed\n",
    "<br>\n",
    "4) Avg. Age: normal distribution\n",
    "<br>\n",
    "4) Home Sie: The data is evenly distributed except for a avalue that exceeds the evenly distributed tendency."
   ]
  },
  {
   "cell_type": "code",
   "execution_count": 3,
   "metadata": {},
   "outputs": [
    {
     "data": {
      "text/plain": [
       "   Insulation      Temperature     Heating_Oil    Num_Occupants   \n",
       " Min.   : 2.000   Min.   :38.00   Min.   :114.0   Min.   : 1.000  \n",
       " 1st Qu.: 4.000   1st Qu.:49.00   1st Qu.:148.2   1st Qu.: 2.000  \n",
       " Median : 6.000   Median :60.00   Median :185.0   Median : 3.000  \n",
       " Mean   : 6.214   Mean   :65.08   Mean   :197.4   Mean   : 3.113  \n",
       " 3rd Qu.: 9.000   3rd Qu.:81.00   3rd Qu.:253.0   3rd Qu.: 4.000  \n",
       " Max.   :10.000   Max.   :90.00   Max.   :301.0   Max.   :10.000  \n",
       "    Avg_Age        Home_Size    \n",
       " Min.   :15.10   Min.   :1.000  \n",
       " 1st Qu.:29.70   1st Qu.:3.000  \n",
       " Median :42.90   Median :5.000  \n",
       " Mean   :42.71   Mean   :4.649  \n",
       " 3rd Qu.:55.60   3rd Qu.:7.000  \n",
       " Max.   :72.20   Max.   :8.000  "
      ]
     },
     "metadata": {},
     "output_type": "display_data"
    }
   ],
   "source": [
    "summary(heating)\n",
    "heating <- heating[complete.cases(heating), ]"
   ]
  },
  {
   "cell_type": "markdown",
   "metadata": {},
   "source": [
    "#### What factors would you expect to best explain how the amount of Heating Oil usage varies? Why?\n",
    "Insulation and avegage age.\n",
    "\n",
    "$\\rightarrow$ People in cold regions tend to need heat to protect themselves fromthe cold weather. They tend to have better insulation compared to people from warm regions and use more heating oil at the same time.\n",
    "<br>\n",
    "$\\rightarrow$ In average, people in older age ranges have less resistence to the temperature of either hot or cold. Therefore, in a cold weather, older people will likely be comsuming more heating oil relative to people in youger ages."
   ]
  },
  {
   "cell_type": "markdown",
   "metadata": {},
   "source": [
    "### Are there significant outliers? "
   ]
  },
  {
   "cell_type": "code",
   "execution_count": 4,
   "metadata": {},
   "outputs": [
    {
     "data": {
      "image/png": "[encoded data removed]",
      "text/plain": [
       "plot without title"
      ]
     },
     "metadata": {},
     "output_type": "display_data"
    }
   ],
   "source": [
    "par(mfrow=c(2,2))\n",
    "options(repr.plot.width=5, repr.plot.height= 6)\n",
    "insul <- plot(as.factor(heating$Insulation), heating$Heating_Oil, xlab = \"Insulation\", ylab=\"Heating Oil\")\n",
    "temp <- plot(as.factor(heating$Temperature), heating$Heating_Oil, xlab = \"Temperature\", ylab=\"Heating Oil\")\n",
    "numOcc <- plot(as.factor(heating$Num_Occupants), heating$Heating_Oil, xlab = \"Num. Occupants\", ylab=\"Heating Oil\")\n",
    "age <- plot(as.factor(heating$Avg_Age), heating$Heating_Oil, xlab = \"Avg. Age\", ylab=\"Heating Oil\")\n",
    "#homeSize <- plot(as.factor(heating$Home_Size), heating$Heating_Oil, xlab = \"Home Size\", ylab=\"Heating Oil\")"
   ]
  },
  {
   "cell_type": "code",
   "execution_count": 5,
   "metadata": {},
   "outputs": [
    {
     "data": {
      "text/html": [
       "'Insulution Outliers:'"
      ],
      "text/latex": [
       "'Insulution Outliers:'"
      ],
      "text/markdown": [
       "'Insulution Outliers:'"
      ],
      "text/plain": [
       "[1] \"Insulution Outliers:\""
      ]
     },
     "metadata": {},
     "output_type": "display_data"
    },
    {
     "data": {
      "text/html": [
       "<ol class=list-inline>\n",
       "\t<li>'287'</li>\n",
       "\t<li>'253'</li>\n",
       "\t<li>'279'</li>\n",
       "\t<li>'253'</li>\n",
       "\t<li>'245'</li>\n",
       "\t<li>'248'</li>\n",
       "\t<li>'257'</li>\n",
       "\t<li>'276'</li>\n",
       "\t<li>'254'</li>\n",
       "\t<li>'255'</li>\n",
       "\t<li>'289'</li>\n",
       "\t<li>'296'</li>\n",
       "\t<li>'256'</li>\n",
       "\t<li>'272'</li>\n",
       "\t<li>'274'</li>\n",
       "\t<li>'295'</li>\n",
       "\t<li>'279'</li>\n",
       "\t<li>'297'</li>\n",
       "</ol>\n"
      ],
      "text/latex": [
       "\\begin{enumerate*}\n",
       "\\item '287'\n",
       "\\item '253'\n",
       "\\item '279'\n",
       "\\item '253'\n",
       "\\item '245'\n",
       "\\item '248'\n",
       "\\item '257'\n",
       "\\item '276'\n",
       "\\item '254'\n",
       "\\item '255'\n",
       "\\item '289'\n",
       "\\item '296'\n",
       "\\item '256'\n",
       "\\item '272'\n",
       "\\item '274'\n",
       "\\item '295'\n",
       "\\item '279'\n",
       "\\item '297'\n",
       "\\end{enumerate*}\n"
      ],
      "text/markdown": [
       "1. '287'\n",
       "2. '253'\n",
       "3. '279'\n",
       "4. '253'\n",
       "5. '245'\n",
       "6. '248'\n",
       "7. '257'\n",
       "8. '276'\n",
       "9. '254'\n",
       "10. '255'\n",
       "11. '289'\n",
       "12. '296'\n",
       "13. '256'\n",
       "14. '272'\n",
       "15. '274'\n",
       "16. '295'\n",
       "17. '279'\n",
       "18. '297'\n",
       "\n",
       "\n"
      ],
      "text/plain": [
       " [1] \"287\" \"253\" \"279\" \"253\" \"245\" \"248\" \"257\" \"276\" \"254\" \"255\" \"289\" \"296\"\n",
       "[13] \"256\" \"272\" \"274\" \"295\" \"279\" \"297\""
      ]
     },
     "metadata": {},
     "output_type": "display_data"
    },
    {
     "data": {
      "text/html": [
       "'Temperature Outliers:'"
      ],
      "text/latex": [
       "'Temperature Outliers:'"
      ],
      "text/markdown": [
       "'Temperature Outliers:'"
      ],
      "text/plain": [
       "[1] \"Temperature Outliers:\""
      ]
     },
     "metadata": {},
     "output_type": "display_data"
    },
    {
     "data": {
      "text/html": [
       "<ol class=list-inline>\n",
       "\t<li>207</li>\n",
       "\t<li>208</li>\n",
       "\t<li>294</li>\n",
       "\t<li>195</li>\n",
       "\t<li>197</li>\n",
       "\t<li>193</li>\n",
       "\t<li>193</li>\n",
       "\t<li>117</li>\n",
       "\t<li>123</li>\n",
       "\t<li>114</li>\n",
       "\t<li>175</li>\n",
       "\t<li>124</li>\n",
       "\t<li>173</li>\n",
       "\t<li>116</li>\n",
       "\t<li>173</li>\n",
       "\t<li>123</li>\n",
       "\t<li>173</li>\n",
       "\t<li>186</li>\n",
       "\t<li>184</li>\n",
       "</ol>\n"
      ],
      "text/latex": [
       "\\begin{enumerate*}\n",
       "\\item 207\n",
       "\\item 208\n",
       "\\item 294\n",
       "\\item 195\n",
       "\\item 197\n",
       "\\item 193\n",
       "\\item 193\n",
       "\\item 117\n",
       "\\item 123\n",
       "\\item 114\n",
       "\\item 175\n",
       "\\item 124\n",
       "\\item 173\n",
       "\\item 116\n",
       "\\item 173\n",
       "\\item 123\n",
       "\\item 173\n",
       "\\item 186\n",
       "\\item 184\n",
       "\\end{enumerate*}\n"
      ],
      "text/markdown": [
       "1. 207\n",
       "2. 208\n",
       "3. 294\n",
       "4. 195\n",
       "5. 197\n",
       "6. 193\n",
       "7. 193\n",
       "8. 117\n",
       "9. 123\n",
       "10. 114\n",
       "11. 175\n",
       "12. 124\n",
       "13. 173\n",
       "14. 116\n",
       "15. 173\n",
       "16. 123\n",
       "17. 173\n",
       "18. 186\n",
       "19. 184\n",
       "\n",
       "\n"
      ],
      "text/plain": [
       " [1] 207 208 294 195 197 193 193 117 123 114 175 124 173 116 173 123 173 186 184"
      ]
     },
     "metadata": {},
     "output_type": "display_data"
    },
    {
     "data": {
      "text/html": [
       "'Num. Occupant Outliers:'"
      ],
      "text/latex": [
       "'Num. Occupant Outliers:'"
      ],
      "text/markdown": [
       "'Num. Occupant Outliers:'"
      ],
      "text/plain": [
       "[1] \"Num. Occupant Outliers:\""
      ]
     },
     "metadata": {},
     "output_type": "display_data"
    },
    {
     "data": {
      "text/html": [
       "276"
      ],
      "text/latex": [
       "276"
      ],
      "text/markdown": [
       "276"
      ],
      "text/plain": [
       "[1] 276"
      ]
     },
     "metadata": {},
     "output_type": "display_data"
    },
    {
     "data": {
      "text/html": [
       "'Age Outliers:'"
      ],
      "text/latex": [
       "'Age Outliers:'"
      ],
      "text/markdown": [
       "'Age Outliers:'"
      ],
      "text/plain": [
       "[1] \"Age Outliers:\""
      ]
     },
     "metadata": {},
     "output_type": "display_data"
    },
    {
     "data": {
      "text/html": [
       "<ol class=list-inline>\n",
       "\t<li>207</li>\n",
       "\t<li>207</li>\n",
       "\t<li>290</li>\n",
       "\t<li>121</li>\n",
       "\t<li>143</li>\n",
       "\t<li>147</li>\n",
       "\t<li>152</li>\n",
       "\t<li>170</li>\n",
       "\t<li>174</li>\n",
       "\t<li>232</li>\n",
       "\t<li>244</li>\n",
       "\t<li>158</li>\n",
       "\t<li>123</li>\n",
       "\t<li>201</li>\n",
       "\t<li>264</li>\n",
       "\t<li>151</li>\n",
       "\t<li>118</li>\n",
       "\t<li>261</li>\n",
       "\t<li>266</li>\n",
       "\t<li>288</li>\n",
       "\t<li>297</li>\n",
       "\t<li>123</li>\n",
       "\t<li>208</li>\n",
       "</ol>\n"
      ],
      "text/latex": [
       "\\begin{enumerate*}\n",
       "\\item 207\n",
       "\\item 207\n",
       "\\item 290\n",
       "\\item 121\n",
       "\\item 143\n",
       "\\item 147\n",
       "\\item 152\n",
       "\\item 170\n",
       "\\item 174\n",
       "\\item 232\n",
       "\\item 244\n",
       "\\item 158\n",
       "\\item 123\n",
       "\\item 201\n",
       "\\item 264\n",
       "\\item 151\n",
       "\\item 118\n",
       "\\item 261\n",
       "\\item 266\n",
       "\\item 288\n",
       "\\item 297\n",
       "\\item 123\n",
       "\\item 208\n",
       "\\end{enumerate*}\n"
      ],
      "text/markdown": [
       "1. 207\n",
       "2. 207\n",
       "3. 290\n",
       "4. 121\n",
       "5. 143\n",
       "6. 147\n",
       "7. 152\n",
       "8. 170\n",
       "9. 174\n",
       "10. 232\n",
       "11. 244\n",
       "12. 158\n",
       "13. 123\n",
       "14. 201\n",
       "15. 264\n",
       "16. 151\n",
       "17. 118\n",
       "18. 261\n",
       "19. 266\n",
       "20. 288\n",
       "21. 297\n",
       "22. 123\n",
       "23. 208\n",
       "\n",
       "\n"
      ],
      "text/plain": [
       " [1] 207 207 290 121 143 147 152 170 174 232 244 158 123 201 264 151 118 261 266\n",
       "[20] 288 297 123 208"
      ]
     },
     "metadata": {},
     "output_type": "display_data"
    },
    {
     "data": {
      "text/html": [
       "'No Home Size Outliers'"
      ],
      "text/latex": [
       "'No Home Size Outliers'"
      ],
      "text/markdown": [
       "'No Home Size Outliers'"
      ],
      "text/plain": [
       "[1] \"No Home Size Outliers\""
      ]
     },
     "metadata": {},
     "output_type": "display_data"
    }
   ],
   "source": [
    "paste(\"Insulution Outliers:\") \n",
    "paste(insul$out)\n",
    "paste(\"Temperature Outliers:\")\n",
    "temp$out\n",
    "paste(\"Num. Occupant Outliers:\")\n",
    "numOcc$out\n",
    "paste(\"Age Outliers:\")\n",
    "age$out\n",
    "paste(\"No Home Size Outliers\")"
   ]
  },
  {
   "cell_type": "markdown",
   "metadata": {},
   "source": [
    "#### Will the outliers affect your analysis?\n",
    "$\\rightarrow$ When ploting the data set, the outliers would not necessarily be th main factor that affects the analysis of viewers when looking at different plots to analize the data. \n",
    "<br>\n",
    "<br>\n",
    "However, when graphing regression lines, the outliers can affect to result differently."
   ]
  },
  {
   "cell_type": "markdown",
   "metadata": {},
   "source": [
    "### Explore correlations\n",
    "#### Which are significant? Which look important by eye?\n",
    "##### Insulution vs. Heating Oil Consumption"
   ]
  },
  {
   "cell_type": "code",
   "execution_count": 6,
   "metadata": {},
   "outputs": [
    {
     "data": {
      "text/plain": [
       "\n",
       "\tPearson's product-moment correlation\n",
       "\n",
       "data:  heating$Insulation and heating$Heating_Oil\n",
       "t = 37.922, df = 1216, p-value < 2.2e-16\n",
       "alternative hypothesis: true correlation is not equal to 0\n",
       "95 percent confidence interval:\n",
       " 0.7092521 0.7608099\n",
       "sample estimates:\n",
       "      cor \n",
       "0.7360969 \n"
      ]
     },
     "metadata": {},
     "output_type": "display_data"
    }
   ],
   "source": [
    "cor.test(heating$Insulation, heating$Heating_Oil)"
   ]
  },
  {
   "cell_type": "markdown",
   "metadata": {},
   "source": [
    "$\\rightarrow$ There is a statistically significant correlation between insulutionand heating oil consumption.\n",
    "\n",
    "##### Temperature vs. Heating oil Consumption"
   ]
  },
  {
   "cell_type": "code",
   "execution_count": 7,
   "metadata": {},
   "outputs": [
    {
     "data": {
      "text/plain": [
       "\n",
       "\tPearson's product-moment correlation\n",
       "\n",
       "data:  heating$Temperature and heating$Heating_Oil\n",
       "t = -42.58, df = 1216, p-value < 2.2e-16\n",
       "alternative hypothesis: true correlation is not equal to 0\n",
       "95 percent confidence interval:\n",
       " -0.7952700 -0.7500859\n",
       "sample estimates:\n",
       "       cor \n",
       "-0.7736597 \n"
      ]
     },
     "metadata": {},
     "output_type": "display_data"
    }
   ],
   "source": [
    "cor.test(heating$Temperature, heating$Heating_Oil)"
   ]
  },
  {
   "cell_type": "markdown",
   "metadata": {},
   "source": [
    "$\\rightarrow$There is a statistically significant correlation between temperature and heating oil consumption.\n",
    "\n",
    "##### Number of Occupants vs. Heating oil Consumption"
   ]
  },
  {
   "cell_type": "code",
   "execution_count": 8,
   "metadata": {},
   "outputs": [
    {
     "data": {
      "text/plain": [
       "\n",
       "\tPearson's product-moment correlation\n",
       "\n",
       "data:  heating$Num_Occupants and heating$Heating_Oil\n",
       "t = -1.4531, df = 1216, p-value = 0.1464\n",
       "alternative hypothesis: true correlation is not equal to 0\n",
       "95 percent confidence interval:\n",
       " -0.09757665  0.01456875\n",
       "sample estimates:\n",
       "        cor \n",
       "-0.04163508 \n"
      ]
     },
     "metadata": {},
     "output_type": "display_data"
    }
   ],
   "source": [
    "cor.test(heating$Num_Occupants, heating$Heating_Oil)"
   ]
  },
  {
   "cell_type": "markdown",
   "metadata": {},
   "source": [
    "$\\rightarrow$ The p-value is greater than 0.05, which is 0.1464.\n",
    "<br>\n",
    "The correlation between the number of occupants and the heating oil consumption is -0.0416, which means that the heating oil consumption does not dependent on the number of occupants.\n",
    "##### Average Age vs. Heating oil Consumption"
   ]
  },
  {
   "cell_type": "code",
   "execution_count": 9,
   "metadata": {},
   "outputs": [
    {
     "data": {
      "text/plain": [
       "\n",
       "\tPearson's product-moment correlation\n",
       "\n",
       "data:  heating$Avg_Age and heating$Heating_Oil\n",
       "t = 55.769, df = 1216, p-value < 2.2e-16\n",
       "alternative hypothesis: true correlation is not equal to 0\n",
       "95 percent confidence interval:\n",
       " 0.8313127 0.8629611\n",
       "sample estimates:\n",
       "      cor \n",
       "0.8478905 \n"
      ]
     },
     "metadata": {},
     "output_type": "display_data"
    }
   ],
   "source": [
    "cor.test(heating$Avg_Age, heating$Heating_Oil)"
   ]
  },
  {
   "cell_type": "markdown",
   "metadata": {},
   "source": [
    "$\\rightarrow$There is a statistically significant correlation between the average age and heating oil consumption.\n",
    "\n",
    "##### Home Size vs. Heating oil Consumption"
   ]
  },
  {
   "cell_type": "code",
   "execution_count": 10,
   "metadata": {},
   "outputs": [
    {
     "data": {
      "text/plain": [
       "\n",
       "\tPearson's product-moment correlation\n",
       "\n",
       "data:  heating$Home_Size and heating$Heating_Oil\n",
       "t = 14.378, df = 1216, p-value < 2.2e-16\n",
       "alternative hypothesis: true correlation is not equal to 0\n",
       "95 percent confidence interval:\n",
       " 0.3321325 0.4281924\n",
       "sample estimates:\n",
       "      cor \n",
       "0.3811908 \n"
      ]
     },
     "metadata": {},
     "output_type": "display_data"
    }
   ],
   "source": [
    "cor.test(heating$Home_Size, heating$Heating_Oil)"
   ]
  },
  {
   "cell_type": "markdown",
   "metadata": {},
   "source": [
    "$\\rightarrow$There is a statistically significant correlation between home sizeand heating oil consumption."
   ]
  },
  {
   "cell_type": "code",
   "execution_count": 11,
   "metadata": {},
   "outputs": [
    {
     "data": {
      "text/html": [
       "<table>\n",
       "<thead><tr><th></th><th scope=col>Insulation</th><th scope=col>Temperature</th><th scope=col>Heating_Oil</th><th scope=col>Num_Occupants</th><th scope=col>Avg_Age</th><th scope=col>Home_Size</th></tr></thead>\n",
       "<tbody>\n",
       "\t<tr><th scope=row>Insulation</th><td> 1.00000000</td><td>-0.79369606</td><td> 0.73609688</td><td>-0.01256684</td><td> 0.64298171</td><td> 0.20071164</td></tr>\n",
       "\t<tr><th scope=row>Temperature</th><td>-0.79369606</td><td> 1.00000000</td><td>-0.77365974</td><td> 0.01251864</td><td>-0.67257949</td><td>-0.21393926</td></tr>\n",
       "\t<tr><th scope=row>Heating_Oil</th><td> 0.73609688</td><td>-0.77365974</td><td> 1.00000000</td><td>-0.04163508</td><td> 0.84789052</td><td> 0.38119082</td></tr>\n",
       "\t<tr><th scope=row>Num_Occupants</th><td>-0.01256684</td><td> 0.01251864</td><td>-0.04163508</td><td> 1.00000000</td><td>-0.04803415</td><td>-0.02253438</td></tr>\n",
       "\t<tr><th scope=row>Avg_Age</th><td> 0.64298171</td><td>-0.67257949</td><td> 0.84789052</td><td>-0.04803415</td><td> 1.00000000</td><td> 0.30655725</td></tr>\n",
       "\t<tr><th scope=row>Home_Size</th><td> 0.20071164</td><td>-0.21393926</td><td> 0.38119082</td><td>-0.02253438</td><td> 0.30655725</td><td> 1.00000000</td></tr>\n",
       "</tbody>\n",
       "</table>\n"
      ],
      "text/latex": [
       "\\begin{tabular}{r|llllll}\n",
       "  & Insulation & Temperature & Heating\\_Oil & Num\\_Occupants & Avg\\_Age & Home\\_Size\\\\\n",
       "\\hline\n",
       "\tInsulation &  1.00000000 & -0.79369606 &  0.73609688 & -0.01256684 &  0.64298171 &  0.20071164\\\\\n",
       "\tTemperature & -0.79369606 &  1.00000000 & -0.77365974 &  0.01251864 & -0.67257949 & -0.21393926\\\\\n",
       "\tHeating\\_Oil &  0.73609688 & -0.77365974 &  1.00000000 & -0.04163508 &  0.84789052 &  0.38119082\\\\\n",
       "\tNum\\_Occupants & -0.01256684 &  0.01251864 & -0.04163508 &  1.00000000 & -0.04803415 & -0.02253438\\\\\n",
       "\tAvg\\_Age &  0.64298171 & -0.67257949 &  0.84789052 & -0.04803415 &  1.00000000 &  0.30655725\\\\\n",
       "\tHome\\_Size &  0.20071164 & -0.21393926 &  0.38119082 & -0.02253438 &  0.30655725 &  1.00000000\\\\\n",
       "\\end{tabular}\n"
      ],
      "text/markdown": [
       "\n",
       "| <!--/--> | Insulation | Temperature | Heating_Oil | Num_Occupants | Avg_Age | Home_Size | \n",
       "|---|---|---|---|---|---|\n",
       "| Insulation |  1.00000000 | -0.79369606 |  0.73609688 | -0.01256684 |  0.64298171 |  0.20071164 | \n",
       "| Temperature | -0.79369606 |  1.00000000 | -0.77365974 |  0.01251864 | -0.67257949 | -0.21393926 | \n",
       "| Heating_Oil |  0.73609688 | -0.77365974 |  1.00000000 | -0.04163508 |  0.84789052 |  0.38119082 | \n",
       "| Num_Occupants | -0.01256684 |  0.01251864 | -0.04163508 |  1.00000000 | -0.04803415 | -0.02253438 | \n",
       "| Avg_Age |  0.64298171 | -0.67257949 |  0.84789052 | -0.04803415 |  1.00000000 |  0.30655725 | \n",
       "| Home_Size |  0.20071164 | -0.21393926 |  0.38119082 | -0.02253438 |  0.30655725 |  1.00000000 | \n",
       "\n",
       "\n"
      ],
      "text/plain": [
       "              Insulation  Temperature Heating_Oil Num_Occupants Avg_Age    \n",
       "Insulation     1.00000000 -0.79369606  0.73609688 -0.01256684    0.64298171\n",
       "Temperature   -0.79369606  1.00000000 -0.77365974  0.01251864   -0.67257949\n",
       "Heating_Oil    0.73609688 -0.77365974  1.00000000 -0.04163508    0.84789052\n",
       "Num_Occupants -0.01256684  0.01251864 -0.04163508  1.00000000   -0.04803415\n",
       "Avg_Age        0.64298171 -0.67257949  0.84789052 -0.04803415    1.00000000\n",
       "Home_Size      0.20071164 -0.21393926  0.38119082 -0.02253438    0.30655725\n",
       "              Home_Size  \n",
       "Insulation     0.20071164\n",
       "Temperature   -0.21393926\n",
       "Heating_Oil    0.38119082\n",
       "Num_Occupants -0.02253438\n",
       "Avg_Age        0.30655725\n",
       "Home_Size      1.00000000"
      ]
     },
     "metadata": {},
     "output_type": "display_data"
    }
   ],
   "source": [
    "cor(heating)"
   ]
  },
  {
   "cell_type": "code",
   "execution_count": 57,
   "metadata": {},
   "outputs": [
    {
     "data": {
      "image/png": "[encoded data removed]",
      "text/plain": [
       "Plot with title \"\""
      ]
     },
     "metadata": {},
     "output_type": "display_data"
    },
    {
     "data": {
      "image/png": "[encoded data removed]",
      "text/plain": [
       "plot without title"
      ]
     },
     "metadata": {},
     "output_type": "display_data"
    }
   ],
   "source": [
    "options(repr.plot.width=7, repr.plot.hieght=7)\n",
    "corrplot(cor(heating), method=\"number\", tl.col=\"black\", col=c(\"purple\",\"plum\",\"lightblue\"))\n",
    "pairs(heating)"
   ]
  },
  {
   "cell_type": "markdown",
   "metadata": {},
   "source": [
    "$\\rightarrow$ As we can see from the results of corrplot() and pairs(), the positions in which correlations are high in the correlation plot demonstrates positively or negatively strong correlation between variables through the shape of the plots.\n",
    "<br>\n",
    "<br>\n",
    "As presented above, there is a positive correlation between age and heating oil consumption with r = 0.85 as well as between insulution and heating oil consumption with r = 0.74.\n",
    "<br>\n",
    "<br>\n",
    "Also, there is a negative correlation between temperature and heating oil consumption with r = -0.77."
   ]
  },
  {
   "cell_type": "markdown",
   "metadata": {},
   "source": [
    "### Evaluation\n",
    "#### Consider your list of correlations which are significant and/or important. Do they make sense? (Both in strength and whether they are positive and negative)\n",
    "\n",
    "Heating Oil Consumption vs.\n",
    "<br>\n",
    "<br>\n",
    "1) Insulution: r = 0.74\n",
    "$\\rightarrow$ The better insulution one prepaare, the colder the rigion they live in and the more they consume heating oil.\n",
    "<br>\n",
    "<br>\n",
    "1) Temperature: r = -0.77\n",
    "$\\rightarrow$ The lower the temperature is, the more heating oil people consume.\n",
    "<br>\n",
    "<br>\n",
    "1) Average Age: r = 0.85\n",
    "$\\rightarrow$ The older people are, the lower the resistence cold weather and the more heating oil they consume."
   ]
  },
  {
   "cell_type": "markdown",
   "metadata": {},
   "source": [
    "#### Are there any variables for which you expected a correlation but didn't find one?\n",
    "\n",
    "Under my assumption that larger houses would require a greater amount of heating oil to warm the house compared to a smaller huse. Yet, p-value was not small enough to prove the statistical significance of the relationship between house size and heating oil consumption. This was shouwn by the small value of correlation through corrplot().\n",
    "<br>\n",
    "<br>\n",
    "Also, the correlation between the number of occupants and the heating oil consumption was expected to be large. Yet, the statistical significance was not proven due to the very large p-value and the correlation appears to be extremely small with r = -0.04"
   ]
  },
  {
   "cell_type": "markdown",
   "metadata": {},
   "source": [
    "### Deployment"
   ]
  },
  {
   "cell_type": "markdown",
   "metadata": {},
   "source": [
    "#### What variables would you recommend the company use to predict heating oil usage?\n",
    "temperature, insulution and the average age of the rigional population\n",
    "#### It costs money to collect data. Which variables could they stop collecting?\n",
    "number of occupants per household and house size\n",
    "#### Are there any variables which they haven't included in the dataset that might be useful?\n",
    "The fluctuation of the oil price in short term.\n",
    "$\\rightarrow$ This is an action to predict consumers' behavior that may happen in the future depending on whetehr the oil price is predicted to either rise or drop. If the oil price is expected to drop in the near future, people will try to buy as much oil as possible to stock in preparation to the rising oil price. \n",
    "#### Would you make any changes to how the data are collected?\n",
    "The data should be collected at each seasonal change. Also, the companies should collect data by rigion since people's behavior on oil consumption changes depending on location and weather of the region.\n",
    "#### What steps could the company act on these data?\n",
    "- More accurate scale to categorize or magnify data values\n",
    "- How much usage of oil is a lot? (standard to determine the quatitative value of a condition.\n",
    "- A wide range of categories of data $\\rightarrow$ might be difficult to determine the limit of a decision making point for either reducing oil or increasing the oil supply."
   ]
  },
  {
   "cell_type": "code",
   "execution_count": null,
   "metadata": {},
   "outputs": [],
   "source": []
  }
 ],
 "metadata": {
  "kernelspec": {
   "display_name": "R",
   "language": "R",
   "name": "ir"
  },
  "language_info": {
   "codemirror_mode": "r",
   "file_extension": ".r",
   "mimetype": "text/x-r-source",
   "name": "R",
   "pygments_lexer": "r",
   "version": "3.5.1"
  }
 },
 "nbformat": 4,
 "nbformat_minor": 2
}
