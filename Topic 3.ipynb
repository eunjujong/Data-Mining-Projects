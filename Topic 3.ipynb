{
 "cells": [
  {
   "cell_type": "markdown",
   "metadata": {},
   "source": [
    "# Exercise 3\n",
    "## Cricket Chirping Data"
   ]
  },
  {
   "cell_type": "code",
   "execution_count": 6,
   "metadata": {},
   "outputs": [
    {
     "data": {
      "text/html": [
       "<table>\n",
       "<thead><tr><th scope=col>Chirpspersecond</th><th scope=col>Temperature</th></tr></thead>\n",
       "<tbody>\n",
       "\t<tr><td>  NA    </td><td>93.66667</td></tr>\n",
       "\t<tr><td>20.0    </td><td>88.60000</td></tr>\n",
       "\t<tr><td>16.0    </td><td>71.60000</td></tr>\n",
       "\t<tr><td>19.8    </td><td>93.30000</td></tr>\n",
       "\t<tr><td>18.4    </td><td>84.30000</td></tr>\n",
       "\t<tr><td>17.1    </td><td>80.60000</td></tr>\n",
       "</tbody>\n",
       "</table>\n"
      ],
      "text/latex": [
       "\\begin{tabular}{r|ll}\n",
       " Chirpspersecond & Temperature\\\\\n",
       "\\hline\n",
       "\t   NA     & 93.66667\\\\\n",
       "\t 20.0     & 88.60000\\\\\n",
       "\t 16.0     & 71.60000\\\\\n",
       "\t 19.8     & 93.30000\\\\\n",
       "\t 18.4     & 84.30000\\\\\n",
       "\t 17.1     & 80.60000\\\\\n",
       "\\end{tabular}\n"
      ],
      "text/markdown": [
       "\n",
       "Chirpspersecond | Temperature | \n",
       "|---|---|---|---|---|---|\n",
       "|   NA     | 93.66667 | \n",
       "| 20.0     | 88.60000 | \n",
       "| 16.0     | 71.60000 | \n",
       "| 19.8     | 93.30000 | \n",
       "| 18.4     | 84.30000 | \n",
       "| 17.1     | 80.60000 | \n",
       "\n",
       "\n"
      ],
      "text/plain": [
       "  Chirpspersecond Temperature\n",
       "1   NA            93.66667   \n",
       "2 20.0            88.60000   \n",
       "3 16.0            71.60000   \n",
       "4 19.8            93.30000   \n",
       "5 18.4            84.30000   \n",
       "6 17.1            80.60000   "
      ]
     },
     "metadata": {},
     "output_type": "display_data"
    },
    {
     "data": {
      "text/plain": [
       " Chirpspersecond  Temperature   \n",
       " Min.   :13.20   Min.   :69.40  \n",
       " 1st Qu.:15.30   1st Qu.:76.03  \n",
       " Median :16.10   Median :81.30  \n",
       " Mean   :16.44   Mean   :80.89  \n",
       " 3rd Qu.:17.12   3rd Qu.:83.70  \n",
       " Max.   :20.00   Max.   :93.67  \n",
       " NA's   :1       NA's   :1      "
      ]
     },
     "metadata": {},
     "output_type": "display_data"
    }
   ],
   "source": [
    "library(repr)\n",
    "\n",
    "crickets <- read.csv(\"crickets.csv\")\n",
    "head(crickets)\n",
    "summary(crickets)\n",
    "#crickets <- crickets[complete.cases(crickets), ]"
   ]
  },
  {
   "cell_type": "code",
   "execution_count": 13,
   "metadata": {},
   "outputs": [
    {
     "data": {
      "image/png": "[encoded data removed]",
      "text/plain": [
       "plot without title"
      ]
     },
     "metadata": {},
     "output_type": "display_data"
    }
   ],
   "source": [
    "options(repr.plot.width=4, repr.plot.height=4)\n",
    "plot(crickets$Temperature, crickets$Chirpspersecond, xlab=\"Temperature\", ylab=\"numCrickets/Sec\")"
   ]
  },
  {
   "cell_type": "markdown",
   "metadata": {},
   "source": [
    "$\\rightarrow\\ $ There is a positive linear tendency between temperature and the number of crickets per second. This can be intepreted as a positive correlation between temperature and the number of crickets per second."
   ]
  },
  {
   "cell_type": "markdown",
   "metadata": {},
   "source": [
    "### Using Pearson's Correlation Test\n",
    "Demonstarte the linear relationship of variables:"
   ]
  },
  {
   "cell_type": "code",
   "execution_count": 17,
   "metadata": {},
   "outputs": [
    {
     "data": {
      "text/plain": [
       "\n",
       "\tPearson's product-moment correlation\n",
       "\n",
       "data:  crickets$Temperature and crickets$Chirpspersecond\n",
       "t = 5.4745, df = 13, p-value = 0.0001067\n",
       "alternative hypothesis: true correlation is not equal to 0\n",
       "95 percent confidence interval:\n",
       " 0.5642928 0.9436856\n",
       "sample estimates:\n",
       "      cor \n",
       "0.8351438 \n"
      ]
     },
     "metadata": {},
     "output_type": "display_data"
    }
   ],
   "source": [
    "#Pearson's Corr. Test\n",
    "cor.test(crickets$Temperature, crickets$Chirpspersecond)\n",
    "\n",
    "#Spearnam's Corr. Test\n",
    "#cor.test(crickets$Temperature, crickets$Chirpspersecond, method=\"spearman\")"
   ]
  },
  {
   "cell_type": "markdown",
   "metadata": {},
   "source": [
    "### Possibility of Causality\n",
    "There could be a causal relationship between temperature and the number of crickets because, as we can see, the numvber of crickets increases as temperature is higher. The reason we see an increase of crickets in higher temperature might be due to some other factors such as diet or environmental factor which exist in places of high temperature."
   ]
  },
  {
   "cell_type": "markdown",
   "metadata": {},
   "source": [
    "## Galton Height Data"
   ]
  },
  {
   "cell_type": "code",
   "execution_count": 94,
   "metadata": {},
   "outputs": [
    {
     "data": {
      "text/html": [
       "<table>\n",
       "<thead><tr><th scope=col>X</th><th scope=col>family</th><th scope=col>father</th><th scope=col>mother</th><th scope=col>midparentHeight</th><th scope=col>children</th><th scope=col>childNum</th><th scope=col>gender</th><th scope=col>childHeight</th></tr></thead>\n",
       "<tbody>\n",
       "\t<tr><td>1     </td><td>1     </td><td>78.5  </td><td>67.0  </td><td>75.43 </td><td>4     </td><td>1     </td><td>male  </td><td>73.2  </td></tr>\n",
       "\t<tr><td>2     </td><td>1     </td><td>78.5  </td><td>67.0  </td><td>75.43 </td><td>4     </td><td>2     </td><td>female</td><td>69.2  </td></tr>\n",
       "\t<tr><td>3     </td><td>1     </td><td>78.5  </td><td>67.0  </td><td>75.43 </td><td>4     </td><td>3     </td><td>female</td><td>69.0  </td></tr>\n",
       "\t<tr><td>4     </td><td>1     </td><td>78.5  </td><td>67.0  </td><td>75.43 </td><td>4     </td><td>4     </td><td>female</td><td>69.0  </td></tr>\n",
       "\t<tr><td>5     </td><td>2     </td><td>75.5  </td><td>66.5  </td><td>73.66 </td><td>4     </td><td>1     </td><td>male  </td><td>73.5  </td></tr>\n",
       "\t<tr><td>6     </td><td>2     </td><td>75.5  </td><td>66.5  </td><td>73.66 </td><td>4     </td><td>2     </td><td>male  </td><td>72.5  </td></tr>\n",
       "</tbody>\n",
       "</table>\n"
      ],
      "text/latex": [
       "\\begin{tabular}{r|lllllllll}\n",
       " X & family & father & mother & midparentHeight & children & childNum & gender & childHeight\\\\\n",
       "\\hline\n",
       "\t 1      & 1      & 78.5   & 67.0   & 75.43  & 4      & 1      & male   & 73.2  \\\\\n",
       "\t 2      & 1      & 78.5   & 67.0   & 75.43  & 4      & 2      & female & 69.2  \\\\\n",
       "\t 3      & 1      & 78.5   & 67.0   & 75.43  & 4      & 3      & female & 69.0  \\\\\n",
       "\t 4      & 1      & 78.5   & 67.0   & 75.43  & 4      & 4      & female & 69.0  \\\\\n",
       "\t 5      & 2      & 75.5   & 66.5   & 73.66  & 4      & 1      & male   & 73.5  \\\\\n",
       "\t 6      & 2      & 75.5   & 66.5   & 73.66  & 4      & 2      & male   & 72.5  \\\\\n",
       "\\end{tabular}\n"
      ],
      "text/markdown": [
       "\n",
       "X | family | father | mother | midparentHeight | children | childNum | gender | childHeight | \n",
       "|---|---|---|---|---|---|\n",
       "| 1      | 1      | 78.5   | 67.0   | 75.43  | 4      | 1      | male   | 73.2   | \n",
       "| 2      | 1      | 78.5   | 67.0   | 75.43  | 4      | 2      | female | 69.2   | \n",
       "| 3      | 1      | 78.5   | 67.0   | 75.43  | 4      | 3      | female | 69.0   | \n",
       "| 4      | 1      | 78.5   | 67.0   | 75.43  | 4      | 4      | female | 69.0   | \n",
       "| 5      | 2      | 75.5   | 66.5   | 73.66  | 4      | 1      | male   | 73.5   | \n",
       "| 6      | 2      | 75.5   | 66.5   | 73.66  | 4      | 2      | male   | 72.5   | \n",
       "\n",
       "\n"
      ],
      "text/plain": [
       "  X family father mother midparentHeight children childNum gender childHeight\n",
       "1 1 1      78.5   67.0   75.43           4        1        male   73.2       \n",
       "2 2 1      78.5   67.0   75.43           4        2        female 69.2       \n",
       "3 3 1      78.5   67.0   75.43           4        3        female 69.0       \n",
       "4 4 1      78.5   67.0   75.43           4        4        female 69.0       \n",
       "5 5 2      75.5   66.5   73.66           4        1        male   73.5       \n",
       "6 6 2      75.5   66.5   73.66           4        2        male   72.5       "
      ]
     },
     "metadata": {},
     "output_type": "display_data"
    }
   ],
   "source": [
    "galton <- read.csv(\"GaltonFamilies.csv\")\n",
    "head(galton)"
   ]
  },
  {
   "cell_type": "code",
   "execution_count": 97,
   "metadata": {},
   "outputs": [
    {
     "data": {
      "image/png": "[encoded data removed]",
      "text/plain": [
       "plot without title"
      ]
     },
     "metadata": {},
     "output_type": "display_data"
    }
   ],
   "source": [
    "options(repr.plot.width=4, repr.plot.height=4)\n",
    "plot(galton$father, galton$childHeight, xlab=\"Fathers' Heights\", ylab=\"chirdren's Heights\")"
   ]
  },
  {
   "cell_type": "markdown",
   "metadata": {},
   "source": [
    "$\\rightarrow$ The correlation between fathers' heights and childrens' heights are inobvious."
   ]
  },
  {
   "cell_type": "code",
   "execution_count": 98,
   "metadata": {},
   "outputs": [
    {
     "data": {
      "text/plain": [
       "\n",
       "\tPearson's product-moment correlation\n",
       "\n",
       "data:  galton$father and galton$childHeight\n",
       "t = 8.4254, df = 932, p-value < 2.2e-16\n",
       "alternative hypothesis: true correlation is not equal to 0\n",
       "95 percent confidence interval:\n",
       " 0.2053967 0.3246453\n",
       "sample estimates:\n",
       "      cor \n",
       "0.2660385 \n"
      ]
     },
     "metadata": {},
     "output_type": "display_data"
    }
   ],
   "source": [
    "cor.test(galton$father, galton$childHeight)"
   ]
  },
  {
   "cell_type": "markdown",
   "metadata": {},
   "source": [
    "$\\rightarrow\\ p = 2.2 x 10^{16}$ indicates that there is a statistically significant relationship between father's height and children's height."
   ]
  },
  {
   "cell_type": "markdown",
   "metadata": {},
   "source": [
    "#### For which variables would use prefer to use Spearman's correlation instead of Pearson's?\n",
    "for variables that do not indicate quatitative information of for variables that do not have linear relationships."
   ]
  },
  {
   "cell_type": "markdown",
   "metadata": {},
   "source": [
    "### Algae Data"
   ]
  },
  {
   "cell_type": "code",
   "execution_count": 108,
   "metadata": {},
   "outputs": [
    {
     "data": {
      "text/html": [
       "<table>\n",
       "<thead><tr><th scope=col>season</th><th scope=col>size</th><th scope=col>speed</th><th scope=col>mxPH</th><th scope=col>mnO2</th><th scope=col>Cl</th><th scope=col>NO3</th><th scope=col>NH4</th><th scope=col>oPO4</th><th scope=col>PO4</th><th scope=col>Chla</th><th scope=col>a1</th><th scope=col>a2</th><th scope=col>a3</th><th scope=col>a4</th><th scope=col>a5</th><th scope=col>a6</th><th scope=col>a7</th></tr></thead>\n",
       "<tbody>\n",
       "\t<tr><td>winter </td><td>small  </td><td>medium </td><td>8.00   </td><td> 9.8   </td><td>60.800 </td><td> 6.238 </td><td>578.000</td><td>105.000</td><td>170.000</td><td>50.0   </td><td> 0.0   </td><td> 0.0   </td><td> 0.0   </td><td>0.0    </td><td>34.2   </td><td> 8.3   </td><td>0.0    </td></tr>\n",
       "\t<tr><td>spring </td><td>small  </td><td>medium </td><td>8.35   </td><td> 8.0   </td><td>57.750 </td><td> 1.288 </td><td>370.000</td><td>428.750</td><td>558.750</td><td> 1.3   </td><td> 1.4   </td><td> 7.6   </td><td> 4.8   </td><td>1.9    </td><td> 6.7   </td><td> 0.0   </td><td>2.1    </td></tr>\n",
       "\t<tr><td>autumn </td><td>small  </td><td>medium </td><td>8.10   </td><td>11.4   </td><td>40.020 </td><td> 5.330 </td><td>346.667</td><td>125.667</td><td>187.057</td><td>15.6   </td><td> 3.3   </td><td>53.6   </td><td> 1.9   </td><td>0.0    </td><td> 0.0   </td><td> 0.0   </td><td>9.7    </td></tr>\n",
       "\t<tr><td>spring </td><td>small  </td><td>medium </td><td>8.07   </td><td> 4.8   </td><td>77.364 </td><td> 2.302 </td><td> 98.182</td><td> 61.182</td><td>138.700</td><td> 1.4   </td><td> 3.1   </td><td>41.0   </td><td>18.9   </td><td>0.0    </td><td> 1.4   </td><td> 0.0   </td><td>1.4    </td></tr>\n",
       "\t<tr><td>autumn </td><td>small  </td><td>medium </td><td>8.06   </td><td> 9.0   </td><td>55.350 </td><td>10.416 </td><td>233.700</td><td> 58.222</td><td> 97.580</td><td>10.5   </td><td> 9.2   </td><td> 2.9   </td><td> 7.5   </td><td>0.0    </td><td> 7.5   </td><td> 4.1   </td><td>1.0    </td></tr>\n",
       "\t<tr><td>winter </td><td>small  </td><td>high   </td><td>8.25   </td><td>13.1   </td><td>65.750 </td><td> 9.248 </td><td>430.000</td><td> 18.250</td><td> 56.667</td><td>28.4   </td><td>15.1   </td><td>14.6   </td><td> 1.4   </td><td>0.0    </td><td>22.5   </td><td>12.6   </td><td>2.9    </td></tr>\n",
       "</tbody>\n",
       "</table>\n"
      ],
      "text/latex": [
       "\\begin{tabular}{r|llllllllllllllllll}\n",
       " season & size & speed & mxPH & mnO2 & Cl & NO3 & NH4 & oPO4 & PO4 & Chla & a1 & a2 & a3 & a4 & a5 & a6 & a7\\\\\n",
       "\\hline\n",
       "\t winter  & small   & medium  & 8.00    &  9.8    & 60.800  &  6.238  & 578.000 & 105.000 & 170.000 & 50.0    &  0.0    &  0.0    &  0.0    & 0.0     & 34.2    &  8.3    & 0.0    \\\\\n",
       "\t spring  & small   & medium  & 8.35    &  8.0    & 57.750  &  1.288  & 370.000 & 428.750 & 558.750 &  1.3    &  1.4    &  7.6    &  4.8    & 1.9     &  6.7    &  0.0    & 2.1    \\\\\n",
       "\t autumn  & small   & medium  & 8.10    & 11.4    & 40.020  &  5.330  & 346.667 & 125.667 & 187.057 & 15.6    &  3.3    & 53.6    &  1.9    & 0.0     &  0.0    &  0.0    & 9.7    \\\\\n",
       "\t spring  & small   & medium  & 8.07    &  4.8    & 77.364  &  2.302  &  98.182 &  61.182 & 138.700 &  1.4    &  3.1    & 41.0    & 18.9    & 0.0     &  1.4    &  0.0    & 1.4    \\\\\n",
       "\t autumn  & small   & medium  & 8.06    &  9.0    & 55.350  & 10.416  & 233.700 &  58.222 &  97.580 & 10.5    &  9.2    &  2.9    &  7.5    & 0.0     &  7.5    &  4.1    & 1.0    \\\\\n",
       "\t winter  & small   & high    & 8.25    & 13.1    & 65.750  &  9.248  & 430.000 &  18.250 &  56.667 & 28.4    & 15.1    & 14.6    &  1.4    & 0.0     & 22.5    & 12.6    & 2.9    \\\\\n",
       "\\end{tabular}\n"
      ],
      "text/markdown": [
       "\n",
       "season | size | speed | mxPH | mnO2 | Cl | NO3 | NH4 | oPO4 | PO4 | Chla | a1 | a2 | a3 | a4 | a5 | a6 | a7 | \n",
       "|---|---|---|---|---|---|\n",
       "| winter  | small   | medium  | 8.00    |  9.8    | 60.800  |  6.238  | 578.000 | 105.000 | 170.000 | 50.0    |  0.0    |  0.0    |  0.0    | 0.0     | 34.2    |  8.3    | 0.0     | \n",
       "| spring  | small   | medium  | 8.35    |  8.0    | 57.750  |  1.288  | 370.000 | 428.750 | 558.750 |  1.3    |  1.4    |  7.6    |  4.8    | 1.9     |  6.7    |  0.0    | 2.1     | \n",
       "| autumn  | small   | medium  | 8.10    | 11.4    | 40.020  |  5.330  | 346.667 | 125.667 | 187.057 | 15.6    |  3.3    | 53.6    |  1.9    | 0.0     |  0.0    |  0.0    | 9.7     | \n",
       "| spring  | small   | medium  | 8.07    |  4.8    | 77.364  |  2.302  |  98.182 |  61.182 | 138.700 |  1.4    |  3.1    | 41.0    | 18.9    | 0.0     |  1.4    |  0.0    | 1.4     | \n",
       "| autumn  | small   | medium  | 8.06    |  9.0    | 55.350  | 10.416  | 233.700 |  58.222 |  97.580 | 10.5    |  9.2    |  2.9    |  7.5    | 0.0     |  7.5    |  4.1    | 1.0     | \n",
       "| winter  | small   | high    | 8.25    | 13.1    | 65.750  |  9.248  | 430.000 |  18.250 |  56.667 | 28.4    | 15.1    | 14.6    |  1.4    | 0.0     | 22.5    | 12.6    | 2.9     | \n",
       "\n",
       "\n"
      ],
      "text/plain": [
       "  season size  speed  mxPH mnO2 Cl     NO3    NH4     oPO4    PO4     Chla a1  \n",
       "1 winter small medium 8.00  9.8 60.800  6.238 578.000 105.000 170.000 50.0  0.0\n",
       "2 spring small medium 8.35  8.0 57.750  1.288 370.000 428.750 558.750  1.3  1.4\n",
       "3 autumn small medium 8.10 11.4 40.020  5.330 346.667 125.667 187.057 15.6  3.3\n",
       "4 spring small medium 8.07  4.8 77.364  2.302  98.182  61.182 138.700  1.4  3.1\n",
       "5 autumn small medium 8.06  9.0 55.350 10.416 233.700  58.222  97.580 10.5  9.2\n",
       "6 winter small high   8.25 13.1 65.750  9.248 430.000  18.250  56.667 28.4 15.1\n",
       "  a2   a3   a4  a5   a6   a7 \n",
       "1  0.0  0.0 0.0 34.2  8.3 0.0\n",
       "2  7.6  4.8 1.9  6.7  0.0 2.1\n",
       "3 53.6  1.9 0.0  0.0  0.0 9.7\n",
       "4 41.0 18.9 0.0  1.4  0.0 1.4\n",
       "5  2.9  7.5 0.0  7.5  4.1 1.0\n",
       "6 14.6  1.4 0.0 22.5 12.6 2.9"
      ]
     },
     "metadata": {},
     "output_type": "display_data"
    }
   ],
   "source": [
    "algae <- read.csv(\"algae.csv\")\n",
    "head(algae)"
   ]
  },
  {
   "cell_type": "code",
   "execution_count": 109,
   "metadata": {},
   "outputs": [
    {
     "data": {
      "image/png": "[encoded data removed]",
      "text/plain": [
       "plot without title"
      ]
     },
     "metadata": {},
     "output_type": "display_data"
    }
   ],
   "source": [
    "options(repr.plot.width=6, repr.plot.height=6)\n",
    "pairs(algae[4:12])"
   ]
  },
  {
   "cell_type": "code",
   "execution_count": 110,
   "metadata": {},
   "outputs": [
    {
     "data": {
      "image/png": "[encoded data removed]",
      "text/plain": [
       "plot without title"
      ]
     },
     "metadata": {},
     "output_type": "display_data"
    }
   ],
   "source": [
    "# Do you see any significant trends?\n",
    "par(mfrow=c(2,2))\n",
    "options(repr.plot.width=4, repr.plot.height=5)\n",
    "plot(algae$PO4, algae$oPO4, xlab=\"PO4\", ylab=\"oPO4\")\n",
    "plot(algae$oPO4, algae$PO4, xlab=\"oPO4\", ylab=\"PO4\")\n",
    "plot(algae$a1, algae$Chla, xlab=\"oPO4\", ylab=\"Chla\")"
   ]
  },
  {
   "cell_type": "code",
   "execution_count": 111,
   "metadata": {
    "scrolled": true
   },
   "outputs": [
    {
     "data": {
      "text/html": [
       "<table>\n",
       "<thead><tr><th></th><th scope=col>mxPH</th><th scope=col>mnO2</th><th scope=col>Cl</th><th scope=col>NO3</th><th scope=col>NH4</th><th scope=col>oPO4</th><th scope=col>PO4</th><th scope=col>Chla</th><th scope=col>a1</th></tr></thead>\n",
       "<tbody>\n",
       "\t<tr><th scope=row>mxPH</th><td> 1.00000000</td><td>-0.10269374</td><td> 0.14709539</td><td>-0.1721302 </td><td>-0.15429757</td><td> 0.09022909</td><td> 0.1013296 </td><td> 0.43182377</td><td>-0.1626299 </td></tr>\n",
       "\t<tr><th scope=row>mnO2</th><td>-0.10269374</td><td> 1.00000000</td><td>-0.26324536</td><td> 0.1179077 </td><td>-0.07826816</td><td>-0.39375269</td><td>-0.4639607 </td><td>-0.13121671</td><td> 0.2499837 </td></tr>\n",
       "\t<tr><th scope=row>Cl</th><td> 0.14709539</td><td>-0.26324536</td><td> 1.00000000</td><td> 0.2109583 </td><td> 0.06598336</td><td> 0.37925596</td><td> 0.4451912 </td><td> 0.14295776</td><td>-0.3592395 </td></tr>\n",
       "\t<tr><th scope=row>NO3</th><td>-0.17213024</td><td> 0.11790769</td><td> 0.21095831</td><td> 1.0000000 </td><td> 0.72467766</td><td> 0.13301452</td><td> 0.1570297 </td><td> 0.14549290</td><td>-0.2472392 </td></tr>\n",
       "\t<tr><th scope=row>NH4</th><td>-0.15429757</td><td>-0.07826816</td><td> 0.06598336</td><td> 0.7246777 </td><td> 1.00000000</td><td> 0.21931121</td><td> 0.1993958 </td><td> 0.09120406</td><td>-0.1236058 </td></tr>\n",
       "\t<tr><th scope=row>oPO4</th><td> 0.09022909</td><td>-0.39375269</td><td> 0.37925596</td><td> 0.1330145 </td><td> 0.21931121</td><td> 1.00000000</td><td> 0.9119646 </td><td> 0.10691478</td><td>-0.3945745 </td></tr>\n",
       "\t<tr><th scope=row>PO4</th><td> 0.10132957</td><td>-0.46396073</td><td> 0.44519118</td><td> 0.1570297 </td><td> 0.19939575</td><td> 0.91196460</td><td> 1.0000000 </td><td> 0.24849223</td><td>-0.4581678 </td></tr>\n",
       "\t<tr><th scope=row>Chla</th><td> 0.43182377</td><td>-0.13121671</td><td> 0.14295776</td><td> 0.1454929 </td><td> 0.09120406</td><td> 0.10691478</td><td> 0.2484922 </td><td> 1.00000000</td><td>-0.2660109 </td></tr>\n",
       "\t<tr><th scope=row>a1</th><td>-0.16262986</td><td> 0.24998372</td><td>-0.35923946</td><td>-0.2472392 </td><td>-0.12360578</td><td>-0.39457448</td><td>-0.4581678 </td><td>-0.26601088</td><td> 1.0000000 </td></tr>\n",
       "</tbody>\n",
       "</table>\n"
      ],
      "text/latex": [
       "\\begin{tabular}{r|lllllllll}\n",
       "  & mxPH & mnO2 & Cl & NO3 & NH4 & oPO4 & PO4 & Chla & a1\\\\\n",
       "\\hline\n",
       "\tmxPH &  1.00000000 & -0.10269374 &  0.14709539 & -0.1721302  & -0.15429757 &  0.09022909 &  0.1013296  &  0.43182377 & -0.1626299 \\\\\n",
       "\tmnO2 & -0.10269374 &  1.00000000 & -0.26324536 &  0.1179077  & -0.07826816 & -0.39375269 & -0.4639607  & -0.13121671 &  0.2499837 \\\\\n",
       "\tCl &  0.14709539 & -0.26324536 &  1.00000000 &  0.2109583  &  0.06598336 &  0.37925596 &  0.4451912  &  0.14295776 & -0.3592395 \\\\\n",
       "\tNO3 & -0.17213024 &  0.11790769 &  0.21095831 &  1.0000000  &  0.72467766 &  0.13301452 &  0.1570297  &  0.14549290 & -0.2472392 \\\\\n",
       "\tNH4 & -0.15429757 & -0.07826816 &  0.06598336 &  0.7246777  &  1.00000000 &  0.21931121 &  0.1993958  &  0.09120406 & -0.1236058 \\\\\n",
       "\toPO4 &  0.09022909 & -0.39375269 &  0.37925596 &  0.1330145  &  0.21931121 &  1.00000000 &  0.9119646  &  0.10691478 & -0.3945745 \\\\\n",
       "\tPO4 &  0.10132957 & -0.46396073 &  0.44519118 &  0.1570297  &  0.19939575 &  0.91196460 &  1.0000000  &  0.24849223 & -0.4581678 \\\\\n",
       "\tChla &  0.43182377 & -0.13121671 &  0.14295776 &  0.1454929  &  0.09120406 &  0.10691478 &  0.2484922  &  1.00000000 & -0.2660109 \\\\\n",
       "\ta1 & -0.16262986 &  0.24998372 & -0.35923946 & -0.2472392  & -0.12360578 & -0.39457448 & -0.4581678  & -0.26601088 &  1.0000000 \\\\\n",
       "\\end{tabular}\n"
      ],
      "text/markdown": [
       "\n",
       "| <!--/--> | mxPH | mnO2 | Cl | NO3 | NH4 | oPO4 | PO4 | Chla | a1 | \n",
       "|---|---|---|---|---|---|---|---|---|\n",
       "| mxPH |  1.00000000 | -0.10269374 |  0.14709539 | -0.1721302  | -0.15429757 |  0.09022909 |  0.1013296  |  0.43182377 | -0.1626299  | \n",
       "| mnO2 | -0.10269374 |  1.00000000 | -0.26324536 |  0.1179077  | -0.07826816 | -0.39375269 | -0.4639607  | -0.13121671 |  0.2499837  | \n",
       "| Cl |  0.14709539 | -0.26324536 |  1.00000000 |  0.2109583  |  0.06598336 |  0.37925596 |  0.4451912  |  0.14295776 | -0.3592395  | \n",
       "| NO3 | -0.17213024 |  0.11790769 |  0.21095831 |  1.0000000  |  0.72467766 |  0.13301452 |  0.1570297  |  0.14549290 | -0.2472392  | \n",
       "| NH4 | -0.15429757 | -0.07826816 |  0.06598336 |  0.7246777  |  1.00000000 |  0.21931121 |  0.1993958  |  0.09120406 | -0.1236058  | \n",
       "| oPO4 |  0.09022909 | -0.39375269 |  0.37925596 |  0.1330145  |  0.21931121 |  1.00000000 |  0.9119646  |  0.10691478 | -0.3945745  | \n",
       "| PO4 |  0.10132957 | -0.46396073 |  0.44519118 |  0.1570297  |  0.19939575 |  0.91196460 |  1.0000000  |  0.24849223 | -0.4581678  | \n",
       "| Chla |  0.43182377 | -0.13121671 |  0.14295776 |  0.1454929  |  0.09120406 |  0.10691478 |  0.2484922  |  1.00000000 | -0.2660109  | \n",
       "| a1 | -0.16262986 |  0.24998372 | -0.35923946 | -0.2472392  | -0.12360578 | -0.39457448 | -0.4581678  | -0.26601088 |  1.0000000  | \n",
       "\n",
       "\n"
      ],
      "text/plain": [
       "     mxPH        mnO2        Cl          NO3        NH4         oPO4       \n",
       "mxPH  1.00000000 -0.10269374  0.14709539 -0.1721302 -0.15429757  0.09022909\n",
       "mnO2 -0.10269374  1.00000000 -0.26324536  0.1179077 -0.07826816 -0.39375269\n",
       "Cl    0.14709539 -0.26324536  1.00000000  0.2109583  0.06598336  0.37925596\n",
       "NO3  -0.17213024  0.11790769  0.21095831  1.0000000  0.72467766  0.13301452\n",
       "NH4  -0.15429757 -0.07826816  0.06598336  0.7246777  1.00000000  0.21931121\n",
       "oPO4  0.09022909 -0.39375269  0.37925596  0.1330145  0.21931121  1.00000000\n",
       "PO4   0.10132957 -0.46396073  0.44519118  0.1570297  0.19939575  0.91196460\n",
       "Chla  0.43182377 -0.13121671  0.14295776  0.1454929  0.09120406  0.10691478\n",
       "a1   -0.16262986  0.24998372 -0.35923946 -0.2472392 -0.12360578 -0.39457448\n",
       "     PO4        Chla        a1        \n",
       "mxPH  0.1013296  0.43182377 -0.1626299\n",
       "mnO2 -0.4639607 -0.13121671  0.2499837\n",
       "Cl    0.4451912  0.14295776 -0.3592395\n",
       "NO3   0.1570297  0.14549290 -0.2472392\n",
       "NH4   0.1993958  0.09120406 -0.1236058\n",
       "oPO4  0.9119646  0.10691478 -0.3945745\n",
       "PO4   1.0000000  0.24849223 -0.4581678\n",
       "Chla  0.2484922  1.00000000 -0.2660109\n",
       "a1   -0.4581678 -0.26601088  1.0000000"
      ]
     },
     "metadata": {},
     "output_type": "display_data"
    }
   ],
   "source": [
    "algae <- algae[complete.cases(algae), ]\n",
    "\n",
    "cor(algae[, 4:12])"
   ]
  },
  {
   "cell_type": "code",
   "execution_count": 112,
   "metadata": {},
   "outputs": [
    {
     "data": {
      "text/plain": [
       "\n",
       "\tPearson's product-moment correlation\n",
       "\n",
       "data:  algae$oPO4 and algae$mxPH\n",
       "t = 1.2222, df = 182, p-value = 0.2232\n",
       "alternative hypothesis: true correlation is not equal to 0\n",
       "95 percent confidence interval:\n",
       " -0.05515181  0.23186367\n",
       "sample estimates:\n",
       "       cor \n",
       "0.09022909 \n"
      ]
     },
     "metadata": {},
     "output_type": "display_data"
    },
    {
     "data": {
      "text/plain": [
       "\n",
       "\tPearson's product-moment correlation\n",
       "\n",
       "data:  algae$NH4 and algae$mnO2\n",
       "t = -1.0591, df = 182, p-value = 0.2909\n",
       "alternative hypothesis: true correlation is not equal to 0\n",
       "95 percent confidence interval:\n",
       " -0.22043335  0.06715319\n",
       "sample estimates:\n",
       "        cor \n",
       "-0.07826816 \n"
      ]
     },
     "metadata": {},
     "output_type": "display_data"
    },
    {
     "data": {
      "text/plain": [
       "\n",
       "\tPearson's product-moment correlation\n",
       "\n",
       "data:  algae$NH4 and algae$Cl\n",
       "t = 0.89211, df = 182, p-value = 0.3735\n",
       "alternative hypothesis: true correlation is not equal to 0\n",
       "95 percent confidence interval:\n",
       " -0.07943589  0.20865274\n",
       "sample estimates:\n",
       "       cor \n",
       "0.06598336 \n"
      ]
     },
     "metadata": {},
     "output_type": "display_data"
    },
    {
     "data": {
      "text/plain": [
       "\n",
       "\tPearson's product-moment correlation\n",
       "\n",
       "data:  algae$Cl and algae$NH4\n",
       "t = 0.89211, df = 182, p-value = 0.3735\n",
       "alternative hypothesis: true correlation is not equal to 0\n",
       "95 percent confidence interval:\n",
       " -0.07943589  0.20865274\n",
       "sample estimates:\n",
       "       cor \n",
       "0.06598336 \n"
      ]
     },
     "metadata": {},
     "output_type": "display_data"
    }
   ],
   "source": [
    "cor.test(algae$oPO4, algae$mxPH)\n",
    "cor.test(algae$NH4, algae$mnO2)\n",
    "cor.test(algae$NH4, algae$Cl)\n",
    "cor.test(algae$Cl, algae$NH4)"
   ]
  },
  {
   "cell_type": "code",
   "execution_count": 113,
   "metadata": {},
   "outputs": [],
   "source": [
    "#algae$a1 <- log(algae$a1)\n",
    "algae$oPO4 <- log(algae$oPO4)\n",
    "algae$PO4 <- log(algae$PO4)\n",
    "algae$Chla <- log(algae$Chla)"
   ]
  },
  {
   "cell_type": "code",
   "execution_count": 114,
   "metadata": {},
   "outputs": [
    {
     "data": {
      "image/png": "[encoded data removed]",
      "text/plain": [
       "plot without title"
      ]
     },
     "metadata": {},
     "output_type": "display_data"
    }
   ],
   "source": [
    "options(repr.plot.width=6, repr.plot.height=6)\n",
    "pairs(algae[4:12])"
   ]
  },
  {
   "cell_type": "code",
   "execution_count": 115,
   "metadata": {},
   "outputs": [
    {
     "data": {
      "text/html": [
       "<table>\n",
       "<thead><tr><th></th><th scope=col>mxPH</th><th scope=col>mnO2</th><th scope=col>Cl</th><th scope=col>NO3</th><th scope=col>NH4</th><th scope=col>oPO4</th><th scope=col>PO4</th><th scope=col>Chla</th><th scope=col>a1</th></tr></thead>\n",
       "<tbody>\n",
       "\t<tr><th scope=row>mxPH</th><td> 1.0000000 </td><td>-0.10269374</td><td> 0.14709539</td><td>-0.1721302 </td><td>-0.15429757</td><td> 0.2365793 </td><td> 0.20315521</td><td> 0.4313916 </td><td>-0.1626299 </td></tr>\n",
       "\t<tr><th scope=row>mnO2</th><td>-0.1026937 </td><td> 1.00000000</td><td>-0.26324536</td><td> 0.1179077 </td><td>-0.07826816</td><td>-0.4206634 </td><td>-0.45775576</td><td>-0.2103468 </td><td> 0.2499837 </td></tr>\n",
       "\t<tr><th scope=row>Cl</th><td> 0.1470954 </td><td>-0.26324536</td><td> 1.00000000</td><td> 0.2109583 </td><td> 0.06598336</td><td> 0.4710604 </td><td> 0.49774692</td><td> 0.3397319 </td><td>-0.3592395 </td></tr>\n",
       "\t<tr><th scope=row>NO3</th><td>-0.1721302 </td><td> 0.11790769</td><td> 0.21095831</td><td> 1.0000000 </td><td> 0.72467766</td><td> 0.2455997 </td><td> 0.21050178</td><td> 0.2766312 </td><td>-0.2472392 </td></tr>\n",
       "\t<tr><th scope=row>NH4</th><td>-0.1542976 </td><td>-0.07826816</td><td> 0.06598336</td><td> 0.7246777 </td><td> 1.00000000</td><td> 0.1355710 </td><td> 0.08067827</td><td> 0.1061744 </td><td>-0.1236058 </td></tr>\n",
       "\t<tr><th scope=row>oPO4</th><td> 0.2365793 </td><td>-0.42066336</td><td> 0.47106036</td><td> 0.2455997 </td><td> 0.13557097</td><td> 1.0000000 </td><td> 0.90964663</td><td> 0.5103850 </td><td>-0.6132810 </td></tr>\n",
       "\t<tr><th scope=row>PO4</th><td> 0.2031552 </td><td>-0.45775576</td><td> 0.49774692</td><td> 0.2105018 </td><td> 0.08067827</td><td> 0.9096466 </td><td> 1.00000000</td><td> 0.5849569 </td><td>-0.6228573 </td></tr>\n",
       "\t<tr><th scope=row>Chla</th><td> 0.4313916 </td><td>-0.21034680</td><td> 0.33973187</td><td> 0.2766312 </td><td> 0.10617437</td><td> 0.5103850 </td><td> 0.58495691</td><td> 1.0000000 </td><td>-0.4954053 </td></tr>\n",
       "\t<tr><th scope=row>a1</th><td>-0.1626299 </td><td> 0.24998372</td><td>-0.35923946</td><td>-0.2472392 </td><td>-0.12360578</td><td>-0.6132810 </td><td>-0.62285730</td><td>-0.4954053 </td><td> 1.0000000 </td></tr>\n",
       "</tbody>\n",
       "</table>\n"
      ],
      "text/latex": [
       "\\begin{tabular}{r|lllllllll}\n",
       "  & mxPH & mnO2 & Cl & NO3 & NH4 & oPO4 & PO4 & Chla & a1\\\\\n",
       "\\hline\n",
       "\tmxPH &  1.0000000  & -0.10269374 &  0.14709539 & -0.1721302  & -0.15429757 &  0.2365793  &  0.20315521 &  0.4313916  & -0.1626299 \\\\\n",
       "\tmnO2 & -0.1026937  &  1.00000000 & -0.26324536 &  0.1179077  & -0.07826816 & -0.4206634  & -0.45775576 & -0.2103468  &  0.2499837 \\\\\n",
       "\tCl &  0.1470954  & -0.26324536 &  1.00000000 &  0.2109583  &  0.06598336 &  0.4710604  &  0.49774692 &  0.3397319  & -0.3592395 \\\\\n",
       "\tNO3 & -0.1721302  &  0.11790769 &  0.21095831 &  1.0000000  &  0.72467766 &  0.2455997  &  0.21050178 &  0.2766312  & -0.2472392 \\\\\n",
       "\tNH4 & -0.1542976  & -0.07826816 &  0.06598336 &  0.7246777  &  1.00000000 &  0.1355710  &  0.08067827 &  0.1061744  & -0.1236058 \\\\\n",
       "\toPO4 &  0.2365793  & -0.42066336 &  0.47106036 &  0.2455997  &  0.13557097 &  1.0000000  &  0.90964663 &  0.5103850  & -0.6132810 \\\\\n",
       "\tPO4 &  0.2031552  & -0.45775576 &  0.49774692 &  0.2105018  &  0.08067827 &  0.9096466  &  1.00000000 &  0.5849569  & -0.6228573 \\\\\n",
       "\tChla &  0.4313916  & -0.21034680 &  0.33973187 &  0.2766312  &  0.10617437 &  0.5103850  &  0.58495691 &  1.0000000  & -0.4954053 \\\\\n",
       "\ta1 & -0.1626299  &  0.24998372 & -0.35923946 & -0.2472392  & -0.12360578 & -0.6132810  & -0.62285730 & -0.4954053  &  1.0000000 \\\\\n",
       "\\end{tabular}\n"
      ],
      "text/markdown": [
       "\n",
       "| <!--/--> | mxPH | mnO2 | Cl | NO3 | NH4 | oPO4 | PO4 | Chla | a1 | \n",
       "|---|---|---|---|---|---|---|---|---|\n",
       "| mxPH |  1.0000000  | -0.10269374 |  0.14709539 | -0.1721302  | -0.15429757 |  0.2365793  |  0.20315521 |  0.4313916  | -0.1626299  | \n",
       "| mnO2 | -0.1026937  |  1.00000000 | -0.26324536 |  0.1179077  | -0.07826816 | -0.4206634  | -0.45775576 | -0.2103468  |  0.2499837  | \n",
       "| Cl |  0.1470954  | -0.26324536 |  1.00000000 |  0.2109583  |  0.06598336 |  0.4710604  |  0.49774692 |  0.3397319  | -0.3592395  | \n",
       "| NO3 | -0.1721302  |  0.11790769 |  0.21095831 |  1.0000000  |  0.72467766 |  0.2455997  |  0.21050178 |  0.2766312  | -0.2472392  | \n",
       "| NH4 | -0.1542976  | -0.07826816 |  0.06598336 |  0.7246777  |  1.00000000 |  0.1355710  |  0.08067827 |  0.1061744  | -0.1236058  | \n",
       "| oPO4 |  0.2365793  | -0.42066336 |  0.47106036 |  0.2455997  |  0.13557097 |  1.0000000  |  0.90964663 |  0.5103850  | -0.6132810  | \n",
       "| PO4 |  0.2031552  | -0.45775576 |  0.49774692 |  0.2105018  |  0.08067827 |  0.9096466  |  1.00000000 |  0.5849569  | -0.6228573  | \n",
       "| Chla |  0.4313916  | -0.21034680 |  0.33973187 |  0.2766312  |  0.10617437 |  0.5103850  |  0.58495691 |  1.0000000  | -0.4954053  | \n",
       "| a1 | -0.1626299  |  0.24998372 | -0.35923946 | -0.2472392  | -0.12360578 | -0.6132810  | -0.62285730 | -0.4954053  |  1.0000000  | \n",
       "\n",
       "\n"
      ],
      "text/plain": [
       "     mxPH       mnO2        Cl          NO3        NH4         oPO4      \n",
       "mxPH  1.0000000 -0.10269374  0.14709539 -0.1721302 -0.15429757  0.2365793\n",
       "mnO2 -0.1026937  1.00000000 -0.26324536  0.1179077 -0.07826816 -0.4206634\n",
       "Cl    0.1470954 -0.26324536  1.00000000  0.2109583  0.06598336  0.4710604\n",
       "NO3  -0.1721302  0.11790769  0.21095831  1.0000000  0.72467766  0.2455997\n",
       "NH4  -0.1542976 -0.07826816  0.06598336  0.7246777  1.00000000  0.1355710\n",
       "oPO4  0.2365793 -0.42066336  0.47106036  0.2455997  0.13557097  1.0000000\n",
       "PO4   0.2031552 -0.45775576  0.49774692  0.2105018  0.08067827  0.9096466\n",
       "Chla  0.4313916 -0.21034680  0.33973187  0.2766312  0.10617437  0.5103850\n",
       "a1   -0.1626299  0.24998372 -0.35923946 -0.2472392 -0.12360578 -0.6132810\n",
       "     PO4         Chla       a1        \n",
       "mxPH  0.20315521  0.4313916 -0.1626299\n",
       "mnO2 -0.45775576 -0.2103468  0.2499837\n",
       "Cl    0.49774692  0.3397319 -0.3592395\n",
       "NO3   0.21050178  0.2766312 -0.2472392\n",
       "NH4   0.08067827  0.1061744 -0.1236058\n",
       "oPO4  0.90964663  0.5103850 -0.6132810\n",
       "PO4   1.00000000  0.5849569 -0.6228573\n",
       "Chla  0.58495691  1.0000000 -0.4954053\n",
       "a1   -0.62285730 -0.4954053  1.0000000"
      ]
     },
     "metadata": {},
     "output_type": "display_data"
    }
   ],
   "source": [
    "algae <- algae[complete.cases(algae), ]\n",
    "\n",
    "cor(algae[, 4:12])"
   ]
  },
  {
   "cell_type": "markdown",
   "metadata": {},
   "source": [
    "#### How have the correlations changed?\n",
    "The correlation is statistically less significant compared to before fixing exponential variables."
   ]
  },
  {
   "cell_type": "code",
   "execution_count": null,
   "metadata": {},
   "outputs": [],
   "source": []
  }
 ],
 "metadata": {
  "kernelspec": {
   "display_name": "R",
   "language": "R",
   "name": "ir"
  },
  "language_info": {
   "codemirror_mode": "r",
   "file_extension": ".r",
   "mimetype": "text/x-r-source",
   "name": "R",
   "pygments_lexer": "r",
   "version": "3.5.1"
  }
 },
 "nbformat": 4,
 "nbformat_minor": 2
}
